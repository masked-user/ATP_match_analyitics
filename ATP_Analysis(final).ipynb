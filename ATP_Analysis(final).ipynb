{
 "cells": [
  {
   "cell_type": "markdown",
   "id": "2010b002",
   "metadata": {},
   "source": [
    "# ATP Match Aanlysis - 2023"
   ]
  },
  {
   "cell_type": "markdown",
   "id": "55bbd5b4",
   "metadata": {},
   "source": [
    "## Introduction\n",
    "\n",
    "Players all throughout the world engage in a wide variety of sports and games. It is well acknowledged that sports and competitions are crucial to the development of human resources. Sports no longer refers to pure play, which is a spontaneous activity in which the source of enjoyment is participation rather than the result. Actively participating in competitive sports helps to develop both a healthy body and mind. Players need to have a competitive streak and yet at the same time, it is important to handle losses in the right manner too. True sportspersons do not believe in quitting, they will fight until their last breath to make sure that they have it in them to handle the different adversities. There are a lot of case studies of various players and a team that battled the adversities and came out on top. There was a need to prepare the players mentally too. This inchoates a new era of analysis by crunching the data, which will alleviate the player’s mentality and wisdom towards their respective game.\n",
    "\n",
    "Over the years, a variety of data-capturing devices and technologies, have become available in the sports industry. These innovations paved the way for the sports industry to influence those data with analytics. So, those studies suggest a data-driven way of approach to both on-field and off-field analytics. Sports analytics is a field that applies data analysis technologies to analyze various components of the sports industry, such as player performance, business performance, tackling the game in different ways, recruitment, and more"
   ]
  },
  {
   "cell_type": "markdown",
   "id": "b638d04e",
   "metadata": {},
   "source": [
    "## Summary\n",
    "In recent years, the trending words ‘Big Data’ and ’Analytics’ heard in each and every field of study, especially in the applications and conjoining the terms with fields like Finance Analytics, Business Analytics, Risk Analytics, Data Analytics, and so on. In such a way, sports have also taken their journey, to have a scientific way of studying and analyzing the nature of tackling the game by the players’ performance and started using the new digital technological tools to bring out a lane with ‘Analytical View’, known to be “Sports Analytics.\n",
    "\n",
    "Sports are associated with numerous games having huge amounts of information based on the past, which cannot be analyzed in a meaningful way. In this data tech world, due to expansion and innovation, social media shows the player's performance of the game in each and every angle that has inflated everyone from players to the viewers in and around 360 degrees. This article offers a pristine view of the exploration of statistical analysis in the emerging field of sports through analytics. The state of this study is to get a clear picture of Statistics and its subfields in the area of sports. This discussion also paves the way for the intensification of Sports and Analytics (especially a Statistician) to integrate the interdisciplinary approach in the upcoming decade and also view the screen behind the magic of sports analytics. So let's inchoate an overview of Sports Analytics with Statistics."
   ]
  },
  {
   "cell_type": "markdown",
   "id": "82048d77",
   "metadata": {},
   "source": [
    "## WHY ATP ANALYSIS?\n",
    "\n",
    "\n",
    "ATP tennis analytics, which involves the collection and analysis of data related to professional tennis matches and players on the ATP Tour (Association of Tennis Professionals), offer several benefits and serve various purposes:\n",
    "\n",
    "*  ATP tennis analytics allow coaches and players to assess performance metrics such as serve speed, accuracy, shot placement, and movement patterns. This information helps players identify strengths and weaknesses, leading to targeted training and strategic adjustments.\n",
    "\n",
    "*   For strategic development, Coaches and players can use data analytics to develop and refine game strategies. By analyzing opponents' playing styles and tendencies, they can devise game plans to exploit weaknesses and maximize their own strengths.\n",
    "\n",
    "*   Injury Prevention Monitoring player movement patterns and physical exertion through analytics can help in injury prevention. Coaches and trainers can identify signs of fatigue or overexertion and adjust training regimens accordingly.\n",
    "\n",
    "*   Scouting Opponents Players and coaches can use analytics to scout upcoming opponents. By studying historical performance data, they can gain insights into opponents' preferred shots, court positioning, and strategies, aiding in match preparation.\n",
    "\n",
    "*   Post-match analysis using analytics allows players and coaches to review match performance in detail. They can study statistics on points won, errors made, and shot selection to make informed decisions for future matches.\n",
    "\n",
    "*   Tennis academies and development programs use analytics to identify promising young talent. By analyzing performance data, they can select players with the potential to excel in the sport and provide them with targeted training.\n",
    "\n",
    "*   ATP tennis analytics contribute to the fan experience by providing viewers with in-depth statistics and insights during broadcasts. Fans can gain a deeper understanding of players' performance and strategies, enhancing their enjoyment of the sport.\n",
    "\n",
    "*   Broadcasters use analytics to enhance their coverage of tennis matches. They can provide viewers with real-time data, such as serve speeds and rally statistics, to make \n",
    "           matches more engaging and informative."
   ]
  },
  {
   "cell_type": "markdown",
   "id": "0aa2f937",
   "metadata": {},
   "source": [
    "## Data set  Description:\n",
    "\n",
    "`Link for dataset :` https://github.com/JeffSackmann/tennis_atp\n",
    "\n",
    "Our main focus was concentrating on the Post-match analysis of the ATP matches played across the globe in 2023 (till date). The dataset is collected from Jeff Sackman’s GitHub repository (tennis_atp/atp_matches_2023.csv). \n",
    "*   The data included the ATP player file, historical rankings, results, and match stats.\n",
    "*   The player file columns are player_id, first_name, last_name, hand, birth_date, country_code, height (cm).\n",
    "*   The columns for the ranking files are ranking_date, ranking, player_id, ranking_points (where available).\n",
    "*   There are up to three files per season: One for tour-level main draw matches (e.g. 'atp_matches_2023.csv')\n",
    "*   To make the results files easier for more people to use, the biographical and ranking files: each row contains several columns of biographical information, along with ranking and ranking points, for both players. \n",
    "*   Match Stats are included, which consisted (e.g. 1st serves in, not 1st serve percentage), from which traditional percentages can be calculated."
   ]
  },
  {
   "cell_type": "markdown",
   "id": "c4cf91d9",
   "metadata": {},
   "source": [
    "## Problem Solved in this Analysis : \n",
    "We were interested in carrying out an exploratory data analysis with this data in order to gain primary insights into the analysis such as,\n",
    "1.  Which country had the most no of wins in the 2023 ATP tour (till date)?\n",
    "2.  Which player in the ATP circuit had the most no of wins in the tour of 2023 (till date)?\n",
    "3.  Which countries dominated (ie., had the most no wins ) on three different surfaces of the tennis court?\n",
    "4.  Is there any correlation between the first serves vs. the first serve points won?"
   ]
  },
  {
   "cell_type": "code",
   "execution_count": 207,
   "id": "e28edb02",
   "metadata": {},
   "outputs": [],
   "source": [
    "## importing the necessary libraries\n",
    "import pandas as pd\n",
    "import numpy as np\n",
    "import plotly.express as px\n",
    "import seaborn as sns\n",
    "import matplotlib.pyplot as plt\n",
    "import plotly.graph_objects as go"
   ]
  },
  {
   "cell_type": "code",
   "execution_count": 208,
   "id": "7a9c3e92",
   "metadata": {},
   "outputs": [
    {
     "data": {
      "text/html": [
       "<div>\n",
       "<style scoped>\n",
       "    .dataframe tbody tr th:only-of-type {\n",
       "        vertical-align: middle;\n",
       "    }\n",
       "\n",
       "    .dataframe tbody tr th {\n",
       "        vertical-align: top;\n",
       "    }\n",
       "\n",
       "    .dataframe thead th {\n",
       "        text-align: right;\n",
       "    }\n",
       "</style>\n",
       "<table border=\"1\" class=\"dataframe\">\n",
       "  <thead>\n",
       "    <tr style=\"text-align: right;\">\n",
       "      <th></th>\n",
       "      <th>tourney_id</th>\n",
       "      <th>tourney_name</th>\n",
       "      <th>surface</th>\n",
       "      <th>draw_size</th>\n",
       "      <th>tourney_level</th>\n",
       "      <th>tourney_date</th>\n",
       "      <th>match_num</th>\n",
       "      <th>winner_id</th>\n",
       "      <th>winner_seed</th>\n",
       "      <th>winner_entry</th>\n",
       "      <th>...</th>\n",
       "      <th>l_1stIn</th>\n",
       "      <th>l_1stWon</th>\n",
       "      <th>l_2ndWon</th>\n",
       "      <th>l_SvGms</th>\n",
       "      <th>l_bpSaved</th>\n",
       "      <th>l_bpFaced</th>\n",
       "      <th>winner_rank</th>\n",
       "      <th>winner_rank_points</th>\n",
       "      <th>loser_rank</th>\n",
       "      <th>loser_rank_points</th>\n",
       "    </tr>\n",
       "  </thead>\n",
       "  <tbody>\n",
       "    <tr>\n",
       "      <th>0</th>\n",
       "      <td>2023-9900</td>\n",
       "      <td>United Cup</td>\n",
       "      <td>Hard</td>\n",
       "      <td>18</td>\n",
       "      <td>A</td>\n",
       "      <td>20230102</td>\n",
       "      <td>300</td>\n",
       "      <td>126203</td>\n",
       "      <td>3.0</td>\n",
       "      <td>NaN</td>\n",
       "      <td>...</td>\n",
       "      <td>62.0</td>\n",
       "      <td>47.0</td>\n",
       "      <td>15.0</td>\n",
       "      <td>12.0</td>\n",
       "      <td>9.0</td>\n",
       "      <td>9.0</td>\n",
       "      <td>9.0</td>\n",
       "      <td>3355.0</td>\n",
       "      <td>16.0</td>\n",
       "      <td>2375.0</td>\n",
       "    </tr>\n",
       "    <tr>\n",
       "      <th>1</th>\n",
       "      <td>2023-9900</td>\n",
       "      <td>United Cup</td>\n",
       "      <td>Hard</td>\n",
       "      <td>18</td>\n",
       "      <td>A</td>\n",
       "      <td>20230102</td>\n",
       "      <td>299</td>\n",
       "      <td>126207</td>\n",
       "      <td>NaN</td>\n",
       "      <td>NaN</td>\n",
       "      <td>...</td>\n",
       "      <td>12.0</td>\n",
       "      <td>8.0</td>\n",
       "      <td>3.0</td>\n",
       "      <td>4.0</td>\n",
       "      <td>1.0</td>\n",
       "      <td>3.0</td>\n",
       "      <td>19.0</td>\n",
       "      <td>2000.0</td>\n",
       "      <td>23.0</td>\n",
       "      <td>1865.0</td>\n",
       "    </tr>\n",
       "    <tr>\n",
       "      <th>2</th>\n",
       "      <td>2023-9900</td>\n",
       "      <td>United Cup</td>\n",
       "      <td>Hard</td>\n",
       "      <td>18</td>\n",
       "      <td>A</td>\n",
       "      <td>20230102</td>\n",
       "      <td>296</td>\n",
       "      <td>126203</td>\n",
       "      <td>3.0</td>\n",
       "      <td>NaN</td>\n",
       "      <td>...</td>\n",
       "      <td>62.0</td>\n",
       "      <td>51.0</td>\n",
       "      <td>7.0</td>\n",
       "      <td>12.0</td>\n",
       "      <td>2.0</td>\n",
       "      <td>2.0</td>\n",
       "      <td>9.0</td>\n",
       "      <td>3355.0</td>\n",
       "      <td>10.0</td>\n",
       "      <td>2905.0</td>\n",
       "    </tr>\n",
       "    <tr>\n",
       "      <th>3</th>\n",
       "      <td>2023-9900</td>\n",
       "      <td>United Cup</td>\n",
       "      <td>Hard</td>\n",
       "      <td>18</td>\n",
       "      <td>A</td>\n",
       "      <td>20230102</td>\n",
       "      <td>295</td>\n",
       "      <td>126207</td>\n",
       "      <td>NaN</td>\n",
       "      <td>NaN</td>\n",
       "      <td>...</td>\n",
       "      <td>41.0</td>\n",
       "      <td>26.0</td>\n",
       "      <td>12.0</td>\n",
       "      <td>9.0</td>\n",
       "      <td>6.0</td>\n",
       "      <td>9.0</td>\n",
       "      <td>19.0</td>\n",
       "      <td>2000.0</td>\n",
       "      <td>245.0</td>\n",
       "      <td>220.0</td>\n",
       "    </tr>\n",
       "    <tr>\n",
       "      <th>4</th>\n",
       "      <td>2023-9900</td>\n",
       "      <td>United Cup</td>\n",
       "      <td>Hard</td>\n",
       "      <td>18</td>\n",
       "      <td>A</td>\n",
       "      <td>20230102</td>\n",
       "      <td>292</td>\n",
       "      <td>126774</td>\n",
       "      <td>1.0</td>\n",
       "      <td>NaN</td>\n",
       "      <td>...</td>\n",
       "      <td>58.0</td>\n",
       "      <td>48.0</td>\n",
       "      <td>18.0</td>\n",
       "      <td>16.0</td>\n",
       "      <td>1.0</td>\n",
       "      <td>2.0</td>\n",
       "      <td>4.0</td>\n",
       "      <td>5550.0</td>\n",
       "      <td>16.0</td>\n",
       "      <td>2375.0</td>\n",
       "    </tr>\n",
       "    <tr>\n",
       "      <th>...</th>\n",
       "      <td>...</td>\n",
       "      <td>...</td>\n",
       "      <td>...</td>\n",
       "      <td>...</td>\n",
       "      <td>...</td>\n",
       "      <td>...</td>\n",
       "      <td>...</td>\n",
       "      <td>...</td>\n",
       "      <td>...</td>\n",
       "      <td>...</td>\n",
       "      <td>...</td>\n",
       "      <td>...</td>\n",
       "      <td>...</td>\n",
       "      <td>...</td>\n",
       "      <td>...</td>\n",
       "      <td>...</td>\n",
       "      <td>...</td>\n",
       "      <td>...</td>\n",
       "      <td>...</td>\n",
       "      <td>...</td>\n",
       "      <td>...</td>\n",
       "    </tr>\n",
       "    <tr>\n",
       "      <th>2364</th>\n",
       "      <td>2023-M-DC-2023-WG2-PO-RSA-LUX-01</td>\n",
       "      <td>Davis Cup WG2 PO: RSA vs LUX</td>\n",
       "      <td>Hard</td>\n",
       "      <td>4</td>\n",
       "      <td>D</td>\n",
       "      <td>20230204</td>\n",
       "      <td>5</td>\n",
       "      <td>202335</td>\n",
       "      <td>NaN</td>\n",
       "      <td>NaN</td>\n",
       "      <td>...</td>\n",
       "      <td>NaN</td>\n",
       "      <td>NaN</td>\n",
       "      <td>NaN</td>\n",
       "      <td>NaN</td>\n",
       "      <td>NaN</td>\n",
       "      <td>NaN</td>\n",
       "      <td>NaN</td>\n",
       "      <td>NaN</td>\n",
       "      <td>1717.0</td>\n",
       "      <td>1.0</td>\n",
       "    </tr>\n",
       "    <tr>\n",
       "      <th>2365</th>\n",
       "      <td>2023-M-DC-2023-WG2-PO-TUN-CYP-01</td>\n",
       "      <td>Davis Cup WG2 PO: TUN vs CYP</td>\n",
       "      <td>Hard</td>\n",
       "      <td>4</td>\n",
       "      <td>D</td>\n",
       "      <td>20230203</td>\n",
       "      <td>1</td>\n",
       "      <td>117365</td>\n",
       "      <td>NaN</td>\n",
       "      <td>NaN</td>\n",
       "      <td>...</td>\n",
       "      <td>NaN</td>\n",
       "      <td>NaN</td>\n",
       "      <td>NaN</td>\n",
       "      <td>NaN</td>\n",
       "      <td>NaN</td>\n",
       "      <td>NaN</td>\n",
       "      <td>990.0</td>\n",
       "      <td>11.0</td>\n",
       "      <td>279.0</td>\n",
       "      <td>190.0</td>\n",
       "    </tr>\n",
       "    <tr>\n",
       "      <th>2366</th>\n",
       "      <td>2023-M-DC-2023-WG2-PO-TUN-CYP-01</td>\n",
       "      <td>Davis Cup WG2 PO: TUN vs CYP</td>\n",
       "      <td>Hard</td>\n",
       "      <td>4</td>\n",
       "      <td>D</td>\n",
       "      <td>20230203</td>\n",
       "      <td>2</td>\n",
       "      <td>121411</td>\n",
       "      <td>NaN</td>\n",
       "      <td>NaN</td>\n",
       "      <td>...</td>\n",
       "      <td>NaN</td>\n",
       "      <td>NaN</td>\n",
       "      <td>NaN</td>\n",
       "      <td>NaN</td>\n",
       "      <td>NaN</td>\n",
       "      <td>NaN</td>\n",
       "      <td>364.0</td>\n",
       "      <td>131.0</td>\n",
       "      <td>894.0</td>\n",
       "      <td>15.0</td>\n",
       "    </tr>\n",
       "    <tr>\n",
       "      <th>2367</th>\n",
       "      <td>2023-M-DC-2023-WG2-PO-TUN-CYP-01</td>\n",
       "      <td>Davis Cup WG2 PO: TUN vs CYP</td>\n",
       "      <td>Hard</td>\n",
       "      <td>4</td>\n",
       "      <td>D</td>\n",
       "      <td>20230203</td>\n",
       "      <td>4</td>\n",
       "      <td>144949</td>\n",
       "      <td>NaN</td>\n",
       "      <td>NaN</td>\n",
       "      <td>...</td>\n",
       "      <td>NaN</td>\n",
       "      <td>NaN</td>\n",
       "      <td>NaN</td>\n",
       "      <td>NaN</td>\n",
       "      <td>NaN</td>\n",
       "      <td>NaN</td>\n",
       "      <td>894.0</td>\n",
       "      <td>15.0</td>\n",
       "      <td>285.0</td>\n",
       "      <td>184.0</td>\n",
       "    </tr>\n",
       "    <tr>\n",
       "      <th>2368</th>\n",
       "      <td>2023-M-DC-2023-WG2-PO-TUN-CYP-01</td>\n",
       "      <td>Davis Cup WG2 PO: TUN vs CYP</td>\n",
       "      <td>Hard</td>\n",
       "      <td>4</td>\n",
       "      <td>D</td>\n",
       "      <td>20230203</td>\n",
       "      <td>5</td>\n",
       "      <td>121411</td>\n",
       "      <td>NaN</td>\n",
       "      <td>NaN</td>\n",
       "      <td>...</td>\n",
       "      <td>NaN</td>\n",
       "      <td>NaN</td>\n",
       "      <td>NaN</td>\n",
       "      <td>NaN</td>\n",
       "      <td>NaN</td>\n",
       "      <td>NaN</td>\n",
       "      <td>364.0</td>\n",
       "      <td>131.0</td>\n",
       "      <td>990.0</td>\n",
       "      <td>11.0</td>\n",
       "    </tr>\n",
       "  </tbody>\n",
       "</table>\n",
       "<p>2369 rows × 49 columns</p>\n",
       "</div>"
      ],
      "text/plain": [
       "                            tourney_id                  tourney_name surface  \\\n",
       "0                            2023-9900                    United Cup    Hard   \n",
       "1                            2023-9900                    United Cup    Hard   \n",
       "2                            2023-9900                    United Cup    Hard   \n",
       "3                            2023-9900                    United Cup    Hard   \n",
       "4                            2023-9900                    United Cup    Hard   \n",
       "...                                ...                           ...     ...   \n",
       "2364  2023-M-DC-2023-WG2-PO-RSA-LUX-01  Davis Cup WG2 PO: RSA vs LUX    Hard   \n",
       "2365  2023-M-DC-2023-WG2-PO-TUN-CYP-01  Davis Cup WG2 PO: TUN vs CYP    Hard   \n",
       "2366  2023-M-DC-2023-WG2-PO-TUN-CYP-01  Davis Cup WG2 PO: TUN vs CYP    Hard   \n",
       "2367  2023-M-DC-2023-WG2-PO-TUN-CYP-01  Davis Cup WG2 PO: TUN vs CYP    Hard   \n",
       "2368  2023-M-DC-2023-WG2-PO-TUN-CYP-01  Davis Cup WG2 PO: TUN vs CYP    Hard   \n",
       "\n",
       "      draw_size tourney_level  tourney_date  match_num  winner_id  \\\n",
       "0            18             A      20230102        300     126203   \n",
       "1            18             A      20230102        299     126207   \n",
       "2            18             A      20230102        296     126203   \n",
       "3            18             A      20230102        295     126207   \n",
       "4            18             A      20230102        292     126774   \n",
       "...         ...           ...           ...        ...        ...   \n",
       "2364          4             D      20230204          5     202335   \n",
       "2365          4             D      20230203          1     117365   \n",
       "2366          4             D      20230203          2     121411   \n",
       "2367          4             D      20230203          4     144949   \n",
       "2368          4             D      20230203          5     121411   \n",
       "\n",
       "      winner_seed winner_entry  ... l_1stIn l_1stWon  l_2ndWon l_SvGms  \\\n",
       "0             3.0          NaN  ...    62.0     47.0      15.0    12.0   \n",
       "1             NaN          NaN  ...    12.0      8.0       3.0     4.0   \n",
       "2             3.0          NaN  ...    62.0     51.0       7.0    12.0   \n",
       "3             NaN          NaN  ...    41.0     26.0      12.0     9.0   \n",
       "4             1.0          NaN  ...    58.0     48.0      18.0    16.0   \n",
       "...           ...          ...  ...     ...      ...       ...     ...   \n",
       "2364          NaN          NaN  ...     NaN      NaN       NaN     NaN   \n",
       "2365          NaN          NaN  ...     NaN      NaN       NaN     NaN   \n",
       "2366          NaN          NaN  ...     NaN      NaN       NaN     NaN   \n",
       "2367          NaN          NaN  ...     NaN      NaN       NaN     NaN   \n",
       "2368          NaN          NaN  ...     NaN      NaN       NaN     NaN   \n",
       "\n",
       "      l_bpSaved  l_bpFaced  winner_rank winner_rank_points loser_rank  \\\n",
       "0           9.0        9.0          9.0             3355.0       16.0   \n",
       "1           1.0        3.0         19.0             2000.0       23.0   \n",
       "2           2.0        2.0          9.0             3355.0       10.0   \n",
       "3           6.0        9.0         19.0             2000.0      245.0   \n",
       "4           1.0        2.0          4.0             5550.0       16.0   \n",
       "...         ...        ...          ...                ...        ...   \n",
       "2364        NaN        NaN          NaN                NaN     1717.0   \n",
       "2365        NaN        NaN        990.0               11.0      279.0   \n",
       "2366        NaN        NaN        364.0              131.0      894.0   \n",
       "2367        NaN        NaN        894.0               15.0      285.0   \n",
       "2368        NaN        NaN        364.0              131.0      990.0   \n",
       "\n",
       "     loser_rank_points  \n",
       "0               2375.0  \n",
       "1               1865.0  \n",
       "2               2905.0  \n",
       "3                220.0  \n",
       "4               2375.0  \n",
       "...                ...  \n",
       "2364               1.0  \n",
       "2365             190.0  \n",
       "2366              15.0  \n",
       "2367             184.0  \n",
       "2368              11.0  \n",
       "\n",
       "[2369 rows x 49 columns]"
      ]
     },
     "execution_count": 208,
     "metadata": {},
     "output_type": "execute_result"
    }
   ],
   "source": [
    "## Loading the Dataset\n",
    "df=pd.read_csv(\"atp_matches_2023.csv\")\n",
    "df"
   ]
  },
  {
   "cell_type": "markdown",
   "id": "64e7627c",
   "metadata": {},
   "source": [
    "#### (1) Most no_of_wins per_country "
   ]
  },
  {
   "cell_type": "code",
   "execution_count": 209,
   "id": "221683c9",
   "metadata": {},
   "outputs": [
    {
     "data": {
      "text/html": [
       "<div>\n",
       "<style scoped>\n",
       "    .dataframe tbody tr th:only-of-type {\n",
       "        vertical-align: middle;\n",
       "    }\n",
       "\n",
       "    .dataframe tbody tr th {\n",
       "        vertical-align: top;\n",
       "    }\n",
       "\n",
       "    .dataframe thead th {\n",
       "        text-align: right;\n",
       "    }\n",
       "</style>\n",
       "<table border=\"1\" class=\"dataframe\">\n",
       "  <thead>\n",
       "    <tr style=\"text-align: right;\">\n",
       "      <th></th>\n",
       "      <th>winner_ioc</th>\n",
       "      <th>count</th>\n",
       "    </tr>\n",
       "  </thead>\n",
       "  <tbody>\n",
       "    <tr>\n",
       "      <th>0</th>\n",
       "      <td>USA</td>\n",
       "      <td>315</td>\n",
       "    </tr>\n",
       "    <tr>\n",
       "      <th>1</th>\n",
       "      <td>FRA</td>\n",
       "      <td>183</td>\n",
       "    </tr>\n",
       "    <tr>\n",
       "      <th>2</th>\n",
       "      <td>ESP</td>\n",
       "      <td>173</td>\n",
       "    </tr>\n",
       "    <tr>\n",
       "      <th>3</th>\n",
       "      <td>RUS</td>\n",
       "      <td>168</td>\n",
       "    </tr>\n",
       "    <tr>\n",
       "      <th>4</th>\n",
       "      <td>ITA</td>\n",
       "      <td>154</td>\n",
       "    </tr>\n",
       "    <tr>\n",
       "      <th>5</th>\n",
       "      <td>AUS</td>\n",
       "      <td>152</td>\n",
       "    </tr>\n",
       "    <tr>\n",
       "      <th>6</th>\n",
       "      <td>ARG</td>\n",
       "      <td>142</td>\n",
       "    </tr>\n",
       "    <tr>\n",
       "      <th>7</th>\n",
       "      <td>SRB</td>\n",
       "      <td>121</td>\n",
       "    </tr>\n",
       "    <tr>\n",
       "      <th>8</th>\n",
       "      <td>GER</td>\n",
       "      <td>108</td>\n",
       "    </tr>\n",
       "    <tr>\n",
       "      <th>9</th>\n",
       "      <td>GBR</td>\n",
       "      <td>84</td>\n",
       "    </tr>\n",
       "    <tr>\n",
       "      <th>10</th>\n",
       "      <td>NED</td>\n",
       "      <td>56</td>\n",
       "    </tr>\n",
       "    <tr>\n",
       "      <th>11</th>\n",
       "      <td>CHI</td>\n",
       "      <td>53</td>\n",
       "    </tr>\n",
       "    <tr>\n",
       "      <th>12</th>\n",
       "      <td>SUI</td>\n",
       "      <td>43</td>\n",
       "    </tr>\n",
       "    <tr>\n",
       "      <th>13</th>\n",
       "      <td>GRE</td>\n",
       "      <td>41</td>\n",
       "    </tr>\n",
       "    <tr>\n",
       "      <th>14</th>\n",
       "      <td>CZE</td>\n",
       "      <td>39</td>\n",
       "    </tr>\n",
       "    <tr>\n",
       "      <th>15</th>\n",
       "      <td>DEN</td>\n",
       "      <td>39</td>\n",
       "    </tr>\n",
       "    <tr>\n",
       "      <th>16</th>\n",
       "      <td>CRO</td>\n",
       "      <td>34</td>\n",
       "    </tr>\n",
       "    <tr>\n",
       "      <th>17</th>\n",
       "      <td>JPN</td>\n",
       "      <td>33</td>\n",
       "    </tr>\n",
       "    <tr>\n",
       "      <th>18</th>\n",
       "      <td>POL</td>\n",
       "      <td>32</td>\n",
       "    </tr>\n",
       "    <tr>\n",
       "      <th>19</th>\n",
       "      <td>CAN</td>\n",
       "      <td>32</td>\n",
       "    </tr>\n",
       "    <tr>\n",
       "      <th>20</th>\n",
       "      <td>CHN</td>\n",
       "      <td>32</td>\n",
       "    </tr>\n",
       "    <tr>\n",
       "      <th>21</th>\n",
       "      <td>BUL</td>\n",
       "      <td>31</td>\n",
       "    </tr>\n",
       "    <tr>\n",
       "      <th>22</th>\n",
       "      <td>Others</td>\n",
       "      <td>304</td>\n",
       "    </tr>\n",
       "  </tbody>\n",
       "</table>\n",
       "</div>"
      ],
      "text/plain": [
       "   winner_ioc  count\n",
       "0         USA    315\n",
       "1         FRA    183\n",
       "2         ESP    173\n",
       "3         RUS    168\n",
       "4         ITA    154\n",
       "5         AUS    152\n",
       "6         ARG    142\n",
       "7         SRB    121\n",
       "8         GER    108\n",
       "9         GBR     84\n",
       "10        NED     56\n",
       "11        CHI     53\n",
       "12        SUI     43\n",
       "13        GRE     41\n",
       "14        CZE     39\n",
       "15        DEN     39\n",
       "16        CRO     34\n",
       "17        JPN     33\n",
       "18        POL     32\n",
       "19        CAN     32\n",
       "20        CHN     32\n",
       "21        BUL     31\n",
       "22     Others    304"
      ]
     },
     "execution_count": 209,
     "metadata": {},
     "output_type": "execute_result"
    }
   ],
   "source": [
    "## Finding the countries which have atleast 30 wins in total \n",
    "x=df['winner_ioc'].value_counts().loc[lambda x:x>30].reset_index().rename(columns={\"index\":\"Country\",0:\"count\"})\n",
    "## saving the rest of the countires as others\n",
    "y=df['winner_ioc'].value_counts().loc[lambda x:x<=30].sum()\n",
    "x.loc[len(x.index)]=['Others',y]\n",
    "x"
   ]
  },
  {
   "cell_type": "code",
   "execution_count": 210,
   "id": "0467be4b",
   "metadata": {},
   "outputs": [
    {
     "data": {
      "application/vnd.plotly.v1+json": {
       "config": {
        "plotlyServerURL": "https://plot.ly"
       },
       "data": [
        {
         "domain": {
          "x": [
           0,
           1
          ],
          "y": [
           0,
           1
          ]
         },
         "hovertemplate": "winner_ioc=%{label}<br>count=%{value}<extra></extra>",
         "labels": [
          "USA",
          "FRA",
          "ESP",
          "RUS",
          "ITA",
          "AUS",
          "ARG",
          "SRB",
          "GER",
          "GBR",
          "NED",
          "CHI",
          "SUI",
          "GRE",
          "CZE",
          "DEN",
          "CRO",
          "JPN",
          "POL",
          "CAN",
          "CHN",
          "BUL",
          "Others"
         ],
         "legendgroup": "",
         "name": "",
         "showlegend": true,
         "type": "pie",
         "values": [
          315,
          183,
          173,
          168,
          154,
          152,
          142,
          121,
          108,
          84,
          56,
          53,
          43,
          41,
          39,
          39,
          34,
          33,
          32,
          32,
          32,
          31,
          304
         ]
        }
       ],
       "layout": {
        "font": {
         "color": "RebeccaPurple",
         "family": "Courier New, monospace",
         "size": 18
        },
        "legend": {
         "title": {
          "text": "Countries"
         },
         "tracegroupgap": 0
        },
        "template": {
         "data": {
          "bar": [
           {
            "error_x": {
             "color": "#2a3f5f"
            },
            "error_y": {
             "color": "#2a3f5f"
            },
            "marker": {
             "line": {
              "color": "#E5ECF6",
              "width": 0.5
             },
             "pattern": {
              "fillmode": "overlay",
              "size": 10,
              "solidity": 0.2
             }
            },
            "type": "bar"
           }
          ],
          "barpolar": [
           {
            "marker": {
             "line": {
              "color": "#E5ECF6",
              "width": 0.5
             },
             "pattern": {
              "fillmode": "overlay",
              "size": 10,
              "solidity": 0.2
             }
            },
            "type": "barpolar"
           }
          ],
          "carpet": [
           {
            "aaxis": {
             "endlinecolor": "#2a3f5f",
             "gridcolor": "white",
             "linecolor": "white",
             "minorgridcolor": "white",
             "startlinecolor": "#2a3f5f"
            },
            "baxis": {
             "endlinecolor": "#2a3f5f",
             "gridcolor": "white",
             "linecolor": "white",
             "minorgridcolor": "white",
             "startlinecolor": "#2a3f5f"
            },
            "type": "carpet"
           }
          ],
          "choropleth": [
           {
            "colorbar": {
             "outlinewidth": 0,
             "ticks": ""
            },
            "type": "choropleth"
           }
          ],
          "contour": [
           {
            "colorbar": {
             "outlinewidth": 0,
             "ticks": ""
            },
            "colorscale": [
             [
              0,
              "#0d0887"
             ],
             [
              0.1111111111111111,
              "#46039f"
             ],
             [
              0.2222222222222222,
              "#7201a8"
             ],
             [
              0.3333333333333333,
              "#9c179e"
             ],
             [
              0.4444444444444444,
              "#bd3786"
             ],
             [
              0.5555555555555556,
              "#d8576b"
             ],
             [
              0.6666666666666666,
              "#ed7953"
             ],
             [
              0.7777777777777778,
              "#fb9f3a"
             ],
             [
              0.8888888888888888,
              "#fdca26"
             ],
             [
              1,
              "#f0f921"
             ]
            ],
            "type": "contour"
           }
          ],
          "contourcarpet": [
           {
            "colorbar": {
             "outlinewidth": 0,
             "ticks": ""
            },
            "type": "contourcarpet"
           }
          ],
          "heatmap": [
           {
            "colorbar": {
             "outlinewidth": 0,
             "ticks": ""
            },
            "colorscale": [
             [
              0,
              "#0d0887"
             ],
             [
              0.1111111111111111,
              "#46039f"
             ],
             [
              0.2222222222222222,
              "#7201a8"
             ],
             [
              0.3333333333333333,
              "#9c179e"
             ],
             [
              0.4444444444444444,
              "#bd3786"
             ],
             [
              0.5555555555555556,
              "#d8576b"
             ],
             [
              0.6666666666666666,
              "#ed7953"
             ],
             [
              0.7777777777777778,
              "#fb9f3a"
             ],
             [
              0.8888888888888888,
              "#fdca26"
             ],
             [
              1,
              "#f0f921"
             ]
            ],
            "type": "heatmap"
           }
          ],
          "heatmapgl": [
           {
            "colorbar": {
             "outlinewidth": 0,
             "ticks": ""
            },
            "colorscale": [
             [
              0,
              "#0d0887"
             ],
             [
              0.1111111111111111,
              "#46039f"
             ],
             [
              0.2222222222222222,
              "#7201a8"
             ],
             [
              0.3333333333333333,
              "#9c179e"
             ],
             [
              0.4444444444444444,
              "#bd3786"
             ],
             [
              0.5555555555555556,
              "#d8576b"
             ],
             [
              0.6666666666666666,
              "#ed7953"
             ],
             [
              0.7777777777777778,
              "#fb9f3a"
             ],
             [
              0.8888888888888888,
              "#fdca26"
             ],
             [
              1,
              "#f0f921"
             ]
            ],
            "type": "heatmapgl"
           }
          ],
          "histogram": [
           {
            "marker": {
             "pattern": {
              "fillmode": "overlay",
              "size": 10,
              "solidity": 0.2
             }
            },
            "type": "histogram"
           }
          ],
          "histogram2d": [
           {
            "colorbar": {
             "outlinewidth": 0,
             "ticks": ""
            },
            "colorscale": [
             [
              0,
              "#0d0887"
             ],
             [
              0.1111111111111111,
              "#46039f"
             ],
             [
              0.2222222222222222,
              "#7201a8"
             ],
             [
              0.3333333333333333,
              "#9c179e"
             ],
             [
              0.4444444444444444,
              "#bd3786"
             ],
             [
              0.5555555555555556,
              "#d8576b"
             ],
             [
              0.6666666666666666,
              "#ed7953"
             ],
             [
              0.7777777777777778,
              "#fb9f3a"
             ],
             [
              0.8888888888888888,
              "#fdca26"
             ],
             [
              1,
              "#f0f921"
             ]
            ],
            "type": "histogram2d"
           }
          ],
          "histogram2dcontour": [
           {
            "colorbar": {
             "outlinewidth": 0,
             "ticks": ""
            },
            "colorscale": [
             [
              0,
              "#0d0887"
             ],
             [
              0.1111111111111111,
              "#46039f"
             ],
             [
              0.2222222222222222,
              "#7201a8"
             ],
             [
              0.3333333333333333,
              "#9c179e"
             ],
             [
              0.4444444444444444,
              "#bd3786"
             ],
             [
              0.5555555555555556,
              "#d8576b"
             ],
             [
              0.6666666666666666,
              "#ed7953"
             ],
             [
              0.7777777777777778,
              "#fb9f3a"
             ],
             [
              0.8888888888888888,
              "#fdca26"
             ],
             [
              1,
              "#f0f921"
             ]
            ],
            "type": "histogram2dcontour"
           }
          ],
          "mesh3d": [
           {
            "colorbar": {
             "outlinewidth": 0,
             "ticks": ""
            },
            "type": "mesh3d"
           }
          ],
          "parcoords": [
           {
            "line": {
             "colorbar": {
              "outlinewidth": 0,
              "ticks": ""
             }
            },
            "type": "parcoords"
           }
          ],
          "pie": [
           {
            "automargin": true,
            "type": "pie"
           }
          ],
          "scatter": [
           {
            "fillpattern": {
             "fillmode": "overlay",
             "size": 10,
             "solidity": 0.2
            },
            "type": "scatter"
           }
          ],
          "scatter3d": [
           {
            "line": {
             "colorbar": {
              "outlinewidth": 0,
              "ticks": ""
             }
            },
            "marker": {
             "colorbar": {
              "outlinewidth": 0,
              "ticks": ""
             }
            },
            "type": "scatter3d"
           }
          ],
          "scattercarpet": [
           {
            "marker": {
             "colorbar": {
              "outlinewidth": 0,
              "ticks": ""
             }
            },
            "type": "scattercarpet"
           }
          ],
          "scattergeo": [
           {
            "marker": {
             "colorbar": {
              "outlinewidth": 0,
              "ticks": ""
             }
            },
            "type": "scattergeo"
           }
          ],
          "scattergl": [
           {
            "marker": {
             "colorbar": {
              "outlinewidth": 0,
              "ticks": ""
             }
            },
            "type": "scattergl"
           }
          ],
          "scattermapbox": [
           {
            "marker": {
             "colorbar": {
              "outlinewidth": 0,
              "ticks": ""
             }
            },
            "type": "scattermapbox"
           }
          ],
          "scatterpolar": [
           {
            "marker": {
             "colorbar": {
              "outlinewidth": 0,
              "ticks": ""
             }
            },
            "type": "scatterpolar"
           }
          ],
          "scatterpolargl": [
           {
            "marker": {
             "colorbar": {
              "outlinewidth": 0,
              "ticks": ""
             }
            },
            "type": "scatterpolargl"
           }
          ],
          "scatterternary": [
           {
            "marker": {
             "colorbar": {
              "outlinewidth": 0,
              "ticks": ""
             }
            },
            "type": "scatterternary"
           }
          ],
          "surface": [
           {
            "colorbar": {
             "outlinewidth": 0,
             "ticks": ""
            },
            "colorscale": [
             [
              0,
              "#0d0887"
             ],
             [
              0.1111111111111111,
              "#46039f"
             ],
             [
              0.2222222222222222,
              "#7201a8"
             ],
             [
              0.3333333333333333,
              "#9c179e"
             ],
             [
              0.4444444444444444,
              "#bd3786"
             ],
             [
              0.5555555555555556,
              "#d8576b"
             ],
             [
              0.6666666666666666,
              "#ed7953"
             ],
             [
              0.7777777777777778,
              "#fb9f3a"
             ],
             [
              0.8888888888888888,
              "#fdca26"
             ],
             [
              1,
              "#f0f921"
             ]
            ],
            "type": "surface"
           }
          ],
          "table": [
           {
            "cells": {
             "fill": {
              "color": "#EBF0F8"
             },
             "line": {
              "color": "white"
             }
            },
            "header": {
             "fill": {
              "color": "#C8D4E3"
             },
             "line": {
              "color": "white"
             }
            },
            "type": "table"
           }
          ]
         },
         "layout": {
          "annotationdefaults": {
           "arrowcolor": "#2a3f5f",
           "arrowhead": 0,
           "arrowwidth": 1
          },
          "autotypenumbers": "strict",
          "coloraxis": {
           "colorbar": {
            "outlinewidth": 0,
            "ticks": ""
           }
          },
          "colorscale": {
           "diverging": [
            [
             0,
             "#8e0152"
            ],
            [
             0.1,
             "#c51b7d"
            ],
            [
             0.2,
             "#de77ae"
            ],
            [
             0.3,
             "#f1b6da"
            ],
            [
             0.4,
             "#fde0ef"
            ],
            [
             0.5,
             "#f7f7f7"
            ],
            [
             0.6,
             "#e6f5d0"
            ],
            [
             0.7,
             "#b8e186"
            ],
            [
             0.8,
             "#7fbc41"
            ],
            [
             0.9,
             "#4d9221"
            ],
            [
             1,
             "#276419"
            ]
           ],
           "sequential": [
            [
             0,
             "#0d0887"
            ],
            [
             0.1111111111111111,
             "#46039f"
            ],
            [
             0.2222222222222222,
             "#7201a8"
            ],
            [
             0.3333333333333333,
             "#9c179e"
            ],
            [
             0.4444444444444444,
             "#bd3786"
            ],
            [
             0.5555555555555556,
             "#d8576b"
            ],
            [
             0.6666666666666666,
             "#ed7953"
            ],
            [
             0.7777777777777778,
             "#fb9f3a"
            ],
            [
             0.8888888888888888,
             "#fdca26"
            ],
            [
             1,
             "#f0f921"
            ]
           ],
           "sequentialminus": [
            [
             0,
             "#0d0887"
            ],
            [
             0.1111111111111111,
             "#46039f"
            ],
            [
             0.2222222222222222,
             "#7201a8"
            ],
            [
             0.3333333333333333,
             "#9c179e"
            ],
            [
             0.4444444444444444,
             "#bd3786"
            ],
            [
             0.5555555555555556,
             "#d8576b"
            ],
            [
             0.6666666666666666,
             "#ed7953"
            ],
            [
             0.7777777777777778,
             "#fb9f3a"
            ],
            [
             0.8888888888888888,
             "#fdca26"
            ],
            [
             1,
             "#f0f921"
            ]
           ]
          },
          "colorway": [
           "#636efa",
           "#EF553B",
           "#00cc96",
           "#ab63fa",
           "#FFA15A",
           "#19d3f3",
           "#FF6692",
           "#B6E880",
           "#FF97FF",
           "#FECB52"
          ],
          "font": {
           "color": "#2a3f5f"
          },
          "geo": {
           "bgcolor": "white",
           "lakecolor": "white",
           "landcolor": "#E5ECF6",
           "showlakes": true,
           "showland": true,
           "subunitcolor": "white"
          },
          "hoverlabel": {
           "align": "left"
          },
          "hovermode": "closest",
          "mapbox": {
           "style": "light"
          },
          "paper_bgcolor": "white",
          "plot_bgcolor": "#E5ECF6",
          "polar": {
           "angularaxis": {
            "gridcolor": "white",
            "linecolor": "white",
            "ticks": ""
           },
           "bgcolor": "#E5ECF6",
           "radialaxis": {
            "gridcolor": "white",
            "linecolor": "white",
            "ticks": ""
           }
          },
          "scene": {
           "xaxis": {
            "backgroundcolor": "#E5ECF6",
            "gridcolor": "white",
            "gridwidth": 2,
            "linecolor": "white",
            "showbackground": true,
            "ticks": "",
            "zerolinecolor": "white"
           },
           "yaxis": {
            "backgroundcolor": "#E5ECF6",
            "gridcolor": "white",
            "gridwidth": 2,
            "linecolor": "white",
            "showbackground": true,
            "ticks": "",
            "zerolinecolor": "white"
           },
           "zaxis": {
            "backgroundcolor": "#E5ECF6",
            "gridcolor": "white",
            "gridwidth": 2,
            "linecolor": "white",
            "showbackground": true,
            "ticks": "",
            "zerolinecolor": "white"
           }
          },
          "shapedefaults": {
           "line": {
            "color": "#2a3f5f"
           }
          },
          "ternary": {
           "aaxis": {
            "gridcolor": "white",
            "linecolor": "white",
            "ticks": ""
           },
           "baxis": {
            "gridcolor": "white",
            "linecolor": "white",
            "ticks": ""
           },
           "bgcolor": "#E5ECF6",
           "caxis": {
            "gridcolor": "white",
            "linecolor": "white",
            "ticks": ""
           }
          },
          "title": {
           "x": 0.05
          },
          "xaxis": {
           "automargin": true,
           "gridcolor": "white",
           "linecolor": "white",
           "ticks": "",
           "title": {
            "standoff": 15
           },
           "zerolinecolor": "white",
           "zerolinewidth": 2
          },
          "yaxis": {
           "automargin": true,
           "gridcolor": "white",
           "linecolor": "white",
           "ticks": "",
           "title": {
            "standoff": 15
           },
           "zerolinecolor": "white",
           "zerolinewidth": 2
          }
         }
        },
        "title": {
         "text": "Wins by Country"
        }
       }
      }
     },
     "metadata": {},
     "output_type": "display_data"
    }
   ],
   "source": [
    "# visualising the above data\n",
    "fig = px.pie(x, values='count', names='winner_ioc', title='Wins by Country')\n",
    "fig.update_layout(\n",
    "    title=\"Wins by Country\",\n",
    "    legend_title=\"Countries\",\n",
    "    font=dict(\n",
    "        family=\"Courier New, monospace\",\n",
    "        size=18,\n",
    "        color=\"RebeccaPurple\"\n",
    "    )\n",
    ")\n",
    "fig.show()"
   ]
  },
  {
   "cell_type": "markdown",
   "id": "936d4e4c",
   "metadata": {},
   "source": [
    "#### Inference\n",
    "From the above analysis we can infer that among all the countries which are mentioned in the dataset , \n",
    "* The Others legend which is mentioned in the grpah includes countries which have victories less than 30 .\n",
    "* USA has the most number fo wins . Followed by France and Spain respectively.\n",
    "\n",
    " "
   ]
  },
  {
   "cell_type": "markdown",
   "id": "101f66c1",
   "metadata": {},
   "source": [
    "#### (2) Top 15 Players in ATP with number of wins"
   ]
  },
  {
   "cell_type": "code",
   "execution_count": 211,
   "id": "95ea110f",
   "metadata": {},
   "outputs": [
    {
     "data": {
      "text/html": [
       "<div>\n",
       "<style scoped>\n",
       "    .dataframe tbody tr th:only-of-type {\n",
       "        vertical-align: middle;\n",
       "    }\n",
       "\n",
       "    .dataframe tbody tr th {\n",
       "        vertical-align: top;\n",
       "    }\n",
       "\n",
       "    .dataframe thead th {\n",
       "        text-align: right;\n",
       "    }\n",
       "</style>\n",
       "<table border=\"1\" class=\"dataframe\">\n",
       "  <thead>\n",
       "    <tr style=\"text-align: right;\">\n",
       "      <th></th>\n",
       "      <th>winner_name</th>\n",
       "      <th>count</th>\n",
       "    </tr>\n",
       "  </thead>\n",
       "  <tbody>\n",
       "    <tr>\n",
       "      <th>0</th>\n",
       "      <td>Carlos Alcaraz</td>\n",
       "      <td>58</td>\n",
       "    </tr>\n",
       "    <tr>\n",
       "      <th>1</th>\n",
       "      <td>Daniil Medvedev</td>\n",
       "      <td>56</td>\n",
       "    </tr>\n",
       "    <tr>\n",
       "      <th>2</th>\n",
       "      <td>Taylor Fritz</td>\n",
       "      <td>49</td>\n",
       "    </tr>\n",
       "    <tr>\n",
       "      <th>3</th>\n",
       "      <td>Jannik Sinner</td>\n",
       "      <td>46</td>\n",
       "    </tr>\n",
       "    <tr>\n",
       "      <th>4</th>\n",
       "      <td>Novak Djokovic</td>\n",
       "      <td>45</td>\n",
       "    </tr>\n",
       "    <tr>\n",
       "      <th>...</th>\n",
       "      <td>...</td>\n",
       "      <td>...</td>\n",
       "    </tr>\n",
       "    <tr>\n",
       "      <th>251</th>\n",
       "      <td>Jan Choinski</td>\n",
       "      <td>1</td>\n",
       "    </tr>\n",
       "    <tr>\n",
       "      <th>252</th>\n",
       "      <td>Harold Mayot</td>\n",
       "      <td>1</td>\n",
       "    </tr>\n",
       "    <tr>\n",
       "      <th>253</th>\n",
       "      <td>Giulio Zeppieri</td>\n",
       "      <td>1</td>\n",
       "    </tr>\n",
       "    <tr>\n",
       "      <th>254</th>\n",
       "      <td>Lucas Pouille</td>\n",
       "      <td>1</td>\n",
       "    </tr>\n",
       "    <tr>\n",
       "      <th>255</th>\n",
       "      <td>Menelaos Efstathiou</td>\n",
       "      <td>1</td>\n",
       "    </tr>\n",
       "  </tbody>\n",
       "</table>\n",
       "<p>256 rows × 2 columns</p>\n",
       "</div>"
      ],
      "text/plain": [
       "             winner_name  count\n",
       "0         Carlos Alcaraz     58\n",
       "1        Daniil Medvedev     56\n",
       "2           Taylor Fritz     49\n",
       "3          Jannik Sinner     46\n",
       "4         Novak Djokovic     45\n",
       "..                   ...    ...\n",
       "251         Jan Choinski      1\n",
       "252         Harold Mayot      1\n",
       "253      Giulio Zeppieri      1\n",
       "254        Lucas Pouille      1\n",
       "255  Menelaos Efstathiou      1\n",
       "\n",
       "[256 rows x 2 columns]"
      ]
     },
     "execution_count": 211,
     "metadata": {},
     "output_type": "execute_result"
    }
   ],
   "source": [
    "## Players with most number of wins\n",
    "x=df['winner_name'].value_counts().reset_index().rename(columns={\"index\":\"Player_name\",0:\"count\"})\n",
    "x"
   ]
  },
  {
   "cell_type": "code",
   "execution_count": 118,
   "id": "9b530d7d",
   "metadata": {},
   "outputs": [
    {
     "data": {
      "application/vnd.plotly.v1+json": {
       "config": {
        "plotlyServerURL": "https://plot.ly"
       },
       "data": [
        {
         "alignmentgroup": "True",
         "hovertemplate": "winner_name=%{y}<br>count=%{x}<extra></extra>",
         "legendgroup": "Carlos Alcaraz",
         "marker": {
          "color": "#636efa",
          "pattern": {
           "shape": ""
          }
         },
         "name": "Carlos Alcaraz",
         "offsetgroup": "Carlos Alcaraz",
         "orientation": "h",
         "showlegend": true,
         "textposition": "auto",
         "type": "bar",
         "x": [
          58
         ],
         "xaxis": "x",
         "y": [
          "Carlos Alcaraz"
         ],
         "yaxis": "y"
        },
        {
         "alignmentgroup": "True",
         "hovertemplate": "winner_name=%{y}<br>count=%{x}<extra></extra>",
         "legendgroup": "Daniil Medvedev",
         "marker": {
          "color": "#EF553B",
          "pattern": {
           "shape": ""
          }
         },
         "name": "Daniil Medvedev",
         "offsetgroup": "Daniil Medvedev",
         "orientation": "h",
         "showlegend": true,
         "textposition": "auto",
         "type": "bar",
         "x": [
          56
         ],
         "xaxis": "x",
         "y": [
          "Daniil Medvedev"
         ],
         "yaxis": "y"
        },
        {
         "alignmentgroup": "True",
         "hovertemplate": "winner_name=%{y}<br>count=%{x}<extra></extra>",
         "legendgroup": "Taylor Fritz",
         "marker": {
          "color": "#00cc96",
          "pattern": {
           "shape": ""
          }
         },
         "name": "Taylor Fritz",
         "offsetgroup": "Taylor Fritz",
         "orientation": "h",
         "showlegend": true,
         "textposition": "auto",
         "type": "bar",
         "x": [
          49
         ],
         "xaxis": "x",
         "y": [
          "Taylor Fritz"
         ],
         "yaxis": "y"
        },
        {
         "alignmentgroup": "True",
         "hovertemplate": "winner_name=%{y}<br>count=%{x}<extra></extra>",
         "legendgroup": "Jannik Sinner",
         "marker": {
          "color": "#ab63fa",
          "pattern": {
           "shape": ""
          }
         },
         "name": "Jannik Sinner",
         "offsetgroup": "Jannik Sinner",
         "orientation": "h",
         "showlegend": true,
         "textposition": "auto",
         "type": "bar",
         "x": [
          46
         ],
         "xaxis": "x",
         "y": [
          "Jannik Sinner"
         ],
         "yaxis": "y"
        },
        {
         "alignmentgroup": "True",
         "hovertemplate": "winner_name=%{y}<br>count=%{x}<extra></extra>",
         "legendgroup": "Novak Djokovic",
         "marker": {
          "color": "#FFA15A",
          "pattern": {
           "shape": ""
          }
         },
         "name": "Novak Djokovic",
         "offsetgroup": "Novak Djokovic",
         "orientation": "h",
         "showlegend": true,
         "textposition": "auto",
         "type": "bar",
         "x": [
          45
         ],
         "xaxis": "x",
         "y": [
          "Novak Djokovic"
         ],
         "yaxis": "y"
        },
        {
         "alignmentgroup": "True",
         "hovertemplate": "winner_name=%{y}<br>count=%{x}<extra></extra>",
         "legendgroup": "Andrey Rublev",
         "marker": {
          "color": "#19d3f3",
          "pattern": {
           "shape": ""
          }
         },
         "name": "Andrey Rublev",
         "offsetgroup": "Andrey Rublev",
         "orientation": "h",
         "showlegend": true,
         "textposition": "auto",
         "type": "bar",
         "x": [
          44
         ],
         "xaxis": "x",
         "y": [
          "Andrey Rublev"
         ],
         "yaxis": "y"
        },
        {
         "alignmentgroup": "True",
         "hovertemplate": "winner_name=%{y}<br>count=%{x}<extra></extra>",
         "legendgroup": "Alexander Zverev",
         "marker": {
          "color": "#FF6692",
          "pattern": {
           "shape": ""
          }
         },
         "name": "Alexander Zverev",
         "offsetgroup": "Alexander Zverev",
         "orientation": "h",
         "showlegend": true,
         "textposition": "auto",
         "type": "bar",
         "x": [
          42
         ],
         "xaxis": "x",
         "y": [
          "Alexander Zverev"
         ],
         "yaxis": "y"
        },
        {
         "alignmentgroup": "True",
         "hovertemplate": "winner_name=%{y}<br>count=%{x}<extra></extra>",
         "legendgroup": "Stefanos Tsitsipas",
         "marker": {
          "color": "#B6E880",
          "pattern": {
           "shape": ""
          }
         },
         "name": "Stefanos Tsitsipas",
         "offsetgroup": "Stefanos Tsitsipas",
         "orientation": "h",
         "showlegend": true,
         "textposition": "auto",
         "type": "bar",
         "x": [
          40
         ],
         "xaxis": "x",
         "y": [
          "Stefanos Tsitsipas"
         ],
         "yaxis": "y"
        },
        {
         "alignmentgroup": "True",
         "hovertemplate": "winner_name=%{y}<br>count=%{x}<extra></extra>",
         "legendgroup": "Holger Rune",
         "marker": {
          "color": "#FF97FF",
          "pattern": {
           "shape": ""
          }
         },
         "name": "Holger Rune",
         "offsetgroup": "Holger Rune",
         "orientation": "h",
         "showlegend": true,
         "textposition": "auto",
         "type": "bar",
         "x": [
          39
         ],
         "xaxis": "x",
         "y": [
          "Holger Rune"
         ],
         "yaxis": "y"
        },
        {
         "alignmentgroup": "True",
         "hovertemplate": "winner_name=%{y}<br>count=%{x}<extra></extra>",
         "legendgroup": "Frances Tiafoe",
         "marker": {
          "color": "#FECB52",
          "pattern": {
           "shape": ""
          }
         },
         "name": "Frances Tiafoe",
         "offsetgroup": "Frances Tiafoe",
         "orientation": "h",
         "showlegend": true,
         "textposition": "auto",
         "type": "bar",
         "x": [
          37
         ],
         "xaxis": "x",
         "y": [
          "Frances Tiafoe"
         ],
         "yaxis": "y"
        },
        {
         "alignmentgroup": "True",
         "hovertemplate": "winner_name=%{y}<br>count=%{x}<extra></extra>",
         "legendgroup": "Alex De Minaur",
         "marker": {
          "color": "#636efa",
          "pattern": {
           "shape": ""
          }
         },
         "name": "Alex De Minaur",
         "offsetgroup": "Alex De Minaur",
         "orientation": "h",
         "showlegend": true,
         "textposition": "auto",
         "type": "bar",
         "x": [
          37
         ],
         "xaxis": "x",
         "y": [
          "Alex De Minaur"
         ],
         "yaxis": "y"
        },
        {
         "alignmentgroup": "True",
         "hovertemplate": "winner_name=%{y}<br>count=%{x}<extra></extra>",
         "legendgroup": "Tommy Paul",
         "marker": {
          "color": "#EF553B",
          "pattern": {
           "shape": ""
          }
         },
         "name": "Tommy Paul",
         "offsetgroup": "Tommy Paul",
         "orientation": "h",
         "showlegend": true,
         "textposition": "auto",
         "type": "bar",
         "x": [
          35
         ],
         "xaxis": "x",
         "y": [
          "Tommy Paul"
         ],
         "yaxis": "y"
        },
        {
         "alignmentgroup": "True",
         "hovertemplate": "winner_name=%{y}<br>count=%{x}<extra></extra>",
         "legendgroup": "Cameron Norrie",
         "marker": {
          "color": "#00cc96",
          "pattern": {
           "shape": ""
          }
         },
         "name": "Cameron Norrie",
         "offsetgroup": "Cameron Norrie",
         "orientation": "h",
         "showlegend": true,
         "textposition": "auto",
         "type": "bar",
         "x": [
          34
         ],
         "xaxis": "x",
         "y": [
          "Cameron Norrie"
         ],
         "yaxis": "y"
        },
        {
         "alignmentgroup": "True",
         "hovertemplate": "winner_name=%{y}<br>count=%{x}<extra></extra>",
         "legendgroup": "Francisco Cerundolo",
         "marker": {
          "color": "#ab63fa",
          "pattern": {
           "shape": ""
          }
         },
         "name": "Francisco Cerundolo",
         "offsetgroup": "Francisco Cerundolo",
         "orientation": "h",
         "showlegend": true,
         "textposition": "auto",
         "type": "bar",
         "x": [
          33
         ],
         "xaxis": "x",
         "y": [
          "Francisco Cerundolo"
         ],
         "yaxis": "y"
        },
        {
         "alignmentgroup": "True",
         "hovertemplate": "winner_name=%{y}<br>count=%{x}<extra></extra>",
         "legendgroup": "Hubert Hurkacz",
         "marker": {
          "color": "#FFA15A",
          "pattern": {
           "shape": ""
          }
         },
         "name": "Hubert Hurkacz",
         "offsetgroup": "Hubert Hurkacz",
         "orientation": "h",
         "showlegend": true,
         "textposition": "auto",
         "type": "bar",
         "x": [
          32
         ],
         "xaxis": "x",
         "y": [
          "Hubert Hurkacz"
         ],
         "yaxis": "y"
        }
       ],
       "layout": {
        "barmode": "relative",
        "font": {
         "color": "RebeccaPurple",
         "family": "Courier New, monospace",
         "size": 9
        },
        "legend": {
         "title": {
          "text": "Players"
         },
         "tracegroupgap": 0
        },
        "template": {
         "data": {
          "bar": [
           {
            "error_x": {
             "color": "#2a3f5f"
            },
            "error_y": {
             "color": "#2a3f5f"
            },
            "marker": {
             "line": {
              "color": "#E5ECF6",
              "width": 0.5
             },
             "pattern": {
              "fillmode": "overlay",
              "size": 10,
              "solidity": 0.2
             }
            },
            "type": "bar"
           }
          ],
          "barpolar": [
           {
            "marker": {
             "line": {
              "color": "#E5ECF6",
              "width": 0.5
             },
             "pattern": {
              "fillmode": "overlay",
              "size": 10,
              "solidity": 0.2
             }
            },
            "type": "barpolar"
           }
          ],
          "carpet": [
           {
            "aaxis": {
             "endlinecolor": "#2a3f5f",
             "gridcolor": "white",
             "linecolor": "white",
             "minorgridcolor": "white",
             "startlinecolor": "#2a3f5f"
            },
            "baxis": {
             "endlinecolor": "#2a3f5f",
             "gridcolor": "white",
             "linecolor": "white",
             "minorgridcolor": "white",
             "startlinecolor": "#2a3f5f"
            },
            "type": "carpet"
           }
          ],
          "choropleth": [
           {
            "colorbar": {
             "outlinewidth": 0,
             "ticks": ""
            },
            "type": "choropleth"
           }
          ],
          "contour": [
           {
            "colorbar": {
             "outlinewidth": 0,
             "ticks": ""
            },
            "colorscale": [
             [
              0,
              "#0d0887"
             ],
             [
              0.1111111111111111,
              "#46039f"
             ],
             [
              0.2222222222222222,
              "#7201a8"
             ],
             [
              0.3333333333333333,
              "#9c179e"
             ],
             [
              0.4444444444444444,
              "#bd3786"
             ],
             [
              0.5555555555555556,
              "#d8576b"
             ],
             [
              0.6666666666666666,
              "#ed7953"
             ],
             [
              0.7777777777777778,
              "#fb9f3a"
             ],
             [
              0.8888888888888888,
              "#fdca26"
             ],
             [
              1,
              "#f0f921"
             ]
            ],
            "type": "contour"
           }
          ],
          "contourcarpet": [
           {
            "colorbar": {
             "outlinewidth": 0,
             "ticks": ""
            },
            "type": "contourcarpet"
           }
          ],
          "heatmap": [
           {
            "colorbar": {
             "outlinewidth": 0,
             "ticks": ""
            },
            "colorscale": [
             [
              0,
              "#0d0887"
             ],
             [
              0.1111111111111111,
              "#46039f"
             ],
             [
              0.2222222222222222,
              "#7201a8"
             ],
             [
              0.3333333333333333,
              "#9c179e"
             ],
             [
              0.4444444444444444,
              "#bd3786"
             ],
             [
              0.5555555555555556,
              "#d8576b"
             ],
             [
              0.6666666666666666,
              "#ed7953"
             ],
             [
              0.7777777777777778,
              "#fb9f3a"
             ],
             [
              0.8888888888888888,
              "#fdca26"
             ],
             [
              1,
              "#f0f921"
             ]
            ],
            "type": "heatmap"
           }
          ],
          "heatmapgl": [
           {
            "colorbar": {
             "outlinewidth": 0,
             "ticks": ""
            },
            "colorscale": [
             [
              0,
              "#0d0887"
             ],
             [
              0.1111111111111111,
              "#46039f"
             ],
             [
              0.2222222222222222,
              "#7201a8"
             ],
             [
              0.3333333333333333,
              "#9c179e"
             ],
             [
              0.4444444444444444,
              "#bd3786"
             ],
             [
              0.5555555555555556,
              "#d8576b"
             ],
             [
              0.6666666666666666,
              "#ed7953"
             ],
             [
              0.7777777777777778,
              "#fb9f3a"
             ],
             [
              0.8888888888888888,
              "#fdca26"
             ],
             [
              1,
              "#f0f921"
             ]
            ],
            "type": "heatmapgl"
           }
          ],
          "histogram": [
           {
            "marker": {
             "pattern": {
              "fillmode": "overlay",
              "size": 10,
              "solidity": 0.2
             }
            },
            "type": "histogram"
           }
          ],
          "histogram2d": [
           {
            "colorbar": {
             "outlinewidth": 0,
             "ticks": ""
            },
            "colorscale": [
             [
              0,
              "#0d0887"
             ],
             [
              0.1111111111111111,
              "#46039f"
             ],
             [
              0.2222222222222222,
              "#7201a8"
             ],
             [
              0.3333333333333333,
              "#9c179e"
             ],
             [
              0.4444444444444444,
              "#bd3786"
             ],
             [
              0.5555555555555556,
              "#d8576b"
             ],
             [
              0.6666666666666666,
              "#ed7953"
             ],
             [
              0.7777777777777778,
              "#fb9f3a"
             ],
             [
              0.8888888888888888,
              "#fdca26"
             ],
             [
              1,
              "#f0f921"
             ]
            ],
            "type": "histogram2d"
           }
          ],
          "histogram2dcontour": [
           {
            "colorbar": {
             "outlinewidth": 0,
             "ticks": ""
            },
            "colorscale": [
             [
              0,
              "#0d0887"
             ],
             [
              0.1111111111111111,
              "#46039f"
             ],
             [
              0.2222222222222222,
              "#7201a8"
             ],
             [
              0.3333333333333333,
              "#9c179e"
             ],
             [
              0.4444444444444444,
              "#bd3786"
             ],
             [
              0.5555555555555556,
              "#d8576b"
             ],
             [
              0.6666666666666666,
              "#ed7953"
             ],
             [
              0.7777777777777778,
              "#fb9f3a"
             ],
             [
              0.8888888888888888,
              "#fdca26"
             ],
             [
              1,
              "#f0f921"
             ]
            ],
            "type": "histogram2dcontour"
           }
          ],
          "mesh3d": [
           {
            "colorbar": {
             "outlinewidth": 0,
             "ticks": ""
            },
            "type": "mesh3d"
           }
          ],
          "parcoords": [
           {
            "line": {
             "colorbar": {
              "outlinewidth": 0,
              "ticks": ""
             }
            },
            "type": "parcoords"
           }
          ],
          "pie": [
           {
            "automargin": true,
            "type": "pie"
           }
          ],
          "scatter": [
           {
            "fillpattern": {
             "fillmode": "overlay",
             "size": 10,
             "solidity": 0.2
            },
            "type": "scatter"
           }
          ],
          "scatter3d": [
           {
            "line": {
             "colorbar": {
              "outlinewidth": 0,
              "ticks": ""
             }
            },
            "marker": {
             "colorbar": {
              "outlinewidth": 0,
              "ticks": ""
             }
            },
            "type": "scatter3d"
           }
          ],
          "scattercarpet": [
           {
            "marker": {
             "colorbar": {
              "outlinewidth": 0,
              "ticks": ""
             }
            },
            "type": "scattercarpet"
           }
          ],
          "scattergeo": [
           {
            "marker": {
             "colorbar": {
              "outlinewidth": 0,
              "ticks": ""
             }
            },
            "type": "scattergeo"
           }
          ],
          "scattergl": [
           {
            "marker": {
             "colorbar": {
              "outlinewidth": 0,
              "ticks": ""
             }
            },
            "type": "scattergl"
           }
          ],
          "scattermapbox": [
           {
            "marker": {
             "colorbar": {
              "outlinewidth": 0,
              "ticks": ""
             }
            },
            "type": "scattermapbox"
           }
          ],
          "scatterpolar": [
           {
            "marker": {
             "colorbar": {
              "outlinewidth": 0,
              "ticks": ""
             }
            },
            "type": "scatterpolar"
           }
          ],
          "scatterpolargl": [
           {
            "marker": {
             "colorbar": {
              "outlinewidth": 0,
              "ticks": ""
             }
            },
            "type": "scatterpolargl"
           }
          ],
          "scatterternary": [
           {
            "marker": {
             "colorbar": {
              "outlinewidth": 0,
              "ticks": ""
             }
            },
            "type": "scatterternary"
           }
          ],
          "surface": [
           {
            "colorbar": {
             "outlinewidth": 0,
             "ticks": ""
            },
            "colorscale": [
             [
              0,
              "#0d0887"
             ],
             [
              0.1111111111111111,
              "#46039f"
             ],
             [
              0.2222222222222222,
              "#7201a8"
             ],
             [
              0.3333333333333333,
              "#9c179e"
             ],
             [
              0.4444444444444444,
              "#bd3786"
             ],
             [
              0.5555555555555556,
              "#d8576b"
             ],
             [
              0.6666666666666666,
              "#ed7953"
             ],
             [
              0.7777777777777778,
              "#fb9f3a"
             ],
             [
              0.8888888888888888,
              "#fdca26"
             ],
             [
              1,
              "#f0f921"
             ]
            ],
            "type": "surface"
           }
          ],
          "table": [
           {
            "cells": {
             "fill": {
              "color": "#EBF0F8"
             },
             "line": {
              "color": "white"
             }
            },
            "header": {
             "fill": {
              "color": "#C8D4E3"
             },
             "line": {
              "color": "white"
             }
            },
            "type": "table"
           }
          ]
         },
         "layout": {
          "annotationdefaults": {
           "arrowcolor": "#2a3f5f",
           "arrowhead": 0,
           "arrowwidth": 1
          },
          "autotypenumbers": "strict",
          "coloraxis": {
           "colorbar": {
            "outlinewidth": 0,
            "ticks": ""
           }
          },
          "colorscale": {
           "diverging": [
            [
             0,
             "#8e0152"
            ],
            [
             0.1,
             "#c51b7d"
            ],
            [
             0.2,
             "#de77ae"
            ],
            [
             0.3,
             "#f1b6da"
            ],
            [
             0.4,
             "#fde0ef"
            ],
            [
             0.5,
             "#f7f7f7"
            ],
            [
             0.6,
             "#e6f5d0"
            ],
            [
             0.7,
             "#b8e186"
            ],
            [
             0.8,
             "#7fbc41"
            ],
            [
             0.9,
             "#4d9221"
            ],
            [
             1,
             "#276419"
            ]
           ],
           "sequential": [
            [
             0,
             "#0d0887"
            ],
            [
             0.1111111111111111,
             "#46039f"
            ],
            [
             0.2222222222222222,
             "#7201a8"
            ],
            [
             0.3333333333333333,
             "#9c179e"
            ],
            [
             0.4444444444444444,
             "#bd3786"
            ],
            [
             0.5555555555555556,
             "#d8576b"
            ],
            [
             0.6666666666666666,
             "#ed7953"
            ],
            [
             0.7777777777777778,
             "#fb9f3a"
            ],
            [
             0.8888888888888888,
             "#fdca26"
            ],
            [
             1,
             "#f0f921"
            ]
           ],
           "sequentialminus": [
            [
             0,
             "#0d0887"
            ],
            [
             0.1111111111111111,
             "#46039f"
            ],
            [
             0.2222222222222222,
             "#7201a8"
            ],
            [
             0.3333333333333333,
             "#9c179e"
            ],
            [
             0.4444444444444444,
             "#bd3786"
            ],
            [
             0.5555555555555556,
             "#d8576b"
            ],
            [
             0.6666666666666666,
             "#ed7953"
            ],
            [
             0.7777777777777778,
             "#fb9f3a"
            ],
            [
             0.8888888888888888,
             "#fdca26"
            ],
            [
             1,
             "#f0f921"
            ]
           ]
          },
          "colorway": [
           "#636efa",
           "#EF553B",
           "#00cc96",
           "#ab63fa",
           "#FFA15A",
           "#19d3f3",
           "#FF6692",
           "#B6E880",
           "#FF97FF",
           "#FECB52"
          ],
          "font": {
           "color": "#2a3f5f"
          },
          "geo": {
           "bgcolor": "white",
           "lakecolor": "white",
           "landcolor": "#E5ECF6",
           "showlakes": true,
           "showland": true,
           "subunitcolor": "white"
          },
          "hoverlabel": {
           "align": "left"
          },
          "hovermode": "closest",
          "mapbox": {
           "style": "light"
          },
          "paper_bgcolor": "white",
          "plot_bgcolor": "#E5ECF6",
          "polar": {
           "angularaxis": {
            "gridcolor": "white",
            "linecolor": "white",
            "ticks": ""
           },
           "bgcolor": "#E5ECF6",
           "radialaxis": {
            "gridcolor": "white",
            "linecolor": "white",
            "ticks": ""
           }
          },
          "scene": {
           "xaxis": {
            "backgroundcolor": "#E5ECF6",
            "gridcolor": "white",
            "gridwidth": 2,
            "linecolor": "white",
            "showbackground": true,
            "ticks": "",
            "zerolinecolor": "white"
           },
           "yaxis": {
            "backgroundcolor": "#E5ECF6",
            "gridcolor": "white",
            "gridwidth": 2,
            "linecolor": "white",
            "showbackground": true,
            "ticks": "",
            "zerolinecolor": "white"
           },
           "zaxis": {
            "backgroundcolor": "#E5ECF6",
            "gridcolor": "white",
            "gridwidth": 2,
            "linecolor": "white",
            "showbackground": true,
            "ticks": "",
            "zerolinecolor": "white"
           }
          },
          "shapedefaults": {
           "line": {
            "color": "#2a3f5f"
           }
          },
          "ternary": {
           "aaxis": {
            "gridcolor": "white",
            "linecolor": "white",
            "ticks": ""
           },
           "baxis": {
            "gridcolor": "white",
            "linecolor": "white",
            "ticks": ""
           },
           "bgcolor": "#E5ECF6",
           "caxis": {
            "gridcolor": "white",
            "linecolor": "white",
            "ticks": ""
           }
          },
          "title": {
           "x": 0.05
          },
          "xaxis": {
           "automargin": true,
           "gridcolor": "white",
           "linecolor": "white",
           "ticks": "",
           "title": {
            "standoff": 15
           },
           "zerolinecolor": "white",
           "zerolinewidth": 2
          },
          "yaxis": {
           "automargin": true,
           "gridcolor": "white",
           "linecolor": "white",
           "ticks": "",
           "title": {
            "standoff": 15
           },
           "zerolinecolor": "white",
           "zerolinewidth": 2
          }
         }
        },
        "title": {
         "text": "Top 15 Players in ATP"
        },
        "xaxis": {
         "anchor": "y",
         "domain": [
          0,
          1
         ],
         "title": {
          "text": "Number of Wins"
         }
        },
        "yaxis": {
         "anchor": "x",
         "categoryarray": [
          "Hubert Hurkacz",
          "Francisco Cerundolo",
          "Cameron Norrie",
          "Tommy Paul",
          "Alex De Minaur",
          "Frances Tiafoe",
          "Holger Rune",
          "Stefanos Tsitsipas",
          "Alexander Zverev",
          "Andrey Rublev",
          "Novak Djokovic",
          "Jannik Sinner",
          "Taylor Fritz",
          "Daniil Medvedev",
          "Carlos Alcaraz"
         ],
         "categoryorder": "array",
         "domain": [
          0,
          1
         ],
         "title": {
          "text": "Player"
         }
        }
       }
      }
     },
     "metadata": {},
     "output_type": "display_data"
    }
   ],
   "source": [
    "## visualization of the top 15 players from the above data\n",
    "fig = px.bar(x.head(15),x='count', y='winner_name', orientation='h',title='Top Tennis Players by Number of Wins',color='winner_name')\n",
    "fig.update_layout(\n",
    "    title=\"Top 15 Players in ATP\",\n",
    "    xaxis_title='Number of Wins', yaxis_title='Player',\n",
    "    legend_title=\"Players\",\n",
    "    font=dict(\n",
    "        family=\"Courier New, monospace\",\n",
    "        size=9,\n",
    "        color=\"RebeccaPurple\"\n",
    "    )\n",
    ")\n",
    "fig.show()"
   ]
  },
  {
   "cell_type": "markdown",
   "id": "a249451f",
   "metadata": {},
   "source": [
    "#### Inference\n",
    "Out of all the professianl tennis players list , the top 15 players with the maximum number of wins are depicted in the above graph.\n",
    "\n",
    "Carlos Alcaraz has the maximum no of wins and stands on top of the player list. "
   ]
  },
  {
   "cell_type": "markdown",
   "id": "5dabfc48",
   "metadata": {},
   "source": [
    "### (3) Top 5 Countries in all the surfaces"
   ]
  },
  {
   "cell_type": "code",
   "execution_count": 212,
   "id": "6f4014d2",
   "metadata": {},
   "outputs": [],
   "source": [
    "## Grouping the countries with respect to the surface\n",
    "a=df[['surface','winner_ioc']]\n",
    "x1 =a.groupby('surface')"
   ]
  },
  {
   "cell_type": "code",
   "execution_count": 213,
   "id": "95be78b4",
   "metadata": {},
   "outputs": [
    {
     "data": {
      "text/html": [
       "<div>\n",
       "<style scoped>\n",
       "    .dataframe tbody tr th:only-of-type {\n",
       "        vertical-align: middle;\n",
       "    }\n",
       "\n",
       "    .dataframe tbody tr th {\n",
       "        vertical-align: top;\n",
       "    }\n",
       "\n",
       "    .dataframe thead th {\n",
       "        text-align: right;\n",
       "    }\n",
       "</style>\n",
       "<table border=\"1\" class=\"dataframe\">\n",
       "  <thead>\n",
       "    <tr style=\"text-align: right;\">\n",
       "      <th></th>\n",
       "      <th>surface</th>\n",
       "      <th>winner_ioc</th>\n",
       "      <th>count</th>\n",
       "    </tr>\n",
       "  </thead>\n",
       "  <tbody>\n",
       "    <tr>\n",
       "      <th>0</th>\n",
       "      <td>Hard</td>\n",
       "      <td>USA</td>\n",
       "      <td>220</td>\n",
       "    </tr>\n",
       "    <tr>\n",
       "      <th>1</th>\n",
       "      <td>Hard</td>\n",
       "      <td>FRA</td>\n",
       "      <td>102</td>\n",
       "    </tr>\n",
       "    <tr>\n",
       "      <th>2</th>\n",
       "      <td>Hard</td>\n",
       "      <td>AUS</td>\n",
       "      <td>89</td>\n",
       "    </tr>\n",
       "    <tr>\n",
       "      <th>3</th>\n",
       "      <td>Hard</td>\n",
       "      <td>RUS</td>\n",
       "      <td>81</td>\n",
       "    </tr>\n",
       "    <tr>\n",
       "      <th>4</th>\n",
       "      <td>Hard</td>\n",
       "      <td>ITA</td>\n",
       "      <td>61</td>\n",
       "    </tr>\n",
       "  </tbody>\n",
       "</table>\n",
       "</div>"
      ],
      "text/plain": [
       "  surface winner_ioc  count\n",
       "0    Hard        USA    220\n",
       "1    Hard        FRA    102\n",
       "2    Hard        AUS     89\n",
       "3    Hard        RUS     81\n",
       "4    Hard        ITA     61"
      ]
     },
     "execution_count": 213,
     "metadata": {},
     "output_type": "execute_result"
    }
   ],
   "source": [
    "## saving the data of each surface seperately\n",
    "hard_surface = pd.DataFrame(x1.get_group('Hard').value_counts().head().reset_index())\n",
    "clay_surface = pd.DataFrame(x1.get_group('Clay').value_counts().head().reset_index())\n",
    "grass_surface = pd.DataFrame(x1.get_group('Grass').value_counts().head().reset_index())\n",
    "hard_surface"
   ]
  },
  {
   "cell_type": "code",
   "execution_count": 214,
   "id": "6c9151f4",
   "metadata": {},
   "outputs": [
    {
     "data": {
      "application/vnd.plotly.v1+json": {
       "config": {
        "plotlyServerURL": "https://plot.ly"
       },
       "data": [
        {
         "alignmentgroup": "True",
         "bingroup": "x",
         "histfunc": "sum",
         "hovertemplate": "winner_ioc=USA<br>surface=%{x}<br>sum of count=%{y}<extra></extra>",
         "legendgroup": "USA",
         "marker": {
          "color": "#636efa",
          "pattern": {
           "shape": ""
          }
         },
         "name": "USA",
         "offsetgroup": "USA",
         "orientation": "v",
         "showlegend": true,
         "type": "histogram",
         "x": [
          "Hard",
          "Grass"
         ],
         "xaxis": "x",
         "y": [
          220,
          53
         ],
         "yaxis": "y"
        },
        {
         "alignmentgroup": "True",
         "bingroup": "x",
         "histfunc": "sum",
         "hovertemplate": "winner_ioc=FRA<br>surface=%{x}<br>sum of count=%{y}<extra></extra>",
         "legendgroup": "FRA",
         "marker": {
          "color": "#EF553B",
          "pattern": {
           "shape": ""
          }
         },
         "name": "FRA",
         "offsetgroup": "FRA",
         "orientation": "v",
         "showlegend": true,
         "type": "histogram",
         "x": [
          "Hard",
          "Grass"
         ],
         "xaxis": "x",
         "y": [
          102,
          34
         ],
         "yaxis": "y"
        },
        {
         "alignmentgroup": "True",
         "bingroup": "x",
         "histfunc": "sum",
         "hovertemplate": "winner_ioc=AUS<br>surface=%{x}<br>sum of count=%{y}<extra></extra>",
         "legendgroup": "AUS",
         "marker": {
          "color": "#00cc96",
          "pattern": {
           "shape": ""
          }
         },
         "name": "AUS",
         "offsetgroup": "AUS",
         "orientation": "v",
         "showlegend": true,
         "type": "histogram",
         "x": [
          "Hard",
          "Grass"
         ],
         "xaxis": "x",
         "y": [
          89,
          29
         ],
         "yaxis": "y"
        },
        {
         "alignmentgroup": "True",
         "bingroup": "x",
         "histfunc": "sum",
         "hovertemplate": "winner_ioc=RUS<br>surface=%{x}<br>sum of count=%{y}<extra></extra>",
         "legendgroup": "RUS",
         "marker": {
          "color": "#ab63fa",
          "pattern": {
           "shape": ""
          }
         },
         "name": "RUS",
         "offsetgroup": "RUS",
         "orientation": "v",
         "showlegend": true,
         "type": "histogram",
         "x": [
          "Hard",
          "Clay",
          "Grass"
         ],
         "xaxis": "x",
         "y": [
          81,
          63,
          24
         ],
         "yaxis": "y"
        },
        {
         "alignmentgroup": "True",
         "bingroup": "x",
         "histfunc": "sum",
         "hovertemplate": "winner_ioc=ITA<br>surface=%{x}<br>sum of count=%{y}<extra></extra>",
         "legendgroup": "ITA",
         "marker": {
          "color": "#FFA15A",
          "pattern": {
           "shape": ""
          }
         },
         "name": "ITA",
         "offsetgroup": "ITA",
         "orientation": "v",
         "showlegend": true,
         "type": "histogram",
         "x": [
          "Hard",
          "Clay"
         ],
         "xaxis": "x",
         "y": [
          61,
          74
         ],
         "yaxis": "y"
        },
        {
         "alignmentgroup": "True",
         "bingroup": "x",
         "histfunc": "sum",
         "hovertemplate": "winner_ioc=ARG<br>surface=%{x}<br>sum of count=%{y}<extra></extra>",
         "legendgroup": "ARG",
         "marker": {
          "color": "#19d3f3",
          "pattern": {
           "shape": ""
          }
         },
         "name": "ARG",
         "offsetgroup": "ARG",
         "orientation": "v",
         "showlegend": true,
         "type": "histogram",
         "x": [
          "Clay"
         ],
         "xaxis": "x",
         "y": [
          96
         ],
         "yaxis": "y"
        },
        {
         "alignmentgroup": "True",
         "bingroup": "x",
         "histfunc": "sum",
         "hovertemplate": "winner_ioc=ESP<br>surface=%{x}<br>sum of count=%{y}<extra></extra>",
         "legendgroup": "ESP",
         "marker": {
          "color": "#FF6692",
          "pattern": {
           "shape": ""
          }
         },
         "name": "ESP",
         "offsetgroup": "ESP",
         "orientation": "v",
         "showlegend": true,
         "type": "histogram",
         "x": [
          "Clay",
          "Grass"
         ],
         "xaxis": "x",
         "y": [
          94,
          22
         ],
         "yaxis": "y"
        },
        {
         "alignmentgroup": "True",
         "bingroup": "x",
         "histfunc": "sum",
         "hovertemplate": "winner_ioc=GER<br>surface=%{x}<br>sum of count=%{y}<extra></extra>",
         "legendgroup": "GER",
         "marker": {
          "color": "#B6E880",
          "pattern": {
           "shape": ""
          }
         },
         "name": "GER",
         "offsetgroup": "GER",
         "orientation": "v",
         "showlegend": true,
         "type": "histogram",
         "x": [
          "Clay"
         ],
         "xaxis": "x",
         "y": [
          57
         ],
         "yaxis": "y"
        }
       ],
       "layout": {
        "barmode": "group",
        "font": {
         "color": "RebeccaPurple",
         "family": "Courier New, monospace",
         "size": 18
        },
        "height": 400,
        "legend": {
         "title": {
          "text": "Country"
         },
         "tracegroupgap": 0
        },
        "margin": {
         "t": 60
        },
        "template": {
         "data": {
          "bar": [
           {
            "error_x": {
             "color": "#2a3f5f"
            },
            "error_y": {
             "color": "#2a3f5f"
            },
            "marker": {
             "line": {
              "color": "#E5ECF6",
              "width": 0.5
             },
             "pattern": {
              "fillmode": "overlay",
              "size": 10,
              "solidity": 0.2
             }
            },
            "type": "bar"
           }
          ],
          "barpolar": [
           {
            "marker": {
             "line": {
              "color": "#E5ECF6",
              "width": 0.5
             },
             "pattern": {
              "fillmode": "overlay",
              "size": 10,
              "solidity": 0.2
             }
            },
            "type": "barpolar"
           }
          ],
          "carpet": [
           {
            "aaxis": {
             "endlinecolor": "#2a3f5f",
             "gridcolor": "white",
             "linecolor": "white",
             "minorgridcolor": "white",
             "startlinecolor": "#2a3f5f"
            },
            "baxis": {
             "endlinecolor": "#2a3f5f",
             "gridcolor": "white",
             "linecolor": "white",
             "minorgridcolor": "white",
             "startlinecolor": "#2a3f5f"
            },
            "type": "carpet"
           }
          ],
          "choropleth": [
           {
            "colorbar": {
             "outlinewidth": 0,
             "ticks": ""
            },
            "type": "choropleth"
           }
          ],
          "contour": [
           {
            "colorbar": {
             "outlinewidth": 0,
             "ticks": ""
            },
            "colorscale": [
             [
              0,
              "#0d0887"
             ],
             [
              0.1111111111111111,
              "#46039f"
             ],
             [
              0.2222222222222222,
              "#7201a8"
             ],
             [
              0.3333333333333333,
              "#9c179e"
             ],
             [
              0.4444444444444444,
              "#bd3786"
             ],
             [
              0.5555555555555556,
              "#d8576b"
             ],
             [
              0.6666666666666666,
              "#ed7953"
             ],
             [
              0.7777777777777778,
              "#fb9f3a"
             ],
             [
              0.8888888888888888,
              "#fdca26"
             ],
             [
              1,
              "#f0f921"
             ]
            ],
            "type": "contour"
           }
          ],
          "contourcarpet": [
           {
            "colorbar": {
             "outlinewidth": 0,
             "ticks": ""
            },
            "type": "contourcarpet"
           }
          ],
          "heatmap": [
           {
            "colorbar": {
             "outlinewidth": 0,
             "ticks": ""
            },
            "colorscale": [
             [
              0,
              "#0d0887"
             ],
             [
              0.1111111111111111,
              "#46039f"
             ],
             [
              0.2222222222222222,
              "#7201a8"
             ],
             [
              0.3333333333333333,
              "#9c179e"
             ],
             [
              0.4444444444444444,
              "#bd3786"
             ],
             [
              0.5555555555555556,
              "#d8576b"
             ],
             [
              0.6666666666666666,
              "#ed7953"
             ],
             [
              0.7777777777777778,
              "#fb9f3a"
             ],
             [
              0.8888888888888888,
              "#fdca26"
             ],
             [
              1,
              "#f0f921"
             ]
            ],
            "type": "heatmap"
           }
          ],
          "heatmapgl": [
           {
            "colorbar": {
             "outlinewidth": 0,
             "ticks": ""
            },
            "colorscale": [
             [
              0,
              "#0d0887"
             ],
             [
              0.1111111111111111,
              "#46039f"
             ],
             [
              0.2222222222222222,
              "#7201a8"
             ],
             [
              0.3333333333333333,
              "#9c179e"
             ],
             [
              0.4444444444444444,
              "#bd3786"
             ],
             [
              0.5555555555555556,
              "#d8576b"
             ],
             [
              0.6666666666666666,
              "#ed7953"
             ],
             [
              0.7777777777777778,
              "#fb9f3a"
             ],
             [
              0.8888888888888888,
              "#fdca26"
             ],
             [
              1,
              "#f0f921"
             ]
            ],
            "type": "heatmapgl"
           }
          ],
          "histogram": [
           {
            "marker": {
             "pattern": {
              "fillmode": "overlay",
              "size": 10,
              "solidity": 0.2
             }
            },
            "type": "histogram"
           }
          ],
          "histogram2d": [
           {
            "colorbar": {
             "outlinewidth": 0,
             "ticks": ""
            },
            "colorscale": [
             [
              0,
              "#0d0887"
             ],
             [
              0.1111111111111111,
              "#46039f"
             ],
             [
              0.2222222222222222,
              "#7201a8"
             ],
             [
              0.3333333333333333,
              "#9c179e"
             ],
             [
              0.4444444444444444,
              "#bd3786"
             ],
             [
              0.5555555555555556,
              "#d8576b"
             ],
             [
              0.6666666666666666,
              "#ed7953"
             ],
             [
              0.7777777777777778,
              "#fb9f3a"
             ],
             [
              0.8888888888888888,
              "#fdca26"
             ],
             [
              1,
              "#f0f921"
             ]
            ],
            "type": "histogram2d"
           }
          ],
          "histogram2dcontour": [
           {
            "colorbar": {
             "outlinewidth": 0,
             "ticks": ""
            },
            "colorscale": [
             [
              0,
              "#0d0887"
             ],
             [
              0.1111111111111111,
              "#46039f"
             ],
             [
              0.2222222222222222,
              "#7201a8"
             ],
             [
              0.3333333333333333,
              "#9c179e"
             ],
             [
              0.4444444444444444,
              "#bd3786"
             ],
             [
              0.5555555555555556,
              "#d8576b"
             ],
             [
              0.6666666666666666,
              "#ed7953"
             ],
             [
              0.7777777777777778,
              "#fb9f3a"
             ],
             [
              0.8888888888888888,
              "#fdca26"
             ],
             [
              1,
              "#f0f921"
             ]
            ],
            "type": "histogram2dcontour"
           }
          ],
          "mesh3d": [
           {
            "colorbar": {
             "outlinewidth": 0,
             "ticks": ""
            },
            "type": "mesh3d"
           }
          ],
          "parcoords": [
           {
            "line": {
             "colorbar": {
              "outlinewidth": 0,
              "ticks": ""
             }
            },
            "type": "parcoords"
           }
          ],
          "pie": [
           {
            "automargin": true,
            "type": "pie"
           }
          ],
          "scatter": [
           {
            "fillpattern": {
             "fillmode": "overlay",
             "size": 10,
             "solidity": 0.2
            },
            "type": "scatter"
           }
          ],
          "scatter3d": [
           {
            "line": {
             "colorbar": {
              "outlinewidth": 0,
              "ticks": ""
             }
            },
            "marker": {
             "colorbar": {
              "outlinewidth": 0,
              "ticks": ""
             }
            },
            "type": "scatter3d"
           }
          ],
          "scattercarpet": [
           {
            "marker": {
             "colorbar": {
              "outlinewidth": 0,
              "ticks": ""
             }
            },
            "type": "scattercarpet"
           }
          ],
          "scattergeo": [
           {
            "marker": {
             "colorbar": {
              "outlinewidth": 0,
              "ticks": ""
             }
            },
            "type": "scattergeo"
           }
          ],
          "scattergl": [
           {
            "marker": {
             "colorbar": {
              "outlinewidth": 0,
              "ticks": ""
             }
            },
            "type": "scattergl"
           }
          ],
          "scattermapbox": [
           {
            "marker": {
             "colorbar": {
              "outlinewidth": 0,
              "ticks": ""
             }
            },
            "type": "scattermapbox"
           }
          ],
          "scatterpolar": [
           {
            "marker": {
             "colorbar": {
              "outlinewidth": 0,
              "ticks": ""
             }
            },
            "type": "scatterpolar"
           }
          ],
          "scatterpolargl": [
           {
            "marker": {
             "colorbar": {
              "outlinewidth": 0,
              "ticks": ""
             }
            },
            "type": "scatterpolargl"
           }
          ],
          "scatterternary": [
           {
            "marker": {
             "colorbar": {
              "outlinewidth": 0,
              "ticks": ""
             }
            },
            "type": "scatterternary"
           }
          ],
          "surface": [
           {
            "colorbar": {
             "outlinewidth": 0,
             "ticks": ""
            },
            "colorscale": [
             [
              0,
              "#0d0887"
             ],
             [
              0.1111111111111111,
              "#46039f"
             ],
             [
              0.2222222222222222,
              "#7201a8"
             ],
             [
              0.3333333333333333,
              "#9c179e"
             ],
             [
              0.4444444444444444,
              "#bd3786"
             ],
             [
              0.5555555555555556,
              "#d8576b"
             ],
             [
              0.6666666666666666,
              "#ed7953"
             ],
             [
              0.7777777777777778,
              "#fb9f3a"
             ],
             [
              0.8888888888888888,
              "#fdca26"
             ],
             [
              1,
              "#f0f921"
             ]
            ],
            "type": "surface"
           }
          ],
          "table": [
           {
            "cells": {
             "fill": {
              "color": "#EBF0F8"
             },
             "line": {
              "color": "white"
             }
            },
            "header": {
             "fill": {
              "color": "#C8D4E3"
             },
             "line": {
              "color": "white"
             }
            },
            "type": "table"
           }
          ]
         },
         "layout": {
          "annotationdefaults": {
           "arrowcolor": "#2a3f5f",
           "arrowhead": 0,
           "arrowwidth": 1
          },
          "autotypenumbers": "strict",
          "coloraxis": {
           "colorbar": {
            "outlinewidth": 0,
            "ticks": ""
           }
          },
          "colorscale": {
           "diverging": [
            [
             0,
             "#8e0152"
            ],
            [
             0.1,
             "#c51b7d"
            ],
            [
             0.2,
             "#de77ae"
            ],
            [
             0.3,
             "#f1b6da"
            ],
            [
             0.4,
             "#fde0ef"
            ],
            [
             0.5,
             "#f7f7f7"
            ],
            [
             0.6,
             "#e6f5d0"
            ],
            [
             0.7,
             "#b8e186"
            ],
            [
             0.8,
             "#7fbc41"
            ],
            [
             0.9,
             "#4d9221"
            ],
            [
             1,
             "#276419"
            ]
           ],
           "sequential": [
            [
             0,
             "#0d0887"
            ],
            [
             0.1111111111111111,
             "#46039f"
            ],
            [
             0.2222222222222222,
             "#7201a8"
            ],
            [
             0.3333333333333333,
             "#9c179e"
            ],
            [
             0.4444444444444444,
             "#bd3786"
            ],
            [
             0.5555555555555556,
             "#d8576b"
            ],
            [
             0.6666666666666666,
             "#ed7953"
            ],
            [
             0.7777777777777778,
             "#fb9f3a"
            ],
            [
             0.8888888888888888,
             "#fdca26"
            ],
            [
             1,
             "#f0f921"
            ]
           ],
           "sequentialminus": [
            [
             0,
             "#0d0887"
            ],
            [
             0.1111111111111111,
             "#46039f"
            ],
            [
             0.2222222222222222,
             "#7201a8"
            ],
            [
             0.3333333333333333,
             "#9c179e"
            ],
            [
             0.4444444444444444,
             "#bd3786"
            ],
            [
             0.5555555555555556,
             "#d8576b"
            ],
            [
             0.6666666666666666,
             "#ed7953"
            ],
            [
             0.7777777777777778,
             "#fb9f3a"
            ],
            [
             0.8888888888888888,
             "#fdca26"
            ],
            [
             1,
             "#f0f921"
            ]
           ]
          },
          "colorway": [
           "#636efa",
           "#EF553B",
           "#00cc96",
           "#ab63fa",
           "#FFA15A",
           "#19d3f3",
           "#FF6692",
           "#B6E880",
           "#FF97FF",
           "#FECB52"
          ],
          "font": {
           "color": "#2a3f5f"
          },
          "geo": {
           "bgcolor": "white",
           "lakecolor": "white",
           "landcolor": "#E5ECF6",
           "showlakes": true,
           "showland": true,
           "subunitcolor": "white"
          },
          "hoverlabel": {
           "align": "left"
          },
          "hovermode": "closest",
          "mapbox": {
           "style": "light"
          },
          "paper_bgcolor": "white",
          "plot_bgcolor": "#E5ECF6",
          "polar": {
           "angularaxis": {
            "gridcolor": "white",
            "linecolor": "white",
            "ticks": ""
           },
           "bgcolor": "#E5ECF6",
           "radialaxis": {
            "gridcolor": "white",
            "linecolor": "white",
            "ticks": ""
           }
          },
          "scene": {
           "xaxis": {
            "backgroundcolor": "#E5ECF6",
            "gridcolor": "white",
            "gridwidth": 2,
            "linecolor": "white",
            "showbackground": true,
            "ticks": "",
            "zerolinecolor": "white"
           },
           "yaxis": {
            "backgroundcolor": "#E5ECF6",
            "gridcolor": "white",
            "gridwidth": 2,
            "linecolor": "white",
            "showbackground": true,
            "ticks": "",
            "zerolinecolor": "white"
           },
           "zaxis": {
            "backgroundcolor": "#E5ECF6",
            "gridcolor": "white",
            "gridwidth": 2,
            "linecolor": "white",
            "showbackground": true,
            "ticks": "",
            "zerolinecolor": "white"
           }
          },
          "shapedefaults": {
           "line": {
            "color": "#2a3f5f"
           }
          },
          "ternary": {
           "aaxis": {
            "gridcolor": "white",
            "linecolor": "white",
            "ticks": ""
           },
           "baxis": {
            "gridcolor": "white",
            "linecolor": "white",
            "ticks": ""
           },
           "bgcolor": "#E5ECF6",
           "caxis": {
            "gridcolor": "white",
            "linecolor": "white",
            "ticks": ""
           }
          },
          "title": {
           "x": 0.05
          },
          "xaxis": {
           "automargin": true,
           "gridcolor": "white",
           "linecolor": "white",
           "ticks": "",
           "title": {
            "standoff": 15
           },
           "zerolinecolor": "white",
           "zerolinewidth": 2
          },
          "yaxis": {
           "automargin": true,
           "gridcolor": "white",
           "linecolor": "white",
           "ticks": "",
           "title": {
            "standoff": 15
           },
           "zerolinecolor": "white",
           "zerolinewidth": 2
          }
         }
        },
        "title": {
         "text": " Top 5 countries in each surface"
        },
        "xaxis": {
         "anchor": "y",
         "domain": [
          0,
          1
         ],
         "title": {
          "text": "Surface"
         }
        },
        "yaxis": {
         "anchor": "x",
         "domain": [
          0,
          1
         ],
         "title": {
          "text": "Number of Wins"
         }
        }
       }
      }
     },
     "metadata": {},
     "output_type": "display_data"
    }
   ],
   "source": [
    "## concatinating the above data into a single data Frame\n",
    "surface_dataframe = pd.concat([hard_surface,clay_surface,grass_surface])\n",
    "## Visualising the Top 5 countries in each surface\n",
    "fig = px.histogram(surface_dataframe, x=\"surface\", y='count',\n",
    "             color='winner_ioc', barmode='group',\n",
    "             height=400)\n",
    "fig.update_layout(\n",
    "    title=\" Top 5 countries in each surface\",\n",
    "    xaxis_title=\"Surface\",\n",
    "    yaxis_title=\"Number of Wins\",\n",
    "    legend_title=\"Country\",\n",
    "    font=dict(\n",
    "        family=\"Courier New, monospace\",\n",
    "        size=18,\n",
    "        color=\"RebeccaPurple\"\n",
    "    )\n",
    ")\n",
    "fig.show()"
   ]
  },
  {
   "cell_type": "markdown",
   "id": "c908539f",
   "metadata": {},
   "source": [
    "#### Inference \n",
    "As per the Dataset , the surfaces are classified into three types **HARD, GRASS , CLAY**. The countires which have perfomed well in above mentioned surfaces are illustrated. \n",
    "\n",
    "* From the above graph, we see that Russia is performing well in all the three surfaces. \n",
    "\n",
    "* Additionally USA tops in Hard Surface and Grass Surfaces while Argentina is found to perfrom well in Clay."
   ]
  },
  {
   "cell_type": "markdown",
   "id": "10da0577",
   "metadata": {},
   "source": [
    "#### (4) Determining the `Correlation` to examine the relationship"
   ]
  },
  {
   "cell_type": "code",
   "execution_count": 215,
   "id": "c9cd8b65",
   "metadata": {},
   "outputs": [
    {
     "name": "stdout",
     "output_type": "stream",
     "text": [
      "0.9635868103962056\n"
     ]
    }
   ],
   "source": [
    "## Finding the correlation between number of first serves IN vs number of first serves Won\n",
    "print(df[\"w_1stIn\"].corr(df[\"w_1stWon\"]))\n",
    "x = df[\"w_1stIn\"]\n",
    "y = df[\"w_1stWon\"]"
   ]
  },
  {
   "cell_type": "markdown",
   "id": "4a6c5b45",
   "metadata": {},
   "source": [
    "The correlation value is 0.9635 , which strongly states that the two attributes are highly dependent on each other.\n",
    "\n",
    "It also states that the person who gets the chance to server first has higher probabilty of winning the point ."
   ]
  },
  {
   "cell_type": "code",
   "execution_count": 216,
   "id": "b04daefb",
   "metadata": {},
   "outputs": [
    {
     "data": {
      "image/png": "[encoded data removed]",
      "text/plain": [
       "<Figure size 800x600 with 1 Axes>"
      ]
     },
     "metadata": {},
     "output_type": "display_data"
    }
   ],
   "source": [
    "## Plotting a graph to check the \n",
    "plt.figure(figsize=(8, 6))\n",
    "plt.scatter(x, y, alpha=0.5,color='green')\n",
    "plt.title(\"Scatter Plot of w_1stIn vs. w1stWon\")\n",
    "plt.xlabel(\"w_1stIn (First Serves In)\")\n",
    "plt.ylabel(\"w1stWon (First Serve Points Won)\")\n",
    "plt.grid(True)\n",
    "plt.show()"
   ]
  },
  {
   "cell_type": "code",
   "execution_count": 217,
   "id": "2bf38d03",
   "metadata": {},
   "outputs": [
    {
     "data": {
      "text/html": [
       "<div>\n",
       "<style scoped>\n",
       "    .dataframe tbody tr th:only-of-type {\n",
       "        vertical-align: middle;\n",
       "    }\n",
       "\n",
       "    .dataframe tbody tr th {\n",
       "        vertical-align: top;\n",
       "    }\n",
       "\n",
       "    .dataframe thead th {\n",
       "        text-align: right;\n",
       "    }\n",
       "</style>\n",
       "<table border=\"1\" class=\"dataframe\">\n",
       "  <thead>\n",
       "    <tr style=\"text-align: right;\">\n",
       "      <th></th>\n",
       "      <th>winner_ht</th>\n",
       "      <th>w_ace</th>\n",
       "      <th>w_1stWon</th>\n",
       "      <th>w_2ndWon</th>\n",
       "      <th>w_SvGms</th>\n",
       "      <th>w_bpSaved</th>\n",
       "      <th>w_bpFaced</th>\n",
       "      <th>l_ace</th>\n",
       "      <th>l_df</th>\n",
       "      <th>l_svpt</th>\n",
       "      <th>l_1stIn</th>\n",
       "      <th>l_1stWon</th>\n",
       "      <th>l_2ndWon</th>\n",
       "      <th>l_SvGms</th>\n",
       "      <th>l_bpSaved</th>\n",
       "      <th>l_bpFaced</th>\n",
       "    </tr>\n",
       "  </thead>\n",
       "  <tbody>\n",
       "    <tr>\n",
       "      <th>0</th>\n",
       "      <td>193.0</td>\n",
       "      <td>15.0</td>\n",
       "      <td>45.0</td>\n",
       "      <td>16.0</td>\n",
       "      <td>12.0</td>\n",
       "      <td>0.0</td>\n",
       "      <td>0.0</td>\n",
       "      <td>7.0</td>\n",
       "      <td>2.0</td>\n",
       "      <td>97.0</td>\n",
       "      <td>62.0</td>\n",
       "      <td>47.0</td>\n",
       "      <td>15.0</td>\n",
       "      <td>12.0</td>\n",
       "      <td>9.0</td>\n",
       "      <td>9.0</td>\n",
       "    </tr>\n",
       "    <tr>\n",
       "      <th>1</th>\n",
       "      <td>188.0</td>\n",
       "      <td>3.0</td>\n",
       "      <td>15.0</td>\n",
       "      <td>3.0</td>\n",
       "      <td>4.0</td>\n",
       "      <td>3.0</td>\n",
       "      <td>3.0</td>\n",
       "      <td>0.0</td>\n",
       "      <td>0.0</td>\n",
       "      <td>21.0</td>\n",
       "      <td>12.0</td>\n",
       "      <td>8.0</td>\n",
       "      <td>3.0</td>\n",
       "      <td>4.0</td>\n",
       "      <td>1.0</td>\n",
       "      <td>3.0</td>\n",
       "    </tr>\n",
       "    <tr>\n",
       "      <th>2</th>\n",
       "      <td>193.0</td>\n",
       "      <td>11.0</td>\n",
       "      <td>44.0</td>\n",
       "      <td>19.0</td>\n",
       "      <td>12.0</td>\n",
       "      <td>4.0</td>\n",
       "      <td>4.0</td>\n",
       "      <td>17.0</td>\n",
       "      <td>1.0</td>\n",
       "      <td>82.0</td>\n",
       "      <td>62.0</td>\n",
       "      <td>51.0</td>\n",
       "      <td>7.0</td>\n",
       "      <td>12.0</td>\n",
       "      <td>2.0</td>\n",
       "      <td>2.0</td>\n",
       "    </tr>\n",
       "    <tr>\n",
       "      <th>3</th>\n",
       "      <td>188.0</td>\n",
       "      <td>5.0</td>\n",
       "      <td>31.0</td>\n",
       "      <td>11.0</td>\n",
       "      <td>9.0</td>\n",
       "      <td>5.0</td>\n",
       "      <td>5.0</td>\n",
       "      <td>3.0</td>\n",
       "      <td>3.0</td>\n",
       "      <td>68.0</td>\n",
       "      <td>41.0</td>\n",
       "      <td>26.0</td>\n",
       "      <td>12.0</td>\n",
       "      <td>9.0</td>\n",
       "      <td>6.0</td>\n",
       "      <td>9.0</td>\n",
       "    </tr>\n",
       "    <tr>\n",
       "      <th>4</th>\n",
       "      <td>193.0</td>\n",
       "      <td>9.0</td>\n",
       "      <td>43.0</td>\n",
       "      <td>28.0</td>\n",
       "      <td>16.0</td>\n",
       "      <td>1.0</td>\n",
       "      <td>2.0</td>\n",
       "      <td>7.0</td>\n",
       "      <td>2.0</td>\n",
       "      <td>89.0</td>\n",
       "      <td>58.0</td>\n",
       "      <td>48.0</td>\n",
       "      <td>18.0</td>\n",
       "      <td>16.0</td>\n",
       "      <td>1.0</td>\n",
       "      <td>2.0</td>\n",
       "    </tr>\n",
       "    <tr>\n",
       "      <th>...</th>\n",
       "      <td>...</td>\n",
       "      <td>...</td>\n",
       "      <td>...</td>\n",
       "      <td>...</td>\n",
       "      <td>...</td>\n",
       "      <td>...</td>\n",
       "      <td>...</td>\n",
       "      <td>...</td>\n",
       "      <td>...</td>\n",
       "      <td>...</td>\n",
       "      <td>...</td>\n",
       "      <td>...</td>\n",
       "      <td>...</td>\n",
       "      <td>...</td>\n",
       "      <td>...</td>\n",
       "      <td>...</td>\n",
       "    </tr>\n",
       "    <tr>\n",
       "      <th>2267</th>\n",
       "      <td>198.0</td>\n",
       "      <td>8.0</td>\n",
       "      <td>41.0</td>\n",
       "      <td>13.0</td>\n",
       "      <td>14.0</td>\n",
       "      <td>8.0</td>\n",
       "      <td>13.0</td>\n",
       "      <td>4.0</td>\n",
       "      <td>5.0</td>\n",
       "      <td>98.0</td>\n",
       "      <td>59.0</td>\n",
       "      <td>38.0</td>\n",
       "      <td>11.0</td>\n",
       "      <td>15.0</td>\n",
       "      <td>10.0</td>\n",
       "      <td>19.0</td>\n",
       "    </tr>\n",
       "    <tr>\n",
       "      <th>2269</th>\n",
       "      <td>188.0</td>\n",
       "      <td>7.0</td>\n",
       "      <td>39.0</td>\n",
       "      <td>21.0</td>\n",
       "      <td>14.0</td>\n",
       "      <td>10.0</td>\n",
       "      <td>12.0</td>\n",
       "      <td>8.0</td>\n",
       "      <td>2.0</td>\n",
       "      <td>89.0</td>\n",
       "      <td>49.0</td>\n",
       "      <td>36.0</td>\n",
       "      <td>11.0</td>\n",
       "      <td>13.0</td>\n",
       "      <td>3.0</td>\n",
       "      <td>9.0</td>\n",
       "    </tr>\n",
       "    <tr>\n",
       "      <th>2270</th>\n",
       "      <td>198.0</td>\n",
       "      <td>9.0</td>\n",
       "      <td>68.0</td>\n",
       "      <td>23.0</td>\n",
       "      <td>20.0</td>\n",
       "      <td>8.0</td>\n",
       "      <td>9.0</td>\n",
       "      <td>0.0</td>\n",
       "      <td>0.0</td>\n",
       "      <td>133.0</td>\n",
       "      <td>93.0</td>\n",
       "      <td>64.0</td>\n",
       "      <td>19.0</td>\n",
       "      <td>18.0</td>\n",
       "      <td>4.0</td>\n",
       "      <td>7.0</td>\n",
       "    </tr>\n",
       "    <tr>\n",
       "      <th>2271</th>\n",
       "      <td>188.0</td>\n",
       "      <td>5.0</td>\n",
       "      <td>56.0</td>\n",
       "      <td>11.0</td>\n",
       "      <td>16.0</td>\n",
       "      <td>4.0</td>\n",
       "      <td>6.0</td>\n",
       "      <td>5.0</td>\n",
       "      <td>5.0</td>\n",
       "      <td>102.0</td>\n",
       "      <td>72.0</td>\n",
       "      <td>43.0</td>\n",
       "      <td>14.0</td>\n",
       "      <td>14.0</td>\n",
       "      <td>9.0</td>\n",
       "      <td>14.0</td>\n",
       "    </tr>\n",
       "    <tr>\n",
       "      <th>2272</th>\n",
       "      <td>188.0</td>\n",
       "      <td>4.0</td>\n",
       "      <td>48.0</td>\n",
       "      <td>27.0</td>\n",
       "      <td>16.0</td>\n",
       "      <td>2.0</td>\n",
       "      <td>3.0</td>\n",
       "      <td>6.0</td>\n",
       "      <td>6.0</td>\n",
       "      <td>106.0</td>\n",
       "      <td>69.0</td>\n",
       "      <td>49.0</td>\n",
       "      <td>14.0</td>\n",
       "      <td>15.0</td>\n",
       "      <td>3.0</td>\n",
       "      <td>6.0</td>\n",
       "    </tr>\n",
       "  </tbody>\n",
       "</table>\n",
       "<p>2155 rows × 16 columns</p>\n",
       "</div>"
      ],
      "text/plain": [
       "      winner_ht  w_ace  w_1stWon  w_2ndWon  w_SvGms  w_bpSaved  w_bpFaced  \\\n",
       "0         193.0   15.0      45.0      16.0     12.0        0.0        0.0   \n",
       "1         188.0    3.0      15.0       3.0      4.0        3.0        3.0   \n",
       "2         193.0   11.0      44.0      19.0     12.0        4.0        4.0   \n",
       "3         188.0    5.0      31.0      11.0      9.0        5.0        5.0   \n",
       "4         193.0    9.0      43.0      28.0     16.0        1.0        2.0   \n",
       "...         ...    ...       ...       ...      ...        ...        ...   \n",
       "2267      198.0    8.0      41.0      13.0     14.0        8.0       13.0   \n",
       "2269      188.0    7.0      39.0      21.0     14.0       10.0       12.0   \n",
       "2270      198.0    9.0      68.0      23.0     20.0        8.0        9.0   \n",
       "2271      188.0    5.0      56.0      11.0     16.0        4.0        6.0   \n",
       "2272      188.0    4.0      48.0      27.0     16.0        2.0        3.0   \n",
       "\n",
       "      l_ace  l_df  l_svpt  l_1stIn  l_1stWon  l_2ndWon  l_SvGms  l_bpSaved  \\\n",
       "0       7.0   2.0    97.0     62.0      47.0      15.0     12.0        9.0   \n",
       "1       0.0   0.0    21.0     12.0       8.0       3.0      4.0        1.0   \n",
       "2      17.0   1.0    82.0     62.0      51.0       7.0     12.0        2.0   \n",
       "3       3.0   3.0    68.0     41.0      26.0      12.0      9.0        6.0   \n",
       "4       7.0   2.0    89.0     58.0      48.0      18.0     16.0        1.0   \n",
       "...     ...   ...     ...      ...       ...       ...      ...        ...   \n",
       "2267    4.0   5.0    98.0     59.0      38.0      11.0     15.0       10.0   \n",
       "2269    8.0   2.0    89.0     49.0      36.0      11.0     13.0        3.0   \n",
       "2270    0.0   0.0   133.0     93.0      64.0      19.0     18.0        4.0   \n",
       "2271    5.0   5.0   102.0     72.0      43.0      14.0     14.0        9.0   \n",
       "2272    6.0   6.0   106.0     69.0      49.0      14.0     15.0        3.0   \n",
       "\n",
       "      l_bpFaced  \n",
       "0           9.0  \n",
       "1           3.0  \n",
       "2           2.0  \n",
       "3           9.0  \n",
       "4           2.0  \n",
       "...         ...  \n",
       "2267       19.0  \n",
       "2269        9.0  \n",
       "2270        7.0  \n",
       "2271       14.0  \n",
       "2272        6.0  \n",
       "\n",
       "[2155 rows x 16 columns]"
      ]
     },
     "execution_count": 217,
     "metadata": {},
     "output_type": "execute_result"
    }
   ],
   "source": [
    "dataf = df[['winner_ht','w_ace','w_1stWon','w_2ndWon','w_SvGms','w_bpSaved','w_bpFaced','l_ace','l_df','l_svpt','l_1stIn','l_1stWon','l_2ndWon','l_SvGms','l_bpSaved','l_bpFaced']]\n",
    "\n",
    "dataf = dataf.dropna()\n",
    "dataf"
   ]
  },
  {
   "cell_type": "code",
   "execution_count": 218,
   "id": "9014e564",
   "metadata": {},
   "outputs": [
    {
     "data": {
      "image/png": "[encoded data removed]",
      "text/plain": [
       "<Figure size 1200x700 with 2 Axes>"
      ]
     },
     "metadata": {},
     "output_type": "display_data"
    }
   ],
   "source": [
    "plt.figure(figsize=(12, 7))\n",
    "dataplot = sns.heatmap(dataf.corr(), cmap=\"YlGnBu\", annot=True)"
   ]
  },
  {
   "cell_type": "markdown",
   "id": "245be42e",
   "metadata": {},
   "source": [
    "The deeper hues have higher correlation values than the lighter shades, which have a weaker relationship with the associated traits, according to the correlation matrix of all the attributes given above."
   ]
  },
  {
   "cell_type": "markdown",
   "id": "40b33810",
   "metadata": {},
   "source": [
    "#### Victory anlaysis of players with respect to their height "
   ]
  },
  {
   "cell_type": "code",
   "execution_count": 219,
   "id": "ba289b07",
   "metadata": {},
   "outputs": [],
   "source": [
    "## Grouping by surface with winner height and loser height \n",
    "a1 =df[['surface','winner_ht', 'loser_ht']]\n",
    "ps =a1.groupby('surface')"
   ]
  },
  {
   "cell_type": "code",
   "execution_count": 220,
   "id": "0ed0085c",
   "metadata": {},
   "outputs": [
    {
     "data": {
      "text/html": [
       "<div>\n",
       "<style scoped>\n",
       "    .dataframe tbody tr th:only-of-type {\n",
       "        vertical-align: middle;\n",
       "    }\n",
       "\n",
       "    .dataframe tbody tr th {\n",
       "        vertical-align: top;\n",
       "    }\n",
       "\n",
       "    .dataframe thead th {\n",
       "        text-align: right;\n",
       "    }\n",
       "</style>\n",
       "<table border=\"1\" class=\"dataframe\">\n",
       "  <thead>\n",
       "    <tr style=\"text-align: right;\">\n",
       "      <th></th>\n",
       "      <th>index</th>\n",
       "      <th>surface</th>\n",
       "      <th>winner_ht</th>\n",
       "      <th>loser_ht</th>\n",
       "    </tr>\n",
       "  </thead>\n",
       "  <tbody>\n",
       "    <tr>\n",
       "      <th>0</th>\n",
       "      <td>0</td>\n",
       "      <td>Hard</td>\n",
       "      <td>193.0</td>\n",
       "      <td>196.0</td>\n",
       "    </tr>\n",
       "    <tr>\n",
       "      <th>1</th>\n",
       "      <td>1</td>\n",
       "      <td>Hard</td>\n",
       "      <td>188.0</td>\n",
       "      <td>185.0</td>\n",
       "    </tr>\n",
       "    <tr>\n",
       "      <th>2</th>\n",
       "      <td>2</td>\n",
       "      <td>Hard</td>\n",
       "      <td>193.0</td>\n",
       "      <td>196.0</td>\n",
       "    </tr>\n",
       "    <tr>\n",
       "      <th>3</th>\n",
       "      <td>3</td>\n",
       "      <td>Hard</td>\n",
       "      <td>188.0</td>\n",
       "      <td>183.0</td>\n",
       "    </tr>\n",
       "    <tr>\n",
       "      <th>4</th>\n",
       "      <td>4</td>\n",
       "      <td>Hard</td>\n",
       "      <td>193.0</td>\n",
       "      <td>196.0</td>\n",
       "    </tr>\n",
       "    <tr>\n",
       "      <th>...</th>\n",
       "      <td>...</td>\n",
       "      <td>...</td>\n",
       "      <td>...</td>\n",
       "      <td>...</td>\n",
       "    </tr>\n",
       "    <tr>\n",
       "      <th>1162</th>\n",
       "      <td>2364</td>\n",
       "      <td>Hard</td>\n",
       "      <td>NaN</td>\n",
       "      <td>NaN</td>\n",
       "    </tr>\n",
       "    <tr>\n",
       "      <th>1163</th>\n",
       "      <td>2365</td>\n",
       "      <td>Hard</td>\n",
       "      <td>185.0</td>\n",
       "      <td>NaN</td>\n",
       "    </tr>\n",
       "    <tr>\n",
       "      <th>1164</th>\n",
       "      <td>2366</td>\n",
       "      <td>Hard</td>\n",
       "      <td>180.0</td>\n",
       "      <td>NaN</td>\n",
       "    </tr>\n",
       "    <tr>\n",
       "      <th>1165</th>\n",
       "      <td>2367</td>\n",
       "      <td>Hard</td>\n",
       "      <td>NaN</td>\n",
       "      <td>188.0</td>\n",
       "    </tr>\n",
       "    <tr>\n",
       "      <th>1166</th>\n",
       "      <td>2368</td>\n",
       "      <td>Hard</td>\n",
       "      <td>180.0</td>\n",
       "      <td>185.0</td>\n",
       "    </tr>\n",
       "  </tbody>\n",
       "</table>\n",
       "<p>1167 rows × 4 columns</p>\n",
       "</div>"
      ],
      "text/plain": [
       "      index surface  winner_ht  loser_ht\n",
       "0         0    Hard      193.0     196.0\n",
       "1         1    Hard      188.0     185.0\n",
       "2         2    Hard      193.0     196.0\n",
       "3         3    Hard      188.0     183.0\n",
       "4         4    Hard      193.0     196.0\n",
       "...     ...     ...        ...       ...\n",
       "1162   2364    Hard        NaN       NaN\n",
       "1163   2365    Hard      185.0       NaN\n",
       "1164   2366    Hard      180.0       NaN\n",
       "1165   2367    Hard        NaN     188.0\n",
       "1166   2368    Hard      180.0     185.0\n",
       "\n",
       "[1167 rows x 4 columns]"
      ]
     },
     "execution_count": 220,
     "metadata": {},
     "output_type": "execute_result"
    }
   ],
   "source": [
    "## Loading the group to seperate Dataset \n",
    "hard_surface = pd.DataFrame(ps.get_group('Hard').reset_index())\n",
    "clay_surface = pd.DataFrame(ps.get_group('Clay').reset_index())\n",
    "grass_surface = pd.DataFrame(ps.get_group('Grass').reset_index())\n",
    "hard_surface"
   ]
  },
  {
   "cell_type": "code",
   "execution_count": 221,
   "id": "e6157202",
   "metadata": {},
   "outputs": [
    {
     "data": {
      "application/vnd.plotly.v1+json": {
       "config": {
        "plotlyServerURL": "https://plot.ly"
       },
       "data": [
        {
         "marker": {
          "color": "red"
         },
         "nbinsx": 10,
         "type": "histogram",
         "x": [
          193,
          188,
          193,
          188,
          193,
          185,
          193,
          196,
          196,
          185,
          188,
          188,
          193,
          null,
          193,
          183,
          188,
          183,
          196,
          196,
          196,
          173,
          183,
          196,
          193,
          188,
          193,
          188,
          185,
          196,
          183,
          178,
          188,
          175,
          188,
          178,
          196,
          185,
          196,
          185,
          183,
          185,
          188,
          196,
          196,
          183,
          188,
          196,
          188,
          188,
          196,
          188,
          198,
          196,
          170,
          188,
          185,
          198,
          198,
          188,
          196,
          170,
          196,
          188,
          191,
          185,
          185,
          198,
          183,
          191,
          198,
          188,
          196,
          196,
          183,
          170,
          178,
          180,
          196,
          188,
          188,
          185,
          188,
          185,
          185,
          188,
          198,
          188,
          185,
          185,
          185,
          185,
          191,
          188,
          183,
          185,
          188,
          185,
          188,
          185,
          185,
          188,
          185,
          188,
          191,
          null,
          185,
          185,
          188,
          180,
          185,
          188,
          188,
          188,
          180,
          185,
          180,
          191,
          188,
          180,
          188,
          188,
          180,
          183,
          185,
          201,
          180,
          null,
          191,
          188,
          183,
          180,
          185,
          180,
          183,
          180,
          196,
          183,
          191,
          180,
          196,
          183,
          183,
          183,
          191,
          198,
          183,
          180,
          196,
          178,
          183,
          190,
          183,
          183,
          185,
          191,
          196,
          178,
          183,
          180,
          185,
          178,
          null,
          170,
          198,
          178,
          null,
          188,
          196,
          191,
          191,
          185,
          196,
          180,
          183,
          198,
          193,
          null,
          188,
          188,
          193,
          188,
          196,
          188,
          188,
          180,
          201,
          185,
          185,
          178,
          178,
          193,
          188,
          188,
          188,
          175,
          180,
          188,
          198,
          185,
          188,
          185,
          183,
          183,
          188,
          188,
          183,
          188,
          193,
          196,
          null,
          198,
          170,
          183,
          188,
          198,
          190,
          196,
          null,
          183,
          183,
          185,
          188,
          183,
          178,
          170,
          198,
          188,
          196,
          185,
          196,
          198,
          193,
          188,
          188,
          188,
          188,
          185,
          185,
          193,
          188,
          175,
          188,
          185,
          185,
          183,
          188,
          188,
          196,
          null,
          183,
          188,
          190,
          183,
          185,
          188,
          170,
          198,
          196,
          196,
          193,
          188,
          185,
          193,
          188,
          185,
          183,
          188,
          null,
          183,
          183,
          185,
          198,
          196,
          193,
          185,
          188,
          188,
          null,
          185,
          198,
          193,
          188,
          185,
          193,
          188,
          188,
          183,
          183,
          206,
          193,
          183,
          206,
          183,
          193,
          180,
          183,
          183,
          206,
          185,
          183,
          188,
          185,
          196,
          180,
          183,
          183,
          183,
          206,
          191,
          185,
          183,
          175,
          178,
          188,
          198,
          188,
          185,
          198,
          185,
          188,
          185,
          183,
          188,
          198,
          191,
          185,
          191,
          188,
          196,
          185,
          183,
          196,
          198,
          188,
          183,
          191,
          185,
          191,
          185,
          188,
          193,
          193,
          183,
          193,
          178,
          183,
          175,
          193,
          183,
          188,
          178,
          180,
          183,
          175,
          185,
          185,
          183,
          183,
          188,
          178,
          170,
          180,
          null,
          185,
          188,
          175,
          180,
          198,
          188,
          198,
          188,
          188,
          198,
          188,
          188,
          183,
          null,
          188,
          198,
          193,
          188,
          183,
          193,
          188,
          183,
          185,
          185,
          null,
          188,
          198,
          198,
          188,
          183,
          193,
          196,
          188,
          198,
          183,
          198,
          190,
          198,
          185,
          190,
          198,
          193,
          188,
          185,
          190,
          183,
          183,
          198,
          183,
          193,
          188,
          185,
          188,
          190,
          183,
          188,
          183,
          183,
          183,
          183,
          180,
          178,
          196,
          196,
          185,
          196,
          196,
          185,
          185,
          196,
          183,
          188,
          196,
          185,
          183,
          183,
          185,
          191,
          183,
          180,
          null,
          196,
          183,
          198,
          185,
          null,
          185,
          183,
          185,
          183,
          185,
          183,
          185,
          193,
          185,
          183,
          178,
          185,
          193,
          188,
          196,
          185,
          183,
          191,
          178,
          185,
          188,
          185,
          193,
          185,
          188,
          188,
          183,
          196,
          185,
          185,
          183,
          null,
          191,
          183,
          198,
          198,
          188,
          188,
          198,
          198,
          188,
          188,
          196,
          198,
          188,
          198,
          191,
          188,
          188,
          188,
          188,
          191,
          196,
          198,
          196,
          196,
          188,
          198,
          183,
          191,
          193,
          188,
          183,
          183,
          188,
          185,
          185,
          198,
          185,
          188,
          198,
          188,
          185,
          193,
          193,
          188,
          198,
          183,
          188,
          188,
          185,
          191,
          185,
          193,
          193,
          188,
          188,
          183,
          198,
          198,
          183,
          185,
          188,
          188,
          188,
          188,
          185,
          188,
          191,
          190,
          196,
          185,
          185,
          193,
          193,
          170,
          178,
          188,
          188,
          183,
          183,
          185,
          198,
          193,
          188,
          198,
          198,
          183,
          185,
          183,
          188,
          188,
          191,
          188,
          188,
          178,
          188,
          183,
          196,
          185,
          191,
          190,
          196,
          193,
          185,
          185,
          null,
          null,
          178,
          188,
          185,
          183,
          183,
          178,
          185,
          193,
          188,
          185,
          196,
          183,
          185,
          170,
          185,
          188,
          191,
          188,
          180,
          178,
          188,
          183,
          198,
          188,
          198,
          185,
          188,
          198,
          198,
          185,
          193,
          188,
          188,
          201,
          198,
          185,
          198,
          185,
          185,
          193,
          185,
          188,
          188,
          188,
          188,
          183,
          201,
          191,
          198,
          185,
          191,
          198,
          193,
          185,
          180,
          183,
          185,
          193,
          185,
          170,
          185,
          183,
          188,
          188,
          191,
          188,
          188,
          183,
          188,
          196,
          183,
          201,
          183,
          191,
          178,
          178,
          198,
          193,
          185,
          191,
          188,
          198,
          185,
          185,
          193,
          183,
          180,
          185,
          196,
          183,
          185,
          183,
          188,
          193,
          196,
          188,
          191,
          188,
          193,
          188,
          183,
          196,
          183,
          201,
          183,
          191,
          178,
          178,
          183,
          183,
          null,
          191,
          180,
          196,
          185,
          185,
          185,
          193,
          193,
          188,
          193,
          183,
          188,
          188,
          193,
          178,
          180,
          183,
          201,
          188,
          188,
          183,
          183,
          178,
          null,
          180,
          198,
          183,
          201,
          185,
          188,
          188,
          193,
          196,
          193,
          193,
          183,
          193,
          188,
          183,
          180,
          193,
          198,
          188,
          193,
          183,
          185,
          180,
          null,
          206,
          null,
          198,
          178,
          196,
          193,
          183,
          185,
          185,
          180,
          183,
          null,
          175,
          188,
          175,
          193,
          188,
          188,
          175,
          193,
          183,
          183,
          188,
          188,
          188,
          175,
          188,
          193,
          190,
          201,
          183,
          188,
          183,
          188,
          193,
          188,
          188,
          188,
          180,
          null,
          175,
          null,
          188,
          175,
          185,
          null,
          183,
          188,
          175,
          183,
          193,
          178,
          188,
          196,
          180,
          null,
          183,
          null,
          185,
          188,
          188,
          183,
          185,
          188,
          183,
          183,
          185,
          185,
          193,
          188,
          178,
          183,
          183,
          198,
          185,
          196,
          185,
          180,
          193,
          188,
          190,
          188,
          178,
          196,
          183,
          183,
          193,
          183,
          185,
          198,
          null,
          183,
          196,
          185,
          185,
          180,
          193,
          196,
          188,
          185,
          190,
          196,
          178,
          191,
          196,
          198,
          183,
          185,
          188,
          null,
          183,
          185,
          196,
          183,
          188,
          185,
          188,
          185,
          196,
          198,
          188,
          185,
          185,
          196,
          196,
          183,
          198,
          193,
          188,
          185,
          185,
          183,
          185,
          193,
          196,
          196,
          188,
          178,
          183,
          198,
          198,
          180,
          193,
          193,
          188,
          183,
          188,
          185,
          188,
          183,
          185,
          null,
          196,
          188,
          196,
          198,
          188,
          178,
          183,
          193,
          198,
          170,
          185,
          180,
          191,
          193,
          193,
          183,
          183,
          170,
          170,
          185,
          188,
          170,
          196,
          185,
          188,
          183,
          188,
          170,
          185,
          196,
          185,
          185,
          188,
          188,
          183,
          null,
          188,
          null,
          188,
          170,
          185,
          185,
          188,
          196,
          185,
          180,
          185,
          188,
          null,
          188,
          183,
          null,
          183,
          null,
          null,
          191,
          185,
          196,
          193,
          185,
          188,
          180,
          185,
          191,
          185,
          193,
          188,
          175,
          185,
          183,
          null,
          188,
          198,
          191,
          190,
          188,
          196,
          183,
          191,
          188,
          198,
          183,
          185,
          170,
          198,
          null,
          183,
          183,
          188,
          206,
          191,
          196,
          196,
          196,
          193,
          188,
          183,
          193,
          null,
          188,
          183,
          191,
          191,
          188,
          185,
          185,
          183,
          183,
          185,
          null,
          185,
          183,
          193,
          180,
          185,
          201,
          null,
          null,
          185,
          193,
          178,
          196,
          198,
          185,
          188,
          173,
          185,
          188,
          185,
          175,
          183,
          188,
          198,
          188,
          183,
          188,
          198,
          170,
          198,
          183,
          188,
          191,
          196,
          188,
          193,
          null,
          183,
          188,
          185,
          183,
          null,
          185,
          180,
          185,
          null,
          193,
          196,
          198,
          188,
          188,
          185,
          183,
          198,
          188,
          198,
          183,
          191,
          188,
          null,
          188,
          185,
          null,
          180,
          193,
          196,
          188,
          185,
          198,
          198,
          188,
          188,
          null,
          193,
          188,
          185,
          198,
          null,
          188,
          198,
          188,
          188,
          188,
          185,
          188,
          185,
          180,
          180,
          null,
          188,
          196,
          188,
          180,
          188,
          183,
          188,
          196,
          198,
          196,
          183,
          188,
          188,
          191,
          183,
          188,
          185,
          183,
          183,
          183,
          178,
          185,
          180,
          185,
          178,
          185,
          188,
          null,
          190,
          188,
          null,
          175,
          null,
          null,
          null,
          180,
          null,
          180,
          183,
          185,
          180,
          null,
          null,
          183,
          188,
          null,
          188,
          null,
          null,
          188,
          null,
          191,
          null,
          191,
          null,
          188,
          188,
          null,
          null,
          null,
          null,
          170,
          null,
          null,
          null,
          null,
          185,
          180,
          null,
          180
         ]
        },
        {
         "marker": {
          "color": "blue"
         },
         "nbinsx": 10,
         "opacity": 0.6,
         "type": "histogram",
         "x": [
          196,
          185,
          196,
          183,
          196,
          null,
          188,
          null,
          196,
          180,
          193,
          175,
          180,
          185,
          188,
          193,
          180,
          185,
          183,
          180,
          196,
          180,
          196,
          173,
          198,
          196,
          185,
          183,
          198,
          null,
          185,
          188,
          185,
          188,
          183,
          175,
          183,
          185,
          183,
          185,
          183,
          185,
          196,
          183,
          185,
          180,
          185,
          180,
          196,
          198,
          170,
          185,
          198,
          188,
          196,
          191,
          185,
          183,
          191,
          196,
          183,
          178,
          180,
          180,
          183,
          183,
          null,
          191,
          183,
          180,
          185,
          188,
          198,
          190,
          188,
          185,
          191,
          185,
          193,
          185,
          185,
          188,
          198,
          185,
          185,
          191,
          183,
          185,
          170,
          188,
          188,
          188,
          188,
          null,
          185,
          185,
          183,
          188,
          175,
          180,
          178,
          null,
          175,
          178,
          183,
          185,
          188,
          180,
          188,
          188,
          180,
          191,
          180,
          183,
          183,
          185,
          201,
          null,
          170,
          183,
          185,
          183,
          185,
          206,
          null,
          188,
          196,
          170,
          178,
          178,
          183,
          180,
          183,
          183,
          196,
          191,
          183,
          183,
          198,
          183,
          188,
          178,
          190,
          183,
          185,
          196,
          178,
          188,
          196,
          196,
          188,
          185,
          188,
          185,
          183,
          191,
          196,
          175,
          188,
          183,
          191,
          185,
          183,
          183,
          185,
          170,
          196,
          191,
          185,
          185,
          185,
          180,
          185,
          196,
          196,
          180,
          191,
          193,
          191,
          193,
          185,
          180,
          183,
          188,
          null,
          183,
          180,
          188,
          185,
          183,
          183,
          193,
          185,
          185,
          191,
          183,
          185,
          185,
          188,
          185,
          185,
          null,
          206,
          null,
          185,
          185,
          180,
          183,
          185,
          175,
          193,
          183,
          null,
          183,
          188,
          185,
          196,
          178,
          188,
          185,
          196,
          193,
          183,
          183,
          185,
          null,
          178,
          null,
          191,
          191,
          180,
          183,
          null,
          188,
          193,
          196,
          180,
          201,
          178,
          178,
          188,
          188,
          180,
          198,
          188,
          183,
          188,
          183,
          193,
          198,
          170,
          198,
          196,
          null,
          183,
          183,
          178,
          188,
          185,
          198,
          188,
          188,
          188,
          185,
          175,
          188,
          185,
          188,
          196,
          188,
          190,
          188,
          170,
          196,
          188,
          193,
          185,
          183,
          183,
          183,
          196,
          185,
          188,
          null,
          198,
          185,
          193,
          206,
          193,
          183,
          180,
          183,
          185,
          188,
          185,
          196,
          185,
          183,
          191,
          183,
          175,
          178,
          193,
          201,
          null,
          188,
          180,
          188,
          175,
          175,
          null,
          null,
          null,
          188,
          198,
          185,
          185,
          183,
          188,
          191,
          191,
          196,
          185,
          196,
          188,
          183,
          183,
          185,
          188,
          null,
          180,
          196,
          185,
          196,
          183,
          188,
          null,
          185,
          185,
          185,
          180,
          183,
          178,
          175,
          183,
          188,
          180,
          185,
          185,
          183,
          185,
          170,
          null,
          185,
          188,
          180,
          188,
          191,
          193,
          null,
          191,
          196,
          null,
          185,
          188,
          201,
          188,
          183,
          188,
          188,
          188,
          183,
          null,
          193,
          183,
          193,
          185,
          185,
          198,
          188,
          183,
          196,
          198,
          188,
          185,
          196,
          188,
          180,
          196,
          183,
          180,
          183,
          191,
          180,
          191,
          183,
          185,
          188,
          188,
          190,
          185,
          193,
          188,
          183,
          183,
          183,
          188,
          188,
          198,
          188,
          183,
          183,
          180,
          178,
          191,
          172,
          175,
          191,
          185,
          193,
          188,
          188,
          null,
          180,
          null,
          185,
          185,
          196,
          185,
          183,
          188,
          183,
          183,
          191,
          180,
          null,
          183,
          198,
          null,
          185,
          188,
          196,
          175,
          193,
          183,
          185,
          196,
          180,
          null,
          180,
          188,
          185,
          185,
          185,
          193,
          185,
          178,
          188,
          196,
          191,
          185,
          188,
          185,
          188,
          183,
          185,
          null,
          183,
          null,
          191,
          180,
          185,
          206,
          183,
          201,
          170,
          183,
          178,
          null,
          null,
          null,
          196,
          183,
          183,
          188,
          188,
          198,
          196,
          188,
          191,
          188,
          188,
          191,
          196,
          196,
          183,
          193,
          183,
          183,
          183,
          180,
          196,
          null,
          183,
          185,
          191,
          175,
          185,
          188,
          196,
          198,
          198,
          null,
          185,
          185,
          198,
          188,
          188,
          193,
          193,
          183,
          188,
          191,
          185,
          188,
          183,
          198,
          185,
          188,
          188,
          188,
          190,
          196,
          185,
          170,
          178,
          183,
          185,
          193,
          188,
          198,
          183,
          188,
          191,
          178,
          183,
          196,
          185,
          175,
          175,
          196,
          193,
          185,
          185,
          null,
          null,
          188,
          183,
          185,
          185,
          183,
          178,
          185,
          188,
          183,
          185,
          196,
          183,
          170,
          170,
          185,
          185,
          196,
          188,
          180,
          188,
          198,
          193,
          null,
          183,
          191,
          196,
          193,
          191,
          183,
          196,
          178,
          183,
          188,
          183,
          196,
          185,
          188,
          185,
          206,
          185,
          180,
          185,
          188,
          183,
          191,
          180,
          196,
          185,
          183,
          196,
          null,
          191,
          191,
          193,
          188,
          185,
          198,
          193,
          188,
          201,
          185,
          185,
          185,
          188,
          188,
          183,
          191,
          191,
          193,
          180,
          183,
          185,
          170,
          183,
          191,
          188,
          183,
          196,
          183,
          178,
          178,
          193,
          188,
          185,
          185,
          183,
          198,
          185,
          196,
          183,
          185,
          183,
          188,
          193,
          196,
          183,
          198,
          188,
          193,
          188,
          183,
          196,
          null,
          188,
          188,
          183,
          196,
          170,
          183,
          183,
          null,
          175,
          180,
          196,
          185,
          170,
          185,
          185,
          190,
          196,
          188,
          206,
          185,
          188,
          185,
          191,
          183,
          185,
          196,
          188,
          178,
          193,
          196,
          185,
          null,
          180,
          185,
          185,
          191,
          183,
          185,
          178,
          183,
          185,
          196,
          191,
          180,
          180,
          183,
          188,
          183,
          188,
          178,
          180,
          201,
          183,
          183,
          null,
          175,
          198,
          185,
          170,
          193,
          196,
          178,
          183,
          null,
          206,
          null,
          178,
          null,
          185,
          null,
          180,
          183,
          193,
          183,
          188,
          180,
          198,
          193,
          185,
          null,
          206,
          null,
          178,
          196,
          185,
          185,
          183,
          188,
          null,
          null,
          null,
          185,
          185,
          null,
          null,
          180,
          188,
          191,
          191,
          null,
          188,
          193,
          188,
          183,
          183,
          188,
          188,
          190,
          201,
          188,
          193,
          188,
          180,
          null,
          null,
          175,
          185,
          null,
          183,
          196,
          175,
          183,
          196,
          178,
          170,
          196,
          193,
          196,
          183,
          null,
          185,
          185,
          188,
          193,
          203,
          190,
          180,
          178,
          183,
          170,
          180,
          191,
          183,
          198,
          null,
          185,
          null,
          183,
          185,
          183,
          185,
          193,
          178,
          198,
          196,
          180,
          188,
          190,
          196,
          183,
          193,
          185,
          null,
          183,
          185,
          185,
          193,
          196,
          185,
          196,
          188,
          191,
          198,
          185,
          188,
          null,
          196,
          183,
          185,
          185,
          196,
          170,
          null,
          188,
          201,
          196,
          188,
          193,
          191,
          183,
          185,
          183,
          188,
          188,
          183,
          185,
          198,
          175,
          188,
          170,
          193,
          193,
          185,
          196,
          198,
          185,
          196,
          183,
          193,
          185,
          183,
          193,
          188,
          178,
          198,
          180,
          193,
          183,
          188,
          188,
          183,
          null,
          188,
          198,
          188,
          185,
          193,
          170,
          185,
          188,
          191,
          183,
          183,
          206,
          185,
          183,
          188,
          185,
          193,
          201,
          196,
          196,
          191,
          185,
          178,
          193,
          185,
          196,
          188,
          183,
          175,
          185,
          null,
          185,
          188,
          183,
          196,
          185,
          188,
          196,
          183,
          188,
          185,
          185,
          188,
          null,
          null,
          188,
          185,
          188,
          180,
          188,
          null,
          180,
          193,
          188,
          183,
          191,
          null,
          191,
          185,
          196,
          193,
          185,
          188,
          null,
          185,
          191,
          185,
          188,
          185,
          196,
          191,
          185,
          188,
          175,
          178,
          null,
          193,
          183,
          191,
          180,
          185,
          185,
          180,
          185,
          183,
          191,
          188,
          178,
          196,
          null,
          188,
          180,
          178,
          178,
          191,
          170,
          null,
          193,
          180,
          185,
          183,
          188,
          null,
          188,
          180,
          173,
          198,
          183,
          175,
          196,
          188,
          170,
          191,
          183,
          183,
          183,
          191,
          196,
          180,
          185,
          185,
          null,
          185,
          185,
          193,
          180,
          196,
          185,
          185,
          185,
          196,
          196,
          191,
          180,
          185,
          183,
          183,
          188,
          193,
          180,
          183,
          175,
          185,
          null,
          null,
          183,
          193,
          188,
          185,
          null,
          191,
          190,
          196,
          191,
          183,
          185,
          null,
          183,
          206,
          196,
          196,
          193,
          183,
          188,
          191,
          191,
          185,
          183,
          185,
          183,
          193,
          201,
          null,
          185,
          178,
          185,
          173,
          185,
          175,
          188,
          188,
          183,
          170,
          198,
          188,
          196,
          193,
          183,
          183,
          185,
          185,
          null,
          198,
          188,
          183,
          188,
          183,
          191,
          null,
          185,
          180,
          196,
          198,
          188,
          188,
          193,
          185,
          null,
          198,
          185,
          191,
          183,
          180,
          null,
          180,
          185,
          183,
          185,
          185,
          185,
          188,
          188,
          191,
          196,
          183,
          198,
          191,
          193,
          178,
          183,
          null,
          185,
          185,
          188,
          172,
          172,
          null,
          180,
          null,
          183,
          185,
          178,
          null,
          183,
          null,
          191,
          null,
          null,
          null,
          null,
          null,
          null,
          null,
          null,
          null,
          null,
          null,
          null,
          183,
          null,
          null,
          null,
          null,
          null,
          null,
          null,
          null,
          null,
          null,
          null,
          185,
          null,
          185,
          null,
          null,
          null,
          null,
          null,
          null,
          null,
          null,
          null,
          null,
          null,
          188,
          185
         ]
        }
       ],
       "layout": {
        "bargap": 0,
        "barmode": "overlay",
        "template": {
         "data": {
          "bar": [
           {
            "error_x": {
             "color": "#2a3f5f"
            },
            "error_y": {
             "color": "#2a3f5f"
            },
            "marker": {
             "line": {
              "color": "#E5ECF6",
              "width": 0.5
             },
             "pattern": {
              "fillmode": "overlay",
              "size": 10,
              "solidity": 0.2
             }
            },
            "type": "bar"
           }
          ],
          "barpolar": [
           {
            "marker": {
             "line": {
              "color": "#E5ECF6",
              "width": 0.5
             },
             "pattern": {
              "fillmode": "overlay",
              "size": 10,
              "solidity": 0.2
             }
            },
            "type": "barpolar"
           }
          ],
          "carpet": [
           {
            "aaxis": {
             "endlinecolor": "#2a3f5f",
             "gridcolor": "white",
             "linecolor": "white",
             "minorgridcolor": "white",
             "startlinecolor": "#2a3f5f"
            },
            "baxis": {
             "endlinecolor": "#2a3f5f",
             "gridcolor": "white",
             "linecolor": "white",
             "minorgridcolor": "white",
             "startlinecolor": "#2a3f5f"
            },
            "type": "carpet"
           }
          ],
          "choropleth": [
           {
            "colorbar": {
             "outlinewidth": 0,
             "ticks": ""
            },
            "type": "choropleth"
           }
          ],
          "contour": [
           {
            "colorbar": {
             "outlinewidth": 0,
             "ticks": ""
            },
            "colorscale": [
             [
              0,
              "#0d0887"
             ],
             [
              0.1111111111111111,
              "#46039f"
             ],
             [
              0.2222222222222222,
              "#7201a8"
             ],
             [
              0.3333333333333333,
              "#9c179e"
             ],
             [
              0.4444444444444444,
              "#bd3786"
             ],
             [
              0.5555555555555556,
              "#d8576b"
             ],
             [
              0.6666666666666666,
              "#ed7953"
             ],
             [
              0.7777777777777778,
              "#fb9f3a"
             ],
             [
              0.8888888888888888,
              "#fdca26"
             ],
             [
              1,
              "#f0f921"
             ]
            ],
            "type": "contour"
           }
          ],
          "contourcarpet": [
           {
            "colorbar": {
             "outlinewidth": 0,
             "ticks": ""
            },
            "type": "contourcarpet"
           }
          ],
          "heatmap": [
           {
            "colorbar": {
             "outlinewidth": 0,
             "ticks": ""
            },
            "colorscale": [
             [
              0,
              "#0d0887"
             ],
             [
              0.1111111111111111,
              "#46039f"
             ],
             [
              0.2222222222222222,
              "#7201a8"
             ],
             [
              0.3333333333333333,
              "#9c179e"
             ],
             [
              0.4444444444444444,
              "#bd3786"
             ],
             [
              0.5555555555555556,
              "#d8576b"
             ],
             [
              0.6666666666666666,
              "#ed7953"
             ],
             [
              0.7777777777777778,
              "#fb9f3a"
             ],
             [
              0.8888888888888888,
              "#fdca26"
             ],
             [
              1,
              "#f0f921"
             ]
            ],
            "type": "heatmap"
           }
          ],
          "heatmapgl": [
           {
            "colorbar": {
             "outlinewidth": 0,
             "ticks": ""
            },
            "colorscale": [
             [
              0,
              "#0d0887"
             ],
             [
              0.1111111111111111,
              "#46039f"
             ],
             [
              0.2222222222222222,
              "#7201a8"
             ],
             [
              0.3333333333333333,
              "#9c179e"
             ],
             [
              0.4444444444444444,
              "#bd3786"
             ],
             [
              0.5555555555555556,
              "#d8576b"
             ],
             [
              0.6666666666666666,
              "#ed7953"
             ],
             [
              0.7777777777777778,
              "#fb9f3a"
             ],
             [
              0.8888888888888888,
              "#fdca26"
             ],
             [
              1,
              "#f0f921"
             ]
            ],
            "type": "heatmapgl"
           }
          ],
          "histogram": [
           {
            "marker": {
             "pattern": {
              "fillmode": "overlay",
              "size": 10,
              "solidity": 0.2
             }
            },
            "type": "histogram"
           }
          ],
          "histogram2d": [
           {
            "colorbar": {
             "outlinewidth": 0,
             "ticks": ""
            },
            "colorscale": [
             [
              0,
              "#0d0887"
             ],
             [
              0.1111111111111111,
              "#46039f"
             ],
             [
              0.2222222222222222,
              "#7201a8"
             ],
             [
              0.3333333333333333,
              "#9c179e"
             ],
             [
              0.4444444444444444,
              "#bd3786"
             ],
             [
              0.5555555555555556,
              "#d8576b"
             ],
             [
              0.6666666666666666,
              "#ed7953"
             ],
             [
              0.7777777777777778,
              "#fb9f3a"
             ],
             [
              0.8888888888888888,
              "#fdca26"
             ],
             [
              1,
              "#f0f921"
             ]
            ],
            "type": "histogram2d"
           }
          ],
          "histogram2dcontour": [
           {
            "colorbar": {
             "outlinewidth": 0,
             "ticks": ""
            },
            "colorscale": [
             [
              0,
              "#0d0887"
             ],
             [
              0.1111111111111111,
              "#46039f"
             ],
             [
              0.2222222222222222,
              "#7201a8"
             ],
             [
              0.3333333333333333,
              "#9c179e"
             ],
             [
              0.4444444444444444,
              "#bd3786"
             ],
             [
              0.5555555555555556,
              "#d8576b"
             ],
             [
              0.6666666666666666,
              "#ed7953"
             ],
             [
              0.7777777777777778,
              "#fb9f3a"
             ],
             [
              0.8888888888888888,
              "#fdca26"
             ],
             [
              1,
              "#f0f921"
             ]
            ],
            "type": "histogram2dcontour"
           }
          ],
          "mesh3d": [
           {
            "colorbar": {
             "outlinewidth": 0,
             "ticks": ""
            },
            "type": "mesh3d"
           }
          ],
          "parcoords": [
           {
            "line": {
             "colorbar": {
              "outlinewidth": 0,
              "ticks": ""
             }
            },
            "type": "parcoords"
           }
          ],
          "pie": [
           {
            "automargin": true,
            "type": "pie"
           }
          ],
          "scatter": [
           {
            "fillpattern": {
             "fillmode": "overlay",
             "size": 10,
             "solidity": 0.2
            },
            "type": "scatter"
           }
          ],
          "scatter3d": [
           {
            "line": {
             "colorbar": {
              "outlinewidth": 0,
              "ticks": ""
             }
            },
            "marker": {
             "colorbar": {
              "outlinewidth": 0,
              "ticks": ""
             }
            },
            "type": "scatter3d"
           }
          ],
          "scattercarpet": [
           {
            "marker": {
             "colorbar": {
              "outlinewidth": 0,
              "ticks": ""
             }
            },
            "type": "scattercarpet"
           }
          ],
          "scattergeo": [
           {
            "marker": {
             "colorbar": {
              "outlinewidth": 0,
              "ticks": ""
             }
            },
            "type": "scattergeo"
           }
          ],
          "scattergl": [
           {
            "marker": {
             "colorbar": {
              "outlinewidth": 0,
              "ticks": ""
             }
            },
            "type": "scattergl"
           }
          ],
          "scattermapbox": [
           {
            "marker": {
             "colorbar": {
              "outlinewidth": 0,
              "ticks": ""
             }
            },
            "type": "scattermapbox"
           }
          ],
          "scatterpolar": [
           {
            "marker": {
             "colorbar": {
              "outlinewidth": 0,
              "ticks": ""
             }
            },
            "type": "scatterpolar"
           }
          ],
          "scatterpolargl": [
           {
            "marker": {
             "colorbar": {
              "outlinewidth": 0,
              "ticks": ""
             }
            },
            "type": "scatterpolargl"
           }
          ],
          "scatterternary": [
           {
            "marker": {
             "colorbar": {
              "outlinewidth": 0,
              "ticks": ""
             }
            },
            "type": "scatterternary"
           }
          ],
          "surface": [
           {
            "colorbar": {
             "outlinewidth": 0,
             "ticks": ""
            },
            "colorscale": [
             [
              0,
              "#0d0887"
             ],
             [
              0.1111111111111111,
              "#46039f"
             ],
             [
              0.2222222222222222,
              "#7201a8"
             ],
             [
              0.3333333333333333,
              "#9c179e"
             ],
             [
              0.4444444444444444,
              "#bd3786"
             ],
             [
              0.5555555555555556,
              "#d8576b"
             ],
             [
              0.6666666666666666,
              "#ed7953"
             ],
             [
              0.7777777777777778,
              "#fb9f3a"
             ],
             [
              0.8888888888888888,
              "#fdca26"
             ],
             [
              1,
              "#f0f921"
             ]
            ],
            "type": "surface"
           }
          ],
          "table": [
           {
            "cells": {
             "fill": {
              "color": "#EBF0F8"
             },
             "line": {
              "color": "white"
             }
            },
            "header": {
             "fill": {
              "color": "#C8D4E3"
             },
             "line": {
              "color": "white"
             }
            },
            "type": "table"
           }
          ]
         },
         "layout": {
          "annotationdefaults": {
           "arrowcolor": "#2a3f5f",
           "arrowhead": 0,
           "arrowwidth": 1
          },
          "autotypenumbers": "strict",
          "coloraxis": {
           "colorbar": {
            "outlinewidth": 0,
            "ticks": ""
           }
          },
          "colorscale": {
           "diverging": [
            [
             0,
             "#8e0152"
            ],
            [
             0.1,
             "#c51b7d"
            ],
            [
             0.2,
             "#de77ae"
            ],
            [
             0.3,
             "#f1b6da"
            ],
            [
             0.4,
             "#fde0ef"
            ],
            [
             0.5,
             "#f7f7f7"
            ],
            [
             0.6,
             "#e6f5d0"
            ],
            [
             0.7,
             "#b8e186"
            ],
            [
             0.8,
             "#7fbc41"
            ],
            [
             0.9,
             "#4d9221"
            ],
            [
             1,
             "#276419"
            ]
           ],
           "sequential": [
            [
             0,
             "#0d0887"
            ],
            [
             0.1111111111111111,
             "#46039f"
            ],
            [
             0.2222222222222222,
             "#7201a8"
            ],
            [
             0.3333333333333333,
             "#9c179e"
            ],
            [
             0.4444444444444444,
             "#bd3786"
            ],
            [
             0.5555555555555556,
             "#d8576b"
            ],
            [
             0.6666666666666666,
             "#ed7953"
            ],
            [
             0.7777777777777778,
             "#fb9f3a"
            ],
            [
             0.8888888888888888,
             "#fdca26"
            ],
            [
             1,
             "#f0f921"
            ]
           ],
           "sequentialminus": [
            [
             0,
             "#0d0887"
            ],
            [
             0.1111111111111111,
             "#46039f"
            ],
            [
             0.2222222222222222,
             "#7201a8"
            ],
            [
             0.3333333333333333,
             "#9c179e"
            ],
            [
             0.4444444444444444,
             "#bd3786"
            ],
            [
             0.5555555555555556,
             "#d8576b"
            ],
            [
             0.6666666666666666,
             "#ed7953"
            ],
            [
             0.7777777777777778,
             "#fb9f3a"
            ],
            [
             0.8888888888888888,
             "#fdca26"
            ],
            [
             1,
             "#f0f921"
            ]
           ]
          },
          "colorway": [
           "#636efa",
           "#EF553B",
           "#00cc96",
           "#ab63fa",
           "#FFA15A",
           "#19d3f3",
           "#FF6692",
           "#B6E880",
           "#FF97FF",
           "#FECB52"
          ],
          "font": {
           "color": "#2a3f5f"
          },
          "geo": {
           "bgcolor": "white",
           "lakecolor": "white",
           "landcolor": "#E5ECF6",
           "showlakes": true,
           "showland": true,
           "subunitcolor": "white"
          },
          "hoverlabel": {
           "align": "left"
          },
          "hovermode": "closest",
          "mapbox": {
           "style": "light"
          },
          "paper_bgcolor": "white",
          "plot_bgcolor": "#E5ECF6",
          "polar": {
           "angularaxis": {
            "gridcolor": "white",
            "linecolor": "white",
            "ticks": ""
           },
           "bgcolor": "#E5ECF6",
           "radialaxis": {
            "gridcolor": "white",
            "linecolor": "white",
            "ticks": ""
           }
          },
          "scene": {
           "xaxis": {
            "backgroundcolor": "#E5ECF6",
            "gridcolor": "white",
            "gridwidth": 2,
            "linecolor": "white",
            "showbackground": true,
            "ticks": "",
            "zerolinecolor": "white"
           },
           "yaxis": {
            "backgroundcolor": "#E5ECF6",
            "gridcolor": "white",
            "gridwidth": 2,
            "linecolor": "white",
            "showbackground": true,
            "ticks": "",
            "zerolinecolor": "white"
           },
           "zaxis": {
            "backgroundcolor": "#E5ECF6",
            "gridcolor": "white",
            "gridwidth": 2,
            "linecolor": "white",
            "showbackground": true,
            "ticks": "",
            "zerolinecolor": "white"
           }
          },
          "shapedefaults": {
           "line": {
            "color": "#2a3f5f"
           }
          },
          "ternary": {
           "aaxis": {
            "gridcolor": "white",
            "linecolor": "white",
            "ticks": ""
           },
           "baxis": {
            "gridcolor": "white",
            "linecolor": "white",
            "ticks": ""
           },
           "bgcolor": "#E5ECF6",
           "caxis": {
            "gridcolor": "white",
            "linecolor": "white",
            "ticks": ""
           }
          },
          "title": {
           "x": 0.05
          },
          "xaxis": {
           "automargin": true,
           "gridcolor": "white",
           "linecolor": "white",
           "ticks": "",
           "title": {
            "standoff": 15
           },
           "zerolinecolor": "white",
           "zerolinewidth": 2
          },
          "yaxis": {
           "automargin": true,
           "gridcolor": "white",
           "linecolor": "white",
           "ticks": "",
           "title": {
            "standoff": 15
           },
           "zerolinecolor": "white",
           "zerolinewidth": 2
          }
         }
        },
        "title": {
         "text": "Heights in cm VS Hard surface"
        },
        "xaxis": {
         "title": {
          "text": "Hard surface"
         }
        },
        "yaxis": {
         "title": {
          "text": "Frequency"
         }
        }
       }
      }
     },
     "metadata": {},
     "output_type": "display_data"
    }
   ],
   "source": [
    "## visualisation of players height vs Hard surface\n",
    "fig = go.Figure()\n",
    "\n",
    "fig.add_trace(\n",
    "    go.Histogram(\n",
    "         x=hard_surface['winner_ht'],\n",
    "        marker=dict(color='red'),\n",
    "         nbinsx=10,\n",
    "    )\n",
    ")\n",
    "\n",
    "fig.add_trace(\n",
    "    go.Histogram(\n",
    "        x=hard_surface['loser_ht'],\n",
    "        marker_color='blue',\n",
    "         nbinsx=10,\n",
    "         opacity=0.6\n",
    "    )\n",
    ")\n",
    "\n",
    "fig.update_layout(\n",
    "    title='Heights in cm VS Hard surface',\n",
    "    xaxis=dict(title='Hard surface'),\n",
    "    yaxis=dict(title='Frequency'),\n",
    "    barmode='overlay',\n",
    "    bargap=0 \n",
    ")\n",
    "\n",
    "fig.show()"
   ]
  },
  {
   "cell_type": "code",
   "execution_count": 222,
   "id": "2a234e87",
   "metadata": {},
   "outputs": [
    {
     "data": {
      "application/vnd.plotly.v1+json": {
       "config": {
        "plotlyServerURL": "https://plot.ly"
       },
       "data": [
        {
         "marker": {
          "color": "brown"
         },
         "nbinsx": 10,
         "type": "histogram",
         "x": [
          170,
          170,
          180,
          180,
          170,
          188,
          180,
          183,
          180,
          170,
          191,
          185,
          188,
          180,
          185,
          183,
          185,
          180,
          null,
          191,
          185,
          185,
          185,
          180,
          180,
          185,
          190,
          185,
          185,
          188,
          185,
          185,
          185,
          188,
          185,
          180,
          185,
          185,
          185,
          185,
          196,
          188,
          188,
          null,
          180,
          185,
          183,
          185,
          185,
          185,
          185,
          183,
          196,
          183,
          188,
          185,
          188,
          185,
          198,
          185,
          188,
          185,
          180,
          198,
          170,
          188,
          185,
          180,
          188,
          185,
          178,
          188,
          180,
          198,
          185,
          185,
          170,
          188,
          191,
          185,
          185,
          178,
          180,
          183,
          188,
          198,
          198,
          196,
          183,
          198,
          170,
          196,
          183,
          183,
          198,
          193,
          188,
          170,
          180,
          196,
          183,
          185,
          183,
          198,
          193,
          183,
          188,
          null,
          185,
          183,
          180,
          196,
          183,
          183,
          183,
          183,
          191,
          185,
          183,
          183,
          170,
          191,
          185,
          185,
          183,
          183,
          185,
          185,
          185,
          170,
          191,
          185,
          null,
          185,
          178,
          null,
          183,
          191,
          185,
          188,
          188,
          196,
          188,
          null,
          196,
          193,
          188,
          178,
          null,
          183,
          196,
          185,
          183,
          193,
          188,
          191,
          178,
          null,
          180,
          183,
          196,
          185,
          185,
          180,
          183,
          193,
          183,
          183,
          183,
          183,
          191,
          183,
          175,
          185,
          183,
          183,
          191,
          183,
          188,
          193,
          175,
          173,
          null,
          183,
          183,
          191,
          185,
          183,
          183,
          183,
          193,
          183,
          196,
          188,
          185,
          188,
          188,
          185,
          188,
          193,
          185,
          188,
          198,
          185,
          188,
          193,
          193,
          193,
          188,
          185,
          196,
          188,
          198,
          198,
          196,
          185,
          188,
          198,
          193,
          183,
          193,
          185,
          198,
          193,
          null,
          185,
          185,
          196,
          191,
          170,
          191,
          183,
          198,
          185,
          196,
          185,
          183,
          193,
          198,
          183,
          193,
          188,
          183,
          188,
          185,
          198,
          196,
          185,
          185,
          185,
          193,
          185,
          175,
          185,
          193,
          185,
          183,
          185,
          175,
          185,
          188,
          183,
          193,
          185,
          183,
          183,
          188,
          183,
          185,
          175,
          198,
          188,
          185,
          170,
          188,
          183,
          188,
          185,
          193,
          185,
          185,
          196,
          188,
          null,
          null,
          183,
          198,
          191,
          178,
          180,
          170,
          null,
          185,
          183,
          185,
          185,
          185,
          188,
          185,
          183,
          188,
          193,
          185,
          185,
          183,
          null,
          180,
          188,
          185,
          193,
          193,
          185,
          191,
          183,
          null,
          196,
          180,
          null,
          185,
          196,
          185,
          188,
          180,
          180,
          188,
          180,
          183,
          178,
          188,
          188,
          180,
          183,
          185,
          178,
          188,
          172,
          188,
          null,
          180,
          183,
          null,
          175,
          185,
          196,
          178,
          188,
          185,
          172,
          185,
          185,
          185,
          193,
          185,
          188,
          193,
          185,
          185,
          198,
          191,
          188,
          193,
          193,
          193,
          185,
          185,
          198,
          198,
          188,
          183,
          191,
          188,
          183,
          193,
          185,
          185,
          193,
          193,
          193,
          185,
          198,
          185,
          188,
          196,
          198,
          198,
          183,
          170,
          188,
          183,
          183,
          191,
          193,
          196,
          188,
          183,
          185,
          180,
          193,
          185,
          188,
          185,
          185,
          170,
          193,
          193,
          185,
          193,
          188,
          183,
          185,
          null,
          198,
          188,
          183,
          196,
          183,
          183,
          191,
          178,
          183,
          183,
          183,
          196,
          193,
          185,
          173,
          188,
          196,
          180,
          193,
          185,
          196,
          185,
          185,
          180,
          185,
          183,
          185,
          193,
          180,
          185,
          185,
          null,
          193,
          198,
          185,
          198,
          185,
          183,
          198,
          193,
          188,
          185,
          183,
          185,
          193,
          198,
          193,
          188,
          188,
          188,
          196,
          185,
          183,
          188,
          185,
          188,
          188,
          193,
          198,
          198,
          193,
          185,
          188,
          191,
          188,
          188,
          188,
          188,
          196,
          185,
          178,
          185,
          183,
          196,
          188,
          185,
          183,
          185,
          null,
          188,
          188,
          183,
          185,
          193,
          183,
          198,
          185,
          198,
          193,
          191,
          185,
          188,
          188,
          183,
          191,
          185,
          196,
          183,
          188,
          183,
          196,
          185,
          178,
          185,
          196,
          196,
          188,
          185,
          183,
          183,
          170,
          196,
          178,
          185,
          185,
          193,
          183,
          180,
          178,
          188,
          185,
          191,
          183,
          191,
          183,
          183,
          191,
          188,
          198,
          198,
          188,
          198,
          198,
          188,
          193,
          183,
          198,
          198,
          183,
          183,
          188,
          193,
          193,
          183,
          198,
          188,
          201,
          183,
          185,
          185,
          183,
          183,
          183,
          193,
          180,
          185,
          185,
          185,
          185,
          185,
          185,
          188,
          193,
          185,
          185,
          185,
          191,
          185,
          170,
          188,
          null,
          185,
          183,
          183,
          196,
          185,
          183,
          191,
          185,
          170,
          185,
          180,
          185,
          191,
          183,
          185,
          185,
          null,
          185,
          188,
          178,
          178,
          191,
          196,
          170,
          185,
          183,
          193,
          188,
          188,
          null,
          183,
          183,
          185,
          188,
          196,
          198,
          175,
          183,
          196,
          191,
          188,
          178,
          188,
          185,
          193,
          null,
          193,
          185,
          193,
          196,
          193,
          185,
          198,
          180,
          185,
          185,
          193,
          185,
          183,
          188,
          191,
          188,
          188,
          198,
          178,
          185,
          188,
          188,
          185,
          196,
          183,
          170,
          185,
          185,
          185,
          185,
          185,
          185,
          188,
          178,
          191,
          170,
          193,
          188,
          183,
          185,
          196,
          198,
          196,
          191,
          188,
          185,
          null,
          185,
          193,
          198,
          180,
          193,
          183,
          191,
          188,
          198,
          188,
          188,
          196,
          170,
          185,
          185,
          185,
          191,
          193,
          188,
          185,
          198,
          191,
          185,
          185,
          198,
          183,
          188,
          198,
          196,
          170,
          185,
          193,
          188,
          198,
          185,
          183,
          198,
          196,
          185,
          188,
          183,
          198,
          188,
          183,
          188,
          185,
          185,
          188,
          185,
          185,
          188,
          183,
          185,
          183,
          193,
          185,
          185,
          188,
          185,
          183,
          185,
          183,
          183,
          191,
          185,
          185,
          185,
          183,
          188,
          185,
          191,
          180,
          188,
          183,
          188,
          183,
          185,
          185,
          188,
          183,
          191,
          185,
          null,
          180,
          185,
          198,
          188,
          null,
          185,
          191,
          183,
          null,
          183,
          180,
          183,
          null,
          198,
          183,
          191,
          198,
          198,
          188,
          185,
          198,
          188,
          193,
          183,
          185,
          198,
          null,
          188,
          185,
          193,
          191,
          183,
          185,
          185,
          180,
          198,
          191,
          null,
          183,
          188,
          185,
          183,
          185,
          193,
          193,
          191,
          188,
          196,
          196,
          183,
          183,
          196,
          183,
          191,
          185,
          183,
          196,
          null,
          183,
          183,
          183,
          191,
          185,
          null,
          183,
          196,
          null,
          180,
          183,
          180,
          191,
          183,
          191,
          185,
          170,
          170,
          185,
          196,
          170,
          188,
          185,
          196,
          191,
          178,
          170,
          188,
          185,
          185,
          196,
          183,
          191,
          191,
          178,
          170,
          183,
          188,
          185,
          188,
          193,
          185,
          196,
          185,
          183,
          185,
          185,
          188,
          188,
          173,
          198,
          185,
          183,
          183,
          null,
          null,
          null,
          null,
          null,
          null,
          null,
          183
         ]
        },
        {
         "marker": {
          "color": "yellow"
         },
         "nbinsx": 10,
         "opacity": 0.6,
         "type": "histogram",
         "x": [
          180,
          180,
          188,
          183,
          191,
          185,
          185,
          170,
          185,
          null,
          185,
          185,
          180,
          185,
          190,
          180,
          193,
          185,
          173,
          191,
          183,
          185,
          196,
          185,
          183,
          183,
          188,
          188,
          185,
          185,
          180,
          185,
          185,
          196,
          188,
          null,
          170,
          183,
          185,
          185,
          183,
          183,
          178,
          191,
          170,
          185,
          185,
          193,
          178,
          185,
          183,
          188,
          180,
          180,
          185,
          198,
          185,
          180,
          170,
          188,
          180,
          178,
          188,
          185,
          185,
          191,
          185,
          178,
          183,
          null,
          191,
          183,
          170,
          185,
          185,
          173,
          188,
          196,
          185,
          183,
          183,
          185,
          185,
          185,
          183,
          196,
          183,
          170,
          183,
          193,
          188,
          180,
          185,
          185,
          170,
          183,
          null,
          185,
          183,
          185,
          188,
          183,
          188,
          185,
          185,
          183,
          185,
          191,
          185,
          185,
          null,
          178,
          183,
          191,
          185,
          170,
          185,
          183,
          185,
          185,
          185,
          183,
          null,
          178,
          null,
          191,
          196,
          185,
          175,
          175,
          185,
          191,
          180,
          170,
          183,
          180,
          185,
          188,
          null,
          196,
          null,
          193,
          178,
          183,
          185,
          183,
          188,
          191,
          206,
          180,
          185,
          185,
          180,
          185,
          183,
          193,
          188,
          null,
          188,
          183,
          183,
          191,
          180,
          185,
          185,
          180,
          183,
          191,
          175,
          185,
          183,
          188,
          193,
          173,
          null,
          188,
          185,
          183,
          183,
          183,
          196,
          193,
          185,
          185,
          null,
          185,
          178,
          198,
          196,
          191,
          198,
          193,
          null,
          185,
          188,
          193,
          185,
          198,
          193,
          193,
          188,
          196,
          198,
          196,
          198,
          183,
          185,
          198,
          null,
          185,
          191,
          170,
          191,
          183,
          185,
          185,
          183,
          193,
          183,
          188,
          183,
          188,
          196,
          185,
          178,
          null,
          183,
          188,
          170,
          180,
          188,
          185,
          196,
          188,
          198,
          185,
          196,
          175,
          183,
          190,
          188,
          188,
          188,
          null,
          188,
          188,
          180,
          185,
          193,
          175,
          185,
          183,
          185,
          188,
          183,
          183,
          188,
          183,
          198,
          188,
          170,
          188,
          185,
          185,
          185,
          196,
          188,
          null,
          null,
          183,
          198,
          191,
          178,
          180,
          170,
          null,
          185,
          183,
          185,
          193,
          180,
          180,
          196,
          178,
          188,
          183,
          178,
          null,
          null,
          188,
          183,
          183,
          188,
          185,
          null,
          188,
          183,
          193,
          185,
          null,
          180,
          185,
          193,
          191,
          198,
          196,
          null,
          185,
          196,
          188,
          183,
          188,
          191,
          188,
          183,
          170,
          183,
          193,
          191,
          188,
          180,
          null,
          188,
          183,
          178,
          188,
          185,
          188,
          172,
          null,
          183,
          null,
          175,
          196,
          188,
          185,
          185,
          183,
          185,
          185,
          183,
          180,
          193,
          188,
          191,
          185,
          null,
          183,
          173,
          193,
          188,
          185,
          198,
          191,
          193,
          193,
          198,
          188,
          183,
          183,
          185,
          185,
          193,
          198,
          188,
          196,
          183,
          170,
          183,
          193,
          196,
          185,
          180,
          188,
          185,
          170,
          185,
          188,
          183,
          null,
          188,
          183,
          196,
          183,
          183,
          191,
          178,
          183,
          183,
          188,
          196,
          185,
          185,
          173,
          188,
          196,
          193,
          null,
          185,
          196,
          185,
          175,
          180,
          185,
          183,
          183,
          185,
          180,
          185,
          188,
          185,
          193,
          188,
          183,
          170,
          180,
          196,
          196,
          183,
          198,
          196,
          196,
          191,
          185,
          null,
          188,
          193,
          191,
          178,
          191,
          null,
          183,
          198,
          178,
          185,
          188,
          185,
          196,
          191,
          178,
          188,
          188,
          183,
          190,
          185,
          183,
          193,
          188,
          185,
          193,
          188,
          188,
          196,
          188,
          188,
          188,
          198,
          185,
          191,
          188,
          188,
          185,
          178,
          196,
          185,
          183,
          null,
          183,
          185,
          183,
          185,
          191,
          188,
          183,
          185,
          196,
          183,
          183,
          183,
          193,
          196,
          183,
          185,
          196,
          null,
          188,
          185,
          198,
          183,
          170,
          196,
          178,
          185,
          183,
          193,
          196,
          180,
          178,
          188,
          185,
          170,
          183,
          191,
          183,
          175,
          185,
          188,
          null,
          193,
          185,
          188,
          183,
          180,
          190,
          183,
          null,
          185,
          180,
          185,
          185,
          185,
          185,
          183,
          196,
          198,
          178,
          198,
          196,
          185,
          196,
          188,
          180,
          188,
          170,
          185,
          183,
          180,
          178,
          null,
          188,
          198,
          193,
          183,
          183,
          183,
          193,
          183,
          188,
          201,
          185,
          185,
          183,
          183,
          180,
          180,
          180,
          185,
          196,
          196,
          null,
          183,
          191,
          null,
          185,
          185,
          196,
          185,
          185,
          188,
          193,
          185,
          191,
          170,
          null,
          183,
          183,
          196,
          183,
          185,
          185,
          180,
          185,
          193,
          185,
          178,
          193,
          170,
          173,
          183,
          188,
          188,
          193,
          null,
          null,
          183,
          191,
          185,
          183,
          196,
          191,
          196,
          193,
          183,
          198,
          178,
          185,
          206,
          null,
          198,
          null,
          196,
          185,
          185,
          183,
          null,
          185,
          180,
          180,
          188,
          188,
          175,
          null,
          183,
          183,
          188,
          201,
          170,
          null,
          183,
          183,
          183,
          185,
          188,
          180,
          180,
          185,
          193,
          188,
          180,
          196,
          183,
          183,
          196,
          183,
          173,
          193,
          173,
          196,
          185,
          180,
          185,
          191,
          193,
          183,
          183,
          191,
          198,
          191,
          183,
          null,
          185,
          178,
          196,
          185,
          183,
          188,
          null,
          183,
          188,
          175,
          183,
          188,
          178,
          193,
          193,
          193,
          196,
          185,
          185,
          185,
          185,
          188,
          188,
          178,
          185,
          185,
          183,
          185,
          185,
          185,
          188,
          178,
          170,
          183,
          196,
          196,
          188,
          null,
          193,
          180,
          193,
          191,
          188,
          188,
          185,
          185,
          191,
          185,
          191,
          185,
          198,
          188,
          170,
          193,
          198,
          185,
          196,
          185,
          198,
          183,
          188,
          185,
          183,
          183,
          193,
          185,
          185,
          183,
          183,
          191,
          185,
          183,
          191,
          191,
          180,
          191,
          null,
          183,
          185,
          183,
          193,
          191,
          196,
          178,
          188,
          196,
          185,
          183,
          185,
          185,
          191,
          null,
          180,
          198,
          null,
          185,
          183,
          183,
          183,
          null,
          183,
          191,
          183,
          180,
          196,
          188,
          180,
          183,
          170,
          183,
          null,
          178,
          191,
          185,
          188,
          185,
          193,
          183,
          null,
          185,
          191,
          185,
          180,
          191,
          183,
          185,
          183,
          193,
          188,
          170,
          180,
          191,
          183,
          178,
          185,
          183,
          185,
          196,
          183,
          185,
          183,
          185,
          null,
          185,
          185,
          183,
          183,
          191,
          185,
          null,
          183,
          183,
          185,
          null,
          191,
          180,
          180,
          191,
          191,
          185,
          183,
          198,
          null,
          185,
          185,
          183,
          null,
          196,
          null,
          188,
          183,
          null,
          185,
          196,
          188,
          191,
          178,
          185,
          196,
          183,
          191,
          191,
          183,
          185,
          188,
          193,
          193,
          null,
          185,
          196,
          null,
          185,
          185,
          183,
          183,
          185,
          180,
          183,
          183,
          185,
          185,
          185,
          175,
          175,
          185,
          185,
          196,
          196,
          null,
          null,
          null,
          null,
          193,
          null,
          null,
          183,
          null,
          null
         ]
        }
       ],
       "layout": {
        "bargap": 0,
        "barmode": "overlay",
        "template": {
         "data": {
          "bar": [
           {
            "error_x": {
             "color": "#2a3f5f"
            },
            "error_y": {
             "color": "#2a3f5f"
            },
            "marker": {
             "line": {
              "color": "#E5ECF6",
              "width": 0.5
             },
             "pattern": {
              "fillmode": "overlay",
              "size": 10,
              "solidity": 0.2
             }
            },
            "type": "bar"
           }
          ],
          "barpolar": [
           {
            "marker": {
             "line": {
              "color": "#E5ECF6",
              "width": 0.5
             },
             "pattern": {
              "fillmode": "overlay",
              "size": 10,
              "solidity": 0.2
             }
            },
            "type": "barpolar"
           }
          ],
          "carpet": [
           {
            "aaxis": {
             "endlinecolor": "#2a3f5f",
             "gridcolor": "white",
             "linecolor": "white",
             "minorgridcolor": "white",
             "startlinecolor": "#2a3f5f"
            },
            "baxis": {
             "endlinecolor": "#2a3f5f",
             "gridcolor": "white",
             "linecolor": "white",
             "minorgridcolor": "white",
             "startlinecolor": "#2a3f5f"
            },
            "type": "carpet"
           }
          ],
          "choropleth": [
           {
            "colorbar": {
             "outlinewidth": 0,
             "ticks": ""
            },
            "type": "choropleth"
           }
          ],
          "contour": [
           {
            "colorbar": {
             "outlinewidth": 0,
             "ticks": ""
            },
            "colorscale": [
             [
              0,
              "#0d0887"
             ],
             [
              0.1111111111111111,
              "#46039f"
             ],
             [
              0.2222222222222222,
              "#7201a8"
             ],
             [
              0.3333333333333333,
              "#9c179e"
             ],
             [
              0.4444444444444444,
              "#bd3786"
             ],
             [
              0.5555555555555556,
              "#d8576b"
             ],
             [
              0.6666666666666666,
              "#ed7953"
             ],
             [
              0.7777777777777778,
              "#fb9f3a"
             ],
             [
              0.8888888888888888,
              "#fdca26"
             ],
             [
              1,
              "#f0f921"
             ]
            ],
            "type": "contour"
           }
          ],
          "contourcarpet": [
           {
            "colorbar": {
             "outlinewidth": 0,
             "ticks": ""
            },
            "type": "contourcarpet"
           }
          ],
          "heatmap": [
           {
            "colorbar": {
             "outlinewidth": 0,
             "ticks": ""
            },
            "colorscale": [
             [
              0,
              "#0d0887"
             ],
             [
              0.1111111111111111,
              "#46039f"
             ],
             [
              0.2222222222222222,
              "#7201a8"
             ],
             [
              0.3333333333333333,
              "#9c179e"
             ],
             [
              0.4444444444444444,
              "#bd3786"
             ],
             [
              0.5555555555555556,
              "#d8576b"
             ],
             [
              0.6666666666666666,
              "#ed7953"
             ],
             [
              0.7777777777777778,
              "#fb9f3a"
             ],
             [
              0.8888888888888888,
              "#fdca26"
             ],
             [
              1,
              "#f0f921"
             ]
            ],
            "type": "heatmap"
           }
          ],
          "heatmapgl": [
           {
            "colorbar": {
             "outlinewidth": 0,
             "ticks": ""
            },
            "colorscale": [
             [
              0,
              "#0d0887"
             ],
             [
              0.1111111111111111,
              "#46039f"
             ],
             [
              0.2222222222222222,
              "#7201a8"
             ],
             [
              0.3333333333333333,
              "#9c179e"
             ],
             [
              0.4444444444444444,
              "#bd3786"
             ],
             [
              0.5555555555555556,
              "#d8576b"
             ],
             [
              0.6666666666666666,
              "#ed7953"
             ],
             [
              0.7777777777777778,
              "#fb9f3a"
             ],
             [
              0.8888888888888888,
              "#fdca26"
             ],
             [
              1,
              "#f0f921"
             ]
            ],
            "type": "heatmapgl"
           }
          ],
          "histogram": [
           {
            "marker": {
             "pattern": {
              "fillmode": "overlay",
              "size": 10,
              "solidity": 0.2
             }
            },
            "type": "histogram"
           }
          ],
          "histogram2d": [
           {
            "colorbar": {
             "outlinewidth": 0,
             "ticks": ""
            },
            "colorscale": [
             [
              0,
              "#0d0887"
             ],
             [
              0.1111111111111111,
              "#46039f"
             ],
             [
              0.2222222222222222,
              "#7201a8"
             ],
             [
              0.3333333333333333,
              "#9c179e"
             ],
             [
              0.4444444444444444,
              "#bd3786"
             ],
             [
              0.5555555555555556,
              "#d8576b"
             ],
             [
              0.6666666666666666,
              "#ed7953"
             ],
             [
              0.7777777777777778,
              "#fb9f3a"
             ],
             [
              0.8888888888888888,
              "#fdca26"
             ],
             [
              1,
              "#f0f921"
             ]
            ],
            "type": "histogram2d"
           }
          ],
          "histogram2dcontour": [
           {
            "colorbar": {
             "outlinewidth": 0,
             "ticks": ""
            },
            "colorscale": [
             [
              0,
              "#0d0887"
             ],
             [
              0.1111111111111111,
              "#46039f"
             ],
             [
              0.2222222222222222,
              "#7201a8"
             ],
             [
              0.3333333333333333,
              "#9c179e"
             ],
             [
              0.4444444444444444,
              "#bd3786"
             ],
             [
              0.5555555555555556,
              "#d8576b"
             ],
             [
              0.6666666666666666,
              "#ed7953"
             ],
             [
              0.7777777777777778,
              "#fb9f3a"
             ],
             [
              0.8888888888888888,
              "#fdca26"
             ],
             [
              1,
              "#f0f921"
             ]
            ],
            "type": "histogram2dcontour"
           }
          ],
          "mesh3d": [
           {
            "colorbar": {
             "outlinewidth": 0,
             "ticks": ""
            },
            "type": "mesh3d"
           }
          ],
          "parcoords": [
           {
            "line": {
             "colorbar": {
              "outlinewidth": 0,
              "ticks": ""
             }
            },
            "type": "parcoords"
           }
          ],
          "pie": [
           {
            "automargin": true,
            "type": "pie"
           }
          ],
          "scatter": [
           {
            "fillpattern": {
             "fillmode": "overlay",
             "size": 10,
             "solidity": 0.2
            },
            "type": "scatter"
           }
          ],
          "scatter3d": [
           {
            "line": {
             "colorbar": {
              "outlinewidth": 0,
              "ticks": ""
             }
            },
            "marker": {
             "colorbar": {
              "outlinewidth": 0,
              "ticks": ""
             }
            },
            "type": "scatter3d"
           }
          ],
          "scattercarpet": [
           {
            "marker": {
             "colorbar": {
              "outlinewidth": 0,
              "ticks": ""
             }
            },
            "type": "scattercarpet"
           }
          ],
          "scattergeo": [
           {
            "marker": {
             "colorbar": {
              "outlinewidth": 0,
              "ticks": ""
             }
            },
            "type": "scattergeo"
           }
          ],
          "scattergl": [
           {
            "marker": {
             "colorbar": {
              "outlinewidth": 0,
              "ticks": ""
             }
            },
            "type": "scattergl"
           }
          ],
          "scattermapbox": [
           {
            "marker": {
             "colorbar": {
              "outlinewidth": 0,
              "ticks": ""
             }
            },
            "type": "scattermapbox"
           }
          ],
          "scatterpolar": [
           {
            "marker": {
             "colorbar": {
              "outlinewidth": 0,
              "ticks": ""
             }
            },
            "type": "scatterpolar"
           }
          ],
          "scatterpolargl": [
           {
            "marker": {
             "colorbar": {
              "outlinewidth": 0,
              "ticks": ""
             }
            },
            "type": "scatterpolargl"
           }
          ],
          "scatterternary": [
           {
            "marker": {
             "colorbar": {
              "outlinewidth": 0,
              "ticks": ""
             }
            },
            "type": "scatterternary"
           }
          ],
          "surface": [
           {
            "colorbar": {
             "outlinewidth": 0,
             "ticks": ""
            },
            "colorscale": [
             [
              0,
              "#0d0887"
             ],
             [
              0.1111111111111111,
              "#46039f"
             ],
             [
              0.2222222222222222,
              "#7201a8"
             ],
             [
              0.3333333333333333,
              "#9c179e"
             ],
             [
              0.4444444444444444,
              "#bd3786"
             ],
             [
              0.5555555555555556,
              "#d8576b"
             ],
             [
              0.6666666666666666,
              "#ed7953"
             ],
             [
              0.7777777777777778,
              "#fb9f3a"
             ],
             [
              0.8888888888888888,
              "#fdca26"
             ],
             [
              1,
              "#f0f921"
             ]
            ],
            "type": "surface"
           }
          ],
          "table": [
           {
            "cells": {
             "fill": {
              "color": "#EBF0F8"
             },
             "line": {
              "color": "white"
             }
            },
            "header": {
             "fill": {
              "color": "#C8D4E3"
             },
             "line": {
              "color": "white"
             }
            },
            "type": "table"
           }
          ]
         },
         "layout": {
          "annotationdefaults": {
           "arrowcolor": "#2a3f5f",
           "arrowhead": 0,
           "arrowwidth": 1
          },
          "autotypenumbers": "strict",
          "coloraxis": {
           "colorbar": {
            "outlinewidth": 0,
            "ticks": ""
           }
          },
          "colorscale": {
           "diverging": [
            [
             0,
             "#8e0152"
            ],
            [
             0.1,
             "#c51b7d"
            ],
            [
             0.2,
             "#de77ae"
            ],
            [
             0.3,
             "#f1b6da"
            ],
            [
             0.4,
             "#fde0ef"
            ],
            [
             0.5,
             "#f7f7f7"
            ],
            [
             0.6,
             "#e6f5d0"
            ],
            [
             0.7,
             "#b8e186"
            ],
            [
             0.8,
             "#7fbc41"
            ],
            [
             0.9,
             "#4d9221"
            ],
            [
             1,
             "#276419"
            ]
           ],
           "sequential": [
            [
             0,
             "#0d0887"
            ],
            [
             0.1111111111111111,
             "#46039f"
            ],
            [
             0.2222222222222222,
             "#7201a8"
            ],
            [
             0.3333333333333333,
             "#9c179e"
            ],
            [
             0.4444444444444444,
             "#bd3786"
            ],
            [
             0.5555555555555556,
             "#d8576b"
            ],
            [
             0.6666666666666666,
             "#ed7953"
            ],
            [
             0.7777777777777778,
             "#fb9f3a"
            ],
            [
             0.8888888888888888,
             "#fdca26"
            ],
            [
             1,
             "#f0f921"
            ]
           ],
           "sequentialminus": [
            [
             0,
             "#0d0887"
            ],
            [
             0.1111111111111111,
             "#46039f"
            ],
            [
             0.2222222222222222,
             "#7201a8"
            ],
            [
             0.3333333333333333,
             "#9c179e"
            ],
            [
             0.4444444444444444,
             "#bd3786"
            ],
            [
             0.5555555555555556,
             "#d8576b"
            ],
            [
             0.6666666666666666,
             "#ed7953"
            ],
            [
             0.7777777777777778,
             "#fb9f3a"
            ],
            [
             0.8888888888888888,
             "#fdca26"
            ],
            [
             1,
             "#f0f921"
            ]
           ]
          },
          "colorway": [
           "#636efa",
           "#EF553B",
           "#00cc96",
           "#ab63fa",
           "#FFA15A",
           "#19d3f3",
           "#FF6692",
           "#B6E880",
           "#FF97FF",
           "#FECB52"
          ],
          "font": {
           "color": "#2a3f5f"
          },
          "geo": {
           "bgcolor": "white",
           "lakecolor": "white",
           "landcolor": "#E5ECF6",
           "showlakes": true,
           "showland": true,
           "subunitcolor": "white"
          },
          "hoverlabel": {
           "align": "left"
          },
          "hovermode": "closest",
          "mapbox": {
           "style": "light"
          },
          "paper_bgcolor": "white",
          "plot_bgcolor": "#E5ECF6",
          "polar": {
           "angularaxis": {
            "gridcolor": "white",
            "linecolor": "white",
            "ticks": ""
           },
           "bgcolor": "#E5ECF6",
           "radialaxis": {
            "gridcolor": "white",
            "linecolor": "white",
            "ticks": ""
           }
          },
          "scene": {
           "xaxis": {
            "backgroundcolor": "#E5ECF6",
            "gridcolor": "white",
            "gridwidth": 2,
            "linecolor": "white",
            "showbackground": true,
            "ticks": "",
            "zerolinecolor": "white"
           },
           "yaxis": {
            "backgroundcolor": "#E5ECF6",
            "gridcolor": "white",
            "gridwidth": 2,
            "linecolor": "white",
            "showbackground": true,
            "ticks": "",
            "zerolinecolor": "white"
           },
           "zaxis": {
            "backgroundcolor": "#E5ECF6",
            "gridcolor": "white",
            "gridwidth": 2,
            "linecolor": "white",
            "showbackground": true,
            "ticks": "",
            "zerolinecolor": "white"
           }
          },
          "shapedefaults": {
           "line": {
            "color": "#2a3f5f"
           }
          },
          "ternary": {
           "aaxis": {
            "gridcolor": "white",
            "linecolor": "white",
            "ticks": ""
           },
           "baxis": {
            "gridcolor": "white",
            "linecolor": "white",
            "ticks": ""
           },
           "bgcolor": "#E5ECF6",
           "caxis": {
            "gridcolor": "white",
            "linecolor": "white",
            "ticks": ""
           }
          },
          "title": {
           "x": 0.05
          },
          "xaxis": {
           "automargin": true,
           "gridcolor": "white",
           "linecolor": "white",
           "ticks": "",
           "title": {
            "standoff": 15
           },
           "zerolinecolor": "white",
           "zerolinewidth": 2
          },
          "yaxis": {
           "automargin": true,
           "gridcolor": "white",
           "linecolor": "white",
           "ticks": "",
           "title": {
            "standoff": 15
           },
           "zerolinecolor": "white",
           "zerolinewidth": 2
          }
         }
        },
        "title": {
         "text": "Heights in cm VS Clay surface"
        },
        "xaxis": {
         "title": {
          "text": "Clay Surface"
         }
        },
        "yaxis": {
         "title": {
          "text": "Frequency"
         }
        }
       }
      }
     },
     "metadata": {},
     "output_type": "display_data"
    }
   ],
   "source": [
    "## visualisation of players height vs Clay surface\n",
    "fig = go.Figure()\n",
    "\n",
    "fig.add_trace(\n",
    "    go.Histogram(\n",
    "         x=clay_surface['winner_ht'],\n",
    "        marker=dict(color='brown'),\n",
    "         nbinsx=10,\n",
    "    )\n",
    ")\n",
    "\n",
    "fig.add_trace(\n",
    "    go.Histogram(\n",
    "        x=clay_surface['loser_ht'],\n",
    "        marker_color='yellow',\n",
    "         nbinsx=10,\n",
    "         opacity=0.6\n",
    "    )\n",
    ")\n",
    "\n",
    "fig.update_layout(\n",
    "    title='Heights in cm VS Clay surface',\n",
    "    xaxis=dict(title='Clay Surface'),\n",
    "    yaxis=dict(title='Frequency'),\n",
    "    barmode='overlay',\n",
    "    bargap=0\n",
    ")\n",
    "\n",
    "fig.show()"
   ]
  },
  {
   "cell_type": "code",
   "execution_count": 223,
   "id": "30d59b0d",
   "metadata": {},
   "outputs": [
    {
     "data": {
      "application/vnd.plotly.v1+json": {
       "config": {
        "plotlyServerURL": "https://plot.ly"
       },
       "data": [
        {
         "marker": {
          "color": "green"
         },
         "nbinsx": 10,
         "type": "histogram",
         "x": [
          188,
          183,
          188,
          183,
          null,
          188,
          188,
          183,
          183,
          178,
          null,
          188,
          183,
          188,
          188,
          183,
          183,
          196,
          178,
          null,
          196,
          188,
          196,
          188,
          188,
          188,
          196,
          188,
          193,
          188,
          193,
          196,
          188,
          188,
          185,
          193,
          196,
          183,
          185,
          188,
          188,
          193,
          185,
          193,
          185,
          180,
          183,
          191,
          185,
          183,
          185,
          183,
          188,
          185,
          196,
          188,
          196,
          183,
          188,
          196,
          198,
          198,
          183,
          188,
          188,
          196,
          188,
          198,
          198,
          198,
          188,
          185,
          183,
          188,
          193,
          188,
          196,
          196,
          193,
          191,
          188,
          198,
          185,
          198,
          193,
          185,
          185,
          183,
          185,
          196,
          183,
          185,
          185,
          188,
          196,
          188,
          183,
          183,
          185,
          185,
          185,
          185,
          188,
          185,
          188,
          196,
          183,
          188,
          183,
          170,
          183,
          193,
          185,
          null,
          null,
          185,
          201,
          183,
          201,
          193,
          183,
          201,
          193,
          193,
          188,
          183,
          178,
          196,
          201,
          193,
          191,
          193,
          188,
          183,
          185,
          178,
          183,
          196,
          180,
          201,
          193,
          185,
          191,
          185,
          185,
          185,
          178,
          185,
          183,
          185,
          178,
          183,
          185,
          193,
          183,
          183,
          183,
          185,
          178,
          183,
          183,
          196,
          198,
          193,
          183,
          188,
          183,
          183,
          null,
          170,
          185,
          183,
          178,
          198,
          198,
          180,
          196,
          183,
          188,
          180,
          193,
          188,
          183,
          188,
          183,
          185,
          198,
          183,
          180,
          188,
          185,
          185,
          196,
          185,
          188,
          201,
          183,
          198,
          null,
          188,
          190,
          193,
          188,
          170,
          188,
          191,
          191,
          196,
          183,
          193,
          185,
          178,
          178,
          185,
          185,
          183,
          183,
          183,
          188,
          185,
          191,
          180,
          196,
          183,
          191,
          188,
          185,
          183,
          null,
          196,
          196,
          183,
          183,
          188,
          185,
          198,
          198,
          196,
          188,
          188,
          183,
          185,
          198,
          188,
          185,
          185,
          201,
          183,
          188,
          193,
          188,
          191,
          191,
          183,
          185,
          185,
          185,
          183,
          188,
          180,
          196,
          191,
          185,
          196,
          183,
          188,
          185,
          196,
          188,
          185,
          198,
          185,
          201,
          193,
          188,
          191,
          185,
          185,
          188,
          196,
          196,
          188,
          185,
          185,
          198,
          201,
          188,
          185,
          188,
          188,
          185,
          198,
          188,
          188,
          185,
          188,
          185,
          183,
          null,
          183,
          206,
          null,
          188,
          183,
          185,
          206,
          178,
          null,
          203,
          188,
          183,
          183,
          null,
          206,
          178,
          180,
          183,
          null,
          null,
          203,
          188,
          183,
          183,
          null
         ]
        },
        {
         "marker": {
          "color": "brown"
         },
         "nbinsx": 10,
         "opacity": 0.6,
         "type": "histogram",
         "x": [
          183,
          null,
          188,
          183,
          178,
          183,
          188,
          198,
          196,
          188,
          196,
          196,
          188,
          188,
          196,
          185,
          null,
          183,
          193,
          null,
          198,
          183,
          196,
          175,
          178,
          185,
          180,
          193,
          196,
          188,
          185,
          183,
          185,
          193,
          193,
          185,
          180,
          191,
          183,
          185,
          183,
          185,
          201,
          193,
          185,
          188,
          191,
          196,
          196,
          196,
          180,
          193,
          185,
          178,
          188,
          183,
          198,
          198,
          188,
          188,
          198,
          188,
          185,
          193,
          196,
          193,
          191,
          185,
          193,
          180,
          196,
          183,
          193,
          183,
          201,
          183,
          201,
          188,
          185,
          185,
          185,
          185,
          193,
          178,
          183,
          183,
          196,
          185,
          188,
          188,
          183,
          185,
          185,
          185,
          188,
          183,
          170,
          193,
          null,
          null,
          196,
          183,
          188,
          185,
          188,
          175,
          196,
          183,
          190,
          178,
          183,
          185,
          null,
          183,
          188,
          198,
          183,
          193,
          193,
          188,
          178,
          196,
          191,
          193,
          183,
          185,
          183,
          180,
          null,
          185,
          183,
          185,
          185,
          185,
          180,
          183,
          193,
          188,
          178,
          null,
          185,
          null,
          180,
          185,
          178,
          183,
          183,
          193,
          183,
          183,
          193,
          183,
          196,
          198,
          188,
          198,
          null,
          170,
          185,
          null,
          188,
          null,
          191,
          191,
          183,
          185,
          188,
          196,
          null,
          185,
          188,
          196,
          188,
          185,
          null,
          196,
          191,
          180,
          183,
          196,
          180,
          null,
          185,
          193,
          183,
          null,
          null,
          null,
          180,
          188,
          185,
          191,
          183,
          null,
          183,
          183,
          185,
          196,
          191,
          198,
          null,
          185,
          183,
          183,
          191,
          175,
          170,
          180,
          178,
          193,
          188,
          185,
          185,
          183,
          175,
          193,
          180,
          188,
          185,
          null,
          170,
          191,
          178,
          183,
          196,
          193,
          185,
          206,
          180,
          188,
          185,
          188,
          185,
          185,
          183,
          178,
          180,
          183,
          180,
          193,
          188,
          183,
          183,
          180,
          185,
          196,
          188,
          198,
          null,
          190,
          170,
          188,
          196,
          193,
          178,
          178,
          183,
          183,
          185,
          191,
          183,
          188,
          183,
          null,
          196,
          183,
          198,
          198,
          188,
          183,
          188,
          185,
          183,
          188,
          191,
          183,
          185,
          183,
          180,
          191,
          185,
          183,
          196,
          188,
          185,
          193,
          191,
          185,
          196,
          196,
          185,
          201,
          185,
          188,
          198,
          188,
          188,
          null,
          206,
          188,
          185,
          178,
          203,
          183,
          null,
          178,
          180,
          183,
          null,
          188,
          183,
          null,
          185,
          183,
          null,
          188,
          180,
          198,
          185,
          null,
          null,
          null,
          null,
          null
         ]
        }
       ],
       "layout": {
        "barmode": "overlay",
        "template": {
         "data": {
          "bar": [
           {
            "error_x": {
             "color": "#2a3f5f"
            },
            "error_y": {
             "color": "#2a3f5f"
            },
            "marker": {
             "line": {
              "color": "#E5ECF6",
              "width": 0.5
             },
             "pattern": {
              "fillmode": "overlay",
              "size": 10,
              "solidity": 0.2
             }
            },
            "type": "bar"
           }
          ],
          "barpolar": [
           {
            "marker": {
             "line": {
              "color": "#E5ECF6",
              "width": 0.5
             },
             "pattern": {
              "fillmode": "overlay",
              "size": 10,
              "solidity": 0.2
             }
            },
            "type": "barpolar"
           }
          ],
          "carpet": [
           {
            "aaxis": {
             "endlinecolor": "#2a3f5f",
             "gridcolor": "white",
             "linecolor": "white",
             "minorgridcolor": "white",
             "startlinecolor": "#2a3f5f"
            },
            "baxis": {
             "endlinecolor": "#2a3f5f",
             "gridcolor": "white",
             "linecolor": "white",
             "minorgridcolor": "white",
             "startlinecolor": "#2a3f5f"
            },
            "type": "carpet"
           }
          ],
          "choropleth": [
           {
            "colorbar": {
             "outlinewidth": 0,
             "ticks": ""
            },
            "type": "choropleth"
           }
          ],
          "contour": [
           {
            "colorbar": {
             "outlinewidth": 0,
             "ticks": ""
            },
            "colorscale": [
             [
              0,
              "#0d0887"
             ],
             [
              0.1111111111111111,
              "#46039f"
             ],
             [
              0.2222222222222222,
              "#7201a8"
             ],
             [
              0.3333333333333333,
              "#9c179e"
             ],
             [
              0.4444444444444444,
              "#bd3786"
             ],
             [
              0.5555555555555556,
              "#d8576b"
             ],
             [
              0.6666666666666666,
              "#ed7953"
             ],
             [
              0.7777777777777778,
              "#fb9f3a"
             ],
             [
              0.8888888888888888,
              "#fdca26"
             ],
             [
              1,
              "#f0f921"
             ]
            ],
            "type": "contour"
           }
          ],
          "contourcarpet": [
           {
            "colorbar": {
             "outlinewidth": 0,
             "ticks": ""
            },
            "type": "contourcarpet"
           }
          ],
          "heatmap": [
           {
            "colorbar": {
             "outlinewidth": 0,
             "ticks": ""
            },
            "colorscale": [
             [
              0,
              "#0d0887"
             ],
             [
              0.1111111111111111,
              "#46039f"
             ],
             [
              0.2222222222222222,
              "#7201a8"
             ],
             [
              0.3333333333333333,
              "#9c179e"
             ],
             [
              0.4444444444444444,
              "#bd3786"
             ],
             [
              0.5555555555555556,
              "#d8576b"
             ],
             [
              0.6666666666666666,
              "#ed7953"
             ],
             [
              0.7777777777777778,
              "#fb9f3a"
             ],
             [
              0.8888888888888888,
              "#fdca26"
             ],
             [
              1,
              "#f0f921"
             ]
            ],
            "type": "heatmap"
           }
          ],
          "heatmapgl": [
           {
            "colorbar": {
             "outlinewidth": 0,
             "ticks": ""
            },
            "colorscale": [
             [
              0,
              "#0d0887"
             ],
             [
              0.1111111111111111,
              "#46039f"
             ],
             [
              0.2222222222222222,
              "#7201a8"
             ],
             [
              0.3333333333333333,
              "#9c179e"
             ],
             [
              0.4444444444444444,
              "#bd3786"
             ],
             [
              0.5555555555555556,
              "#d8576b"
             ],
             [
              0.6666666666666666,
              "#ed7953"
             ],
             [
              0.7777777777777778,
              "#fb9f3a"
             ],
             [
              0.8888888888888888,
              "#fdca26"
             ],
             [
              1,
              "#f0f921"
             ]
            ],
            "type": "heatmapgl"
           }
          ],
          "histogram": [
           {
            "marker": {
             "pattern": {
              "fillmode": "overlay",
              "size": 10,
              "solidity": 0.2
             }
            },
            "type": "histogram"
           }
          ],
          "histogram2d": [
           {
            "colorbar": {
             "outlinewidth": 0,
             "ticks": ""
            },
            "colorscale": [
             [
              0,
              "#0d0887"
             ],
             [
              0.1111111111111111,
              "#46039f"
             ],
             [
              0.2222222222222222,
              "#7201a8"
             ],
             [
              0.3333333333333333,
              "#9c179e"
             ],
             [
              0.4444444444444444,
              "#bd3786"
             ],
             [
              0.5555555555555556,
              "#d8576b"
             ],
             [
              0.6666666666666666,
              "#ed7953"
             ],
             [
              0.7777777777777778,
              "#fb9f3a"
             ],
             [
              0.8888888888888888,
              "#fdca26"
             ],
             [
              1,
              "#f0f921"
             ]
            ],
            "type": "histogram2d"
           }
          ],
          "histogram2dcontour": [
           {
            "colorbar": {
             "outlinewidth": 0,
             "ticks": ""
            },
            "colorscale": [
             [
              0,
              "#0d0887"
             ],
             [
              0.1111111111111111,
              "#46039f"
             ],
             [
              0.2222222222222222,
              "#7201a8"
             ],
             [
              0.3333333333333333,
              "#9c179e"
             ],
             [
              0.4444444444444444,
              "#bd3786"
             ],
             [
              0.5555555555555556,
              "#d8576b"
             ],
             [
              0.6666666666666666,
              "#ed7953"
             ],
             [
              0.7777777777777778,
              "#fb9f3a"
             ],
             [
              0.8888888888888888,
              "#fdca26"
             ],
             [
              1,
              "#f0f921"
             ]
            ],
            "type": "histogram2dcontour"
           }
          ],
          "mesh3d": [
           {
            "colorbar": {
             "outlinewidth": 0,
             "ticks": ""
            },
            "type": "mesh3d"
           }
          ],
          "parcoords": [
           {
            "line": {
             "colorbar": {
              "outlinewidth": 0,
              "ticks": ""
             }
            },
            "type": "parcoords"
           }
          ],
          "pie": [
           {
            "automargin": true,
            "type": "pie"
           }
          ],
          "scatter": [
           {
            "fillpattern": {
             "fillmode": "overlay",
             "size": 10,
             "solidity": 0.2
            },
            "type": "scatter"
           }
          ],
          "scatter3d": [
           {
            "line": {
             "colorbar": {
              "outlinewidth": 0,
              "ticks": ""
             }
            },
            "marker": {
             "colorbar": {
              "outlinewidth": 0,
              "ticks": ""
             }
            },
            "type": "scatter3d"
           }
          ],
          "scattercarpet": [
           {
            "marker": {
             "colorbar": {
              "outlinewidth": 0,
              "ticks": ""
             }
            },
            "type": "scattercarpet"
           }
          ],
          "scattergeo": [
           {
            "marker": {
             "colorbar": {
              "outlinewidth": 0,
              "ticks": ""
             }
            },
            "type": "scattergeo"
           }
          ],
          "scattergl": [
           {
            "marker": {
             "colorbar": {
              "outlinewidth": 0,
              "ticks": ""
             }
            },
            "type": "scattergl"
           }
          ],
          "scattermapbox": [
           {
            "marker": {
             "colorbar": {
              "outlinewidth": 0,
              "ticks": ""
             }
            },
            "type": "scattermapbox"
           }
          ],
          "scatterpolar": [
           {
            "marker": {
             "colorbar": {
              "outlinewidth": 0,
              "ticks": ""
             }
            },
            "type": "scatterpolar"
           }
          ],
          "scatterpolargl": [
           {
            "marker": {
             "colorbar": {
              "outlinewidth": 0,
              "ticks": ""
             }
            },
            "type": "scatterpolargl"
           }
          ],
          "scatterternary": [
           {
            "marker": {
             "colorbar": {
              "outlinewidth": 0,
              "ticks": ""
             }
            },
            "type": "scatterternary"
           }
          ],
          "surface": [
           {
            "colorbar": {
             "outlinewidth": 0,
             "ticks": ""
            },
            "colorscale": [
             [
              0,
              "#0d0887"
             ],
             [
              0.1111111111111111,
              "#46039f"
             ],
             [
              0.2222222222222222,
              "#7201a8"
             ],
             [
              0.3333333333333333,
              "#9c179e"
             ],
             [
              0.4444444444444444,
              "#bd3786"
             ],
             [
              0.5555555555555556,
              "#d8576b"
             ],
             [
              0.6666666666666666,
              "#ed7953"
             ],
             [
              0.7777777777777778,
              "#fb9f3a"
             ],
             [
              0.8888888888888888,
              "#fdca26"
             ],
             [
              1,
              "#f0f921"
             ]
            ],
            "type": "surface"
           }
          ],
          "table": [
           {
            "cells": {
             "fill": {
              "color": "#EBF0F8"
             },
             "line": {
              "color": "white"
             }
            },
            "header": {
             "fill": {
              "color": "#C8D4E3"
             },
             "line": {
              "color": "white"
             }
            },
            "type": "table"
           }
          ]
         },
         "layout": {
          "annotationdefaults": {
           "arrowcolor": "#2a3f5f",
           "arrowhead": 0,
           "arrowwidth": 1
          },
          "autotypenumbers": "strict",
          "coloraxis": {
           "colorbar": {
            "outlinewidth": 0,
            "ticks": ""
           }
          },
          "colorscale": {
           "diverging": [
            [
             0,
             "#8e0152"
            ],
            [
             0.1,
             "#c51b7d"
            ],
            [
             0.2,
             "#de77ae"
            ],
            [
             0.3,
             "#f1b6da"
            ],
            [
             0.4,
             "#fde0ef"
            ],
            [
             0.5,
             "#f7f7f7"
            ],
            [
             0.6,
             "#e6f5d0"
            ],
            [
             0.7,
             "#b8e186"
            ],
            [
             0.8,
             "#7fbc41"
            ],
            [
             0.9,
             "#4d9221"
            ],
            [
             1,
             "#276419"
            ]
           ],
           "sequential": [
            [
             0,
             "#0d0887"
            ],
            [
             0.1111111111111111,
             "#46039f"
            ],
            [
             0.2222222222222222,
             "#7201a8"
            ],
            [
             0.3333333333333333,
             "#9c179e"
            ],
            [
             0.4444444444444444,
             "#bd3786"
            ],
            [
             0.5555555555555556,
             "#d8576b"
            ],
            [
             0.6666666666666666,
             "#ed7953"
            ],
            [
             0.7777777777777778,
             "#fb9f3a"
            ],
            [
             0.8888888888888888,
             "#fdca26"
            ],
            [
             1,
             "#f0f921"
            ]
           ],
           "sequentialminus": [
            [
             0,
             "#0d0887"
            ],
            [
             0.1111111111111111,
             "#46039f"
            ],
            [
             0.2222222222222222,
             "#7201a8"
            ],
            [
             0.3333333333333333,
             "#9c179e"
            ],
            [
             0.4444444444444444,
             "#bd3786"
            ],
            [
             0.5555555555555556,
             "#d8576b"
            ],
            [
             0.6666666666666666,
             "#ed7953"
            ],
            [
             0.7777777777777778,
             "#fb9f3a"
            ],
            [
             0.8888888888888888,
             "#fdca26"
            ],
            [
             1,
             "#f0f921"
            ]
           ]
          },
          "colorway": [
           "#636efa",
           "#EF553B",
           "#00cc96",
           "#ab63fa",
           "#FFA15A",
           "#19d3f3",
           "#FF6692",
           "#B6E880",
           "#FF97FF",
           "#FECB52"
          ],
          "font": {
           "color": "#2a3f5f"
          },
          "geo": {
           "bgcolor": "white",
           "lakecolor": "white",
           "landcolor": "#E5ECF6",
           "showlakes": true,
           "showland": true,
           "subunitcolor": "white"
          },
          "hoverlabel": {
           "align": "left"
          },
          "hovermode": "closest",
          "mapbox": {
           "style": "light"
          },
          "paper_bgcolor": "white",
          "plot_bgcolor": "#E5ECF6",
          "polar": {
           "angularaxis": {
            "gridcolor": "white",
            "linecolor": "white",
            "ticks": ""
           },
           "bgcolor": "#E5ECF6",
           "radialaxis": {
            "gridcolor": "white",
            "linecolor": "white",
            "ticks": ""
           }
          },
          "scene": {
           "xaxis": {
            "backgroundcolor": "#E5ECF6",
            "gridcolor": "white",
            "gridwidth": 2,
            "linecolor": "white",
            "showbackground": true,
            "ticks": "",
            "zerolinecolor": "white"
           },
           "yaxis": {
            "backgroundcolor": "#E5ECF6",
            "gridcolor": "white",
            "gridwidth": 2,
            "linecolor": "white",
            "showbackground": true,
            "ticks": "",
            "zerolinecolor": "white"
           },
           "zaxis": {
            "backgroundcolor": "#E5ECF6",
            "gridcolor": "white",
            "gridwidth": 2,
            "linecolor": "white",
            "showbackground": true,
            "ticks": "",
            "zerolinecolor": "white"
           }
          },
          "shapedefaults": {
           "line": {
            "color": "#2a3f5f"
           }
          },
          "ternary": {
           "aaxis": {
            "gridcolor": "white",
            "linecolor": "white",
            "ticks": ""
           },
           "baxis": {
            "gridcolor": "white",
            "linecolor": "white",
            "ticks": ""
           },
           "bgcolor": "#E5ECF6",
           "caxis": {
            "gridcolor": "white",
            "linecolor": "white",
            "ticks": ""
           }
          },
          "title": {
           "x": 0.05
          },
          "xaxis": {
           "automargin": true,
           "gridcolor": "white",
           "linecolor": "white",
           "ticks": "",
           "title": {
            "standoff": 15
           },
           "zerolinecolor": "white",
           "zerolinewidth": 2
          },
          "yaxis": {
           "automargin": true,
           "gridcolor": "white",
           "linecolor": "white",
           "ticks": "",
           "title": {
            "standoff": 15
           },
           "zerolinecolor": "white",
           "zerolinewidth": 2
          }
         }
        },
        "title": {
         "text": "Heights in cm VS Grass surface"
        },
        "xaxis": {
         "title": {
          "text": "Grass Surface"
         }
        },
        "yaxis": {
         "title": {
          "text": "Frequency"
         }
        }
       }
      }
     },
     "metadata": {},
     "output_type": "display_data"
    }
   ],
   "source": [
    "## visualisation of players height vs Grass surface\n",
    "fig = go.Figure()\n",
    "\n",
    "fig.add_trace(\n",
    "    go.Histogram(\n",
    "         x=grass_surface['winner_ht'],\n",
    "        marker=dict(color='green'),\n",
    "         nbinsx=10,\n",
    "    )\n",
    ")\n",
    "\n",
    "fig.add_trace(\n",
    "    go.Histogram(\n",
    "        x=grass_surface['loser_ht'],\n",
    "        marker_color='brown',\n",
    "         nbinsx=10,\n",
    "         opacity=0.6\n",
    "    )\n",
    ")\n",
    "\n",
    "fig.update_layout(\n",
    "    title='Heights in cm VS Grass surface',\n",
    "    xaxis=dict(title='Grass Surface'),\n",
    "    yaxis=dict(title='Frequency'),\n",
    "    barmode='overlay',  # Overlay the histograms\n",
    ")\n",
    "\n",
    "fig.show()"
   ]
  },
  {
   "cell_type": "markdown",
   "id": "a92f8b8e",
   "metadata": {},
   "source": [
    "#### Inference \n",
    "From the graphs shown above, it is clear that individuals with heights between 185 and 190 had the highest percentage of victories. ."
   ]
  },
  {
   "cell_type": "markdown",
   "id": "1c30b398",
   "metadata": {},
   "source": [
    "### Report Summary \n",
    "\n",
    "In conclusion, we can learn a lot about the ATP matches that took place in 2023 from the facts provided here. These are just the fundamental analyses that we have provided in this document. With the aid of more advanced ML and Statistics models, we can extract much more detailed information from the data that may be used in useful ways."
   ]
  },
  {
   "cell_type": "markdown",
   "id": "e5e45832",
   "metadata": {},
   "source": []
  },
  {
   "cell_type": "markdown",
   "id": "12a107d8",
   "metadata": {},
   "source": [
    "### Contributers\n",
    "\n",
    "[ADITYA SRIRAM SESHADRI]('https://github.com/masked-user')\n",
    "\n",
    "[NITHARSHAN COIMBATORE VENKATESAN]('https://github.com/CVnitharshan?tab=repositories')\n",
    "\n",
    "[KARTHICK BALAJE GOPALAKRISHNAN ELANGO](https://github.com/kb2326')\n",
    "\n"
   ]
  },
  {
   "cell_type": "markdown",
   "id": "2e0467b1",
   "metadata": {},
   "source": []
  }
 ],
 "metadata": {
  "kernelspec": {
   "display_name": "Python 3 (ipykernel)",
   "language": "python",
   "name": "python3"
  },
  "language_info": {
   "codemirror_mode": {
    "name": "ipython",
    "version": 3
   },
   "file_extension": ".py",
   "mimetype": "text/x-python",
   "name": "python",
   "nbconvert_exporter": "python",
   "pygments_lexer": "ipython3",
   "version": "3.11.5"
  }
 },
 "nbformat": 4,
 "nbformat_minor": 5
}
